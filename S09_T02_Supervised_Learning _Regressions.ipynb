{
 "cells": [
  {
   "cell_type": "markdown",
   "id": "12484bcc",
   "metadata": {},
   "source": [
    "<div class=\"alert alert-block alert-info\"><font size=\"6\"><b>Sprint 9 Task 2 (S09_T02)</b></font><h6 align=\"right\"><u>Author: Alberto Achaval</u></h6></div>"
   ]
  },
  {
   "cell_type": "markdown",
   "id": "d34973d7",
   "metadata": {},
   "source": [
    "## <SPAN style=color:#1F618D>Level 1</SPAN>"
   ]
  },
  {
   "cell_type": "markdown",
   "id": "5c649935",
   "metadata": {},
   "source": [
    "### <SPAN style=color:#1F618D>Practice 1</SPAN>"
   ]
  },
  {
   "cell_type": "markdown",
   "id": "734adda7",
   "metadata": {},
   "source": [
    "<SPAN style=color:#1F618D>Create at least three different regression models to try to predict form DelayedFlights.csv the flight delay (ArrDelay) as best you can.</SPAN>"
   ]
  },
  {
   "cell_type": "markdown",
   "id": "389efed9",
   "metadata": {},
   "source": [
    "Step 1 we **import** all the required libraries:"
   ]
  },
  {
   "cell_type": "code",
   "execution_count": 1,
   "id": "c5ad5abd",
   "metadata": {},
   "outputs": [],
   "source": [
    "import pandas as pd\n",
    "import numpy as np\n",
    "import matplotlib.pyplot as plt\n",
    "import seaborn as sns\n",
    "from scipy import stats\n"
   ]
  },
  {
   "cell_type": "markdown",
   "id": "683f76be",
   "metadata": {},
   "source": [
    "Now let's load a copy of the dataset with all the data wrangling we did in S09 T01. "
   ]
  },
  {
   "cell_type": "code",
   "execution_count": 2,
   "id": "11b1a699",
   "metadata": {
    "scrolled": false
   },
   "outputs": [],
   "source": [
    "flight = pd.read_csv('../S09 T01 Training and Test Sets/flights_S09T02.csv')\n",
    "pd.set_option('display.max_columns', 30)"
   ]
  },
  {
   "cell_type": "code",
   "execution_count": 3,
   "id": "474c3021",
   "metadata": {},
   "outputs": [
    {
     "data": {
      "text/html": [
       "<div>\n",
       "<style scoped>\n",
       "    .dataframe tbody tr th:only-of-type {\n",
       "        vertical-align: middle;\n",
       "    }\n",
       "\n",
       "    .dataframe tbody tr th {\n",
       "        vertical-align: top;\n",
       "    }\n",
       "\n",
       "    .dataframe thead th {\n",
       "        text-align: right;\n",
       "    }\n",
       "</style>\n",
       "<table border=\"1\" class=\"dataframe\">\n",
       "  <thead>\n",
       "    <tr style=\"text-align: right;\">\n",
       "      <th></th>\n",
       "      <th>count</th>\n",
       "      <th>mean</th>\n",
       "      <th>std</th>\n",
       "      <th>min</th>\n",
       "      <th>25%</th>\n",
       "      <th>50%</th>\n",
       "      <th>75%</th>\n",
       "      <th>max</th>\n",
       "    </tr>\n",
       "  </thead>\n",
       "  <tbody>\n",
       "    <tr>\n",
       "      <th>DepTime</th>\n",
       "      <td>1936758.0</td>\n",
       "      <td>1518.534117</td>\n",
       "      <td>450.485255</td>\n",
       "      <td>1.0</td>\n",
       "      <td>1203.0</td>\n",
       "      <td>1545.0</td>\n",
       "      <td>1900.0</td>\n",
       "      <td>2400.0</td>\n",
       "    </tr>\n",
       "    <tr>\n",
       "      <th>CRSDepTime</th>\n",
       "      <td>1936758.0</td>\n",
       "      <td>1467.472644</td>\n",
       "      <td>424.766800</td>\n",
       "      <td>0.0</td>\n",
       "      <td>1135.0</td>\n",
       "      <td>1510.0</td>\n",
       "      <td>1815.0</td>\n",
       "      <td>2359.0</td>\n",
       "    </tr>\n",
       "    <tr>\n",
       "      <th>ArrTime</th>\n",
       "      <td>1936758.0</td>\n",
       "      <td>1610.114540</td>\n",
       "      <td>547.824622</td>\n",
       "      <td>1.0</td>\n",
       "      <td>1316.0</td>\n",
       "      <td>1715.0</td>\n",
       "      <td>2030.0</td>\n",
       "      <td>2400.0</td>\n",
       "    </tr>\n",
       "    <tr>\n",
       "      <th>CRSArrTime</th>\n",
       "      <td>1936758.0</td>\n",
       "      <td>1634.224641</td>\n",
       "      <td>464.634712</td>\n",
       "      <td>0.0</td>\n",
       "      <td>1325.0</td>\n",
       "      <td>1705.0</td>\n",
       "      <td>2014.0</td>\n",
       "      <td>2400.0</td>\n",
       "    </tr>\n",
       "    <tr>\n",
       "      <th>FlightNum</th>\n",
       "      <td>1936758.0</td>\n",
       "      <td>2184.263236</td>\n",
       "      <td>1944.702250</td>\n",
       "      <td>1.0</td>\n",
       "      <td>610.0</td>\n",
       "      <td>1543.0</td>\n",
       "      <td>3422.0</td>\n",
       "      <td>9742.0</td>\n",
       "    </tr>\n",
       "    <tr>\n",
       "      <th>ActualElapsedTime</th>\n",
       "      <td>1936758.0</td>\n",
       "      <td>133.370061</td>\n",
       "      <td>72.056587</td>\n",
       "      <td>14.0</td>\n",
       "      <td>80.0</td>\n",
       "      <td>116.0</td>\n",
       "      <td>165.0</td>\n",
       "      <td>1114.0</td>\n",
       "    </tr>\n",
       "    <tr>\n",
       "      <th>CRSElapsedTime</th>\n",
       "      <td>1936758.0</td>\n",
       "      <td>134.301390</td>\n",
       "      <td>71.339263</td>\n",
       "      <td>-25.0</td>\n",
       "      <td>82.0</td>\n",
       "      <td>116.0</td>\n",
       "      <td>165.0</td>\n",
       "      <td>660.0</td>\n",
       "    </tr>\n",
       "    <tr>\n",
       "      <th>AirTime</th>\n",
       "      <td>1936758.0</td>\n",
       "      <td>108.329285</td>\n",
       "      <td>68.637281</td>\n",
       "      <td>0.0</td>\n",
       "      <td>58.0</td>\n",
       "      <td>90.0</td>\n",
       "      <td>137.0</td>\n",
       "      <td>1091.0</td>\n",
       "    </tr>\n",
       "    <tr>\n",
       "      <th>ArrDelay</th>\n",
       "      <td>1936758.0</td>\n",
       "      <td>42.259842</td>\n",
       "      <td>56.779219</td>\n",
       "      <td>-109.0</td>\n",
       "      <td>9.0</td>\n",
       "      <td>25.0</td>\n",
       "      <td>56.0</td>\n",
       "      <td>2461.0</td>\n",
       "    </tr>\n",
       "    <tr>\n",
       "      <th>DepDelay</th>\n",
       "      <td>1936758.0</td>\n",
       "      <td>43.185176</td>\n",
       "      <td>53.402502</td>\n",
       "      <td>6.0</td>\n",
       "      <td>12.0</td>\n",
       "      <td>24.0</td>\n",
       "      <td>53.0</td>\n",
       "      <td>2467.0</td>\n",
       "    </tr>\n",
       "    <tr>\n",
       "      <th>Distance</th>\n",
       "      <td>1936758.0</td>\n",
       "      <td>765.686159</td>\n",
       "      <td>574.479653</td>\n",
       "      <td>11.0</td>\n",
       "      <td>338.0</td>\n",
       "      <td>606.0</td>\n",
       "      <td>998.0</td>\n",
       "      <td>4962.0</td>\n",
       "    </tr>\n",
       "    <tr>\n",
       "      <th>TaxiIn</th>\n",
       "      <td>1936758.0</td>\n",
       "      <td>6.815401</td>\n",
       "      <td>5.274665</td>\n",
       "      <td>0.0</td>\n",
       "      <td>4.0</td>\n",
       "      <td>6.0</td>\n",
       "      <td>8.0</td>\n",
       "      <td>240.0</td>\n",
       "    </tr>\n",
       "    <tr>\n",
       "      <th>TaxiOut</th>\n",
       "      <td>1936758.0</td>\n",
       "      <td>18.233303</td>\n",
       "      <td>14.339238</td>\n",
       "      <td>0.0</td>\n",
       "      <td>10.0</td>\n",
       "      <td>14.0</td>\n",
       "      <td>21.0</td>\n",
       "      <td>422.0</td>\n",
       "    </tr>\n",
       "    <tr>\n",
       "      <th>CarrierDelay</th>\n",
       "      <td>1936758.0</td>\n",
       "      <td>18.912688</td>\n",
       "      <td>39.740433</td>\n",
       "      <td>0.0</td>\n",
       "      <td>0.0</td>\n",
       "      <td>6.0</td>\n",
       "      <td>22.0</td>\n",
       "      <td>2436.0</td>\n",
       "    </tr>\n",
       "    <tr>\n",
       "      <th>WeatherDelay</th>\n",
       "      <td>1936758.0</td>\n",
       "      <td>3.300700</td>\n",
       "      <td>19.029746</td>\n",
       "      <td>0.0</td>\n",
       "      <td>0.0</td>\n",
       "      <td>0.0</td>\n",
       "      <td>0.0</td>\n",
       "      <td>1352.0</td>\n",
       "    </tr>\n",
       "    <tr>\n",
       "      <th>NASDelay</th>\n",
       "      <td>1936758.0</td>\n",
       "      <td>13.483762</td>\n",
       "      <td>30.027674</td>\n",
       "      <td>0.0</td>\n",
       "      <td>0.0</td>\n",
       "      <td>2.0</td>\n",
       "      <td>13.0</td>\n",
       "      <td>1357.0</td>\n",
       "    </tr>\n",
       "    <tr>\n",
       "      <th>SecurityDelay</th>\n",
       "      <td>1936758.0</td>\n",
       "      <td>0.094614</td>\n",
       "      <td>1.886774</td>\n",
       "      <td>0.0</td>\n",
       "      <td>0.0</td>\n",
       "      <td>0.0</td>\n",
       "      <td>0.0</td>\n",
       "      <td>392.0</td>\n",
       "    </tr>\n",
       "    <tr>\n",
       "      <th>LateAircraftDelay</th>\n",
       "      <td>1936758.0</td>\n",
       "      <td>24.245341</td>\n",
       "      <td>37.878379</td>\n",
       "      <td>0.0</td>\n",
       "      <td>0.0</td>\n",
       "      <td>11.0</td>\n",
       "      <td>32.0</td>\n",
       "      <td>1316.0</td>\n",
       "    </tr>\n",
       "  </tbody>\n",
       "</table>\n",
       "</div>"
      ],
      "text/plain": [
       "                       count         mean          std    min     25%     50%  \\\n",
       "DepTime            1936758.0  1518.534117   450.485255    1.0  1203.0  1545.0   \n",
       "CRSDepTime         1936758.0  1467.472644   424.766800    0.0  1135.0  1510.0   \n",
       "ArrTime            1936758.0  1610.114540   547.824622    1.0  1316.0  1715.0   \n",
       "CRSArrTime         1936758.0  1634.224641   464.634712    0.0  1325.0  1705.0   \n",
       "FlightNum          1936758.0  2184.263236  1944.702250    1.0   610.0  1543.0   \n",
       "ActualElapsedTime  1936758.0   133.370061    72.056587   14.0    80.0   116.0   \n",
       "CRSElapsedTime     1936758.0   134.301390    71.339263  -25.0    82.0   116.0   \n",
       "AirTime            1936758.0   108.329285    68.637281    0.0    58.0    90.0   \n",
       "ArrDelay           1936758.0    42.259842    56.779219 -109.0     9.0    25.0   \n",
       "DepDelay           1936758.0    43.185176    53.402502    6.0    12.0    24.0   \n",
       "Distance           1936758.0   765.686159   574.479653   11.0   338.0   606.0   \n",
       "TaxiIn             1936758.0     6.815401     5.274665    0.0     4.0     6.0   \n",
       "TaxiOut            1936758.0    18.233303    14.339238    0.0    10.0    14.0   \n",
       "CarrierDelay       1936758.0    18.912688    39.740433    0.0     0.0     6.0   \n",
       "WeatherDelay       1936758.0     3.300700    19.029746    0.0     0.0     0.0   \n",
       "NASDelay           1936758.0    13.483762    30.027674    0.0     0.0     2.0   \n",
       "SecurityDelay      1936758.0     0.094614     1.886774    0.0     0.0     0.0   \n",
       "LateAircraftDelay  1936758.0    24.245341    37.878379    0.0     0.0    11.0   \n",
       "\n",
       "                      75%     max  \n",
       "DepTime            1900.0  2400.0  \n",
       "CRSDepTime         1815.0  2359.0  \n",
       "ArrTime            2030.0  2400.0  \n",
       "CRSArrTime         2014.0  2400.0  \n",
       "FlightNum          3422.0  9742.0  \n",
       "ActualElapsedTime   165.0  1114.0  \n",
       "CRSElapsedTime      165.0   660.0  \n",
       "AirTime             137.0  1091.0  \n",
       "ArrDelay             56.0  2461.0  \n",
       "DepDelay             53.0  2467.0  \n",
       "Distance            998.0  4962.0  \n",
       "TaxiIn                8.0   240.0  \n",
       "TaxiOut              21.0   422.0  \n",
       "CarrierDelay         22.0  2436.0  \n",
       "WeatherDelay          0.0  1352.0  \n",
       "NASDelay             13.0  1357.0  \n",
       "SecurityDelay         0.0   392.0  \n",
       "LateAircraftDelay    32.0  1316.0  "
      ]
     },
     "execution_count": 3,
     "metadata": {},
     "output_type": "execute_result"
    }
   ],
   "source": [
    "flight.describe().transpose()"
   ]
  },
  {
   "cell_type": "code",
   "execution_count": 4,
   "id": "f6582494",
   "metadata": {},
   "outputs": [
    {
     "name": "stdout",
     "output_type": "stream",
     "text": [
      "<class 'pandas.core.frame.DataFrame'>\n",
      "RangeIndex: 1936758 entries, 0 to 1936757\n",
      "Data columns (total 27 columns):\n",
      " #   Column             Dtype \n",
      "---  ------             ----- \n",
      " 0   Date               object\n",
      " 1   DayOfWeek          object\n",
      " 2   DepTime            int64 \n",
      " 3   CRSDepTime         int64 \n",
      " 4   ArrTime            int64 \n",
      " 5   CRSArrTime         int64 \n",
      " 6   UniqueCarrier      object\n",
      " 7   FlightNum          int64 \n",
      " 8   TailNum            object\n",
      " 9   ActualElapsedTime  int64 \n",
      " 10  CRSElapsedTime     int64 \n",
      " 11  AirTime            int64 \n",
      " 12  ArrDelay           int64 \n",
      " 13  DepDelay           int64 \n",
      " 14  Origin             object\n",
      " 15  Dest               object\n",
      " 16  Distance           int64 \n",
      " 17  TaxiIn             int64 \n",
      " 18  TaxiOut            int64 \n",
      " 19  Cancelled          object\n",
      " 20  CancellationCode   object\n",
      " 21  Diverted           object\n",
      " 22  CarrierDelay       int64 \n",
      " 23  WeatherDelay       int64 \n",
      " 24  NASDelay           int64 \n",
      " 25  SecurityDelay      int64 \n",
      " 26  LateAircraftDelay  int64 \n",
      "dtypes: int64(18), object(9)\n",
      "memory usage: 399.0+ MB\n"
     ]
    }
   ],
   "source": [
    "flight.info()"
   ]
  },
  {
   "cell_type": "code",
   "execution_count": 5,
   "id": "59e44b24",
   "metadata": {},
   "outputs": [],
   "source": [
    "flight = flight.drop(['FlightNum', 'TailNum'], axis=1) # we don't need these columns"
   ]
  },
  {
   "cell_type": "markdown",
   "id": "1571a89d",
   "metadata": {},
   "source": [
    "In order to solve this practice and be able to rerun code faster, I'm going to take a sample from data and do hypotesys testing to verify that mean of DepDelay is equal in sample and population with 95% a level of confidence.  "
   ]
  },
  {
   "cell_type": "code",
   "execution_count": 6,
   "id": "2d90eab0",
   "metadata": {},
   "outputs": [
    {
     "name": "stdout",
     "output_type": "stream",
     "text": [
      "The two tailed P-value is 0.23\n",
      "The null hypothesis cannot be rejected\n"
     ]
    }
   ],
   "source": [
    "popmean = flight.ArrDelay.mean()\n",
    "x = flight.ArrDelay.sample(10000, random_state = 7)\n",
    "alpha = 0.005\n",
    "\n",
    "result = stats.ttest_1samp(x, popmean, alternative='two-sided')\n",
    "print(f'The two tailed P-value is {round(result[1],3)}')\n",
    "\n",
    "if result[1] < alpha: \n",
    "    print(\"The null hypothesis can be rejected\")\n",
    "else:\n",
    "    print(\"The null hypothesis cannot be rejected\")"
   ]
  },
  {
   "cell_type": "markdown",
   "id": "d40b751f",
   "metadata": {},
   "source": [
    " We will use flights dataset with a sample of 100.00 observations from now onwards."
   ]
  },
  {
   "cell_type": "code",
   "execution_count": 7,
   "id": "3057c617",
   "metadata": {},
   "outputs": [],
   "source": [
    "flights = flight.sample(10000, random_state = 7).reset_index(drop = True) # we use flights dataset from now onwards"
   ]
  },
  {
   "cell_type": "markdown",
   "id": "95a0e4f7",
   "metadata": {},
   "source": [
    "<u>**Variable descriptions:**</u>   \n",
    "\n",
    "1. **Year:** 2008 \n",
    "2. **Month:** 1-12 \n",
    "3. **DayofMonth:** 1-31 \n",
    "4. **DayOfWeek:** 1 (Monday) - 7 (Sunday) \n",
    "5. **DepTime:** actual departure time (local, hhmm) \n",
    "6. **CRSDepTime:** scheduled departure time (local, hhmm) \n",
    "7. **ArrTime:** actual arrival time (local, hhmm) \n",
    "8. **CRSArrTime:** scheduled arrival time (local, hhmm) \n",
    "9. **UniqueCarrier:** unique carrier code \n",
    "10. **FlightNum:** flight number \n",
    "11. **TailNum:** plane tail number \n",
    "12. **ActualElapsedTime:** in minutes \n",
    "13. **CRSElapsedTime:** in minutes \n",
    "14. **AirTime:** in minutes \n",
    "15. **ArrDelay:** arrival delay, in minutes \n",
    "16. **DepDelay:** departure delay, in minutes \n",
    "17. **Origin:** origin IATA airport code \n",
    "18. **Dest:** destination IATA airport code \n",
    "19. **Distance:** in miles \n",
    "20. **TaxiIn:** taxi in time, in minutes \n",
    "21. **TaxiOut:** taxi out time in minutes \n",
    "22. **Cancelled:** was the flight cancelled? 1 = yes, 0 = no\n",
    "23. **CancellationCode:** reason for cancellation (A = carrier, B = weather, C = NAS, D = security) \n",
    "24. **Diverted:** 1 = yes, 0 = no \n",
    "25. **CarrierDelay:** in minutes \n",
    "26. **WeatherDelay:** in minutes \n",
    "27. **NASDelay:** in minutes \n",
    "28. **SecurityDelay:** in minutes \n",
    "29. **LateAircraftDelay:** in minutes\n",
    "\n",
    "Source: https://dataverse.harvard.edu/dataset.xhtml?persistentId=doi:10.7910/DVN/HG7NV7\n"
   ]
  },
  {
   "cell_type": "markdown",
   "id": "a8bb415e",
   "metadata": {},
   "source": [
    "Now we are going to split the dataset between independent features, called (x), and dependent variable called (y) in order to Train and Test the model. In this case the dependent variable is **ArrDelay**."
   ]
  },
  {
   "cell_type": "code",
   "execution_count": 8,
   "id": "2c29b5c5",
   "metadata": {},
   "outputs": [],
   "source": [
    "from sklearn.model_selection import train_test_split\n",
    "\n",
    "x = flights.drop(['ArrDelay'], axis = 'columns')\n",
    "y = pd.DataFrame(flights.ArrDelay)\n",
    "\n",
    "x_train, x_test, y_train, y_test = train_test_split(x, y, test_size = 0.2, random_state = 7) # 80%-20% proportion"
   ]
  },
  {
   "cell_type": "code",
   "execution_count": 9,
   "id": "0bea4429",
   "metadata": {},
   "outputs": [
    {
     "data": {
      "text/plain": [
       "((8000, 24), (2000, 24), (8000, 1), (2000, 1))"
      ]
     },
     "execution_count": 9,
     "metadata": {},
     "output_type": "execute_result"
    }
   ],
   "source": [
    "x_train.shape, x_test.shape, y_train.shape, y_test.shape"
   ]
  },
  {
   "cell_type": "markdown",
   "id": "a46c130d",
   "metadata": {},
   "source": [
    "Now we have the data splited into Tran And Test as we need it for modalization."
   ]
  },
  {
   "cell_type": "markdown",
   "id": "779fb52e",
   "metadata": {},
   "source": [
    "### **First model: Simple Linear Regression**"
   ]
  },
  {
   "cell_type": "markdown",
   "id": "70f77354",
   "metadata": {},
   "source": [
    "To start modelling we could check wich variables are correlated to our target variable **ArrDelay**. From previous Sprint S09 T01 we had this correlation matrix:"
   ]
  },
  {
   "attachments": {
    "Correlation%20Matrix.png": {
     "image/png": "[encoded data removed]"
    }
   },
   "cell_type": "markdown",
   "id": "3864979a",
   "metadata": {},
   "source": [
    "![Correlation%20Matrix.png](attachment:Correlation%20Matrix.png)"
   ]
  },
  {
   "cell_type": "markdown",
   "id": "d9e442dc",
   "metadata": {},
   "source": [
    "Correlation between target variable **ArrDelay** and **DepDelay** is very strong, **0,95**. Scatter plot below shows this correlation. Let's use DepDelay to predict."
   ]
  },
  {
   "cell_type": "code",
   "execution_count": 10,
   "id": "631447d0",
   "metadata": {
    "scrolled": false
   },
   "outputs": [
    {
     "data": {
      "image/png": "[encoded data removed]",
      "text/plain": [
       "<Figure size 1008x360 with 1 Axes>"
      ]
     },
     "metadata": {
      "needs_background": "light"
     },
     "output_type": "display_data"
    }
   ],
   "source": [
    "fig, ax = plt.subplots(figsize = (14, 5))\n",
    "plt.scatter(x_train.DepDelay, y_train.ArrDelay, color = 'green', alpha = .2)\n",
    "\n",
    "plt.title('Correlation ArrDelay & DepDelay')\n",
    "plt.xlabel('DepDelay')\n",
    "plt.ylabel('ArrDelay')\n",
    "plt.show()"
   ]
  },
  {
   "cell_type": "markdown",
   "id": "67335518",
   "metadata": {},
   "source": [
    "Strongly correlated variables."
   ]
  },
  {
   "cell_type": "code",
   "execution_count": 11,
   "id": "8d444a10",
   "metadata": {},
   "outputs": [],
   "source": [
    "import statsmodels.api as sm"
   ]
  },
  {
   "cell_type": "code",
   "execution_count": 12,
   "id": "7d5067fc",
   "metadata": {
    "scrolled": false
   },
   "outputs": [
    {
     "name": "stderr",
     "output_type": "stream",
     "text": [
      "C:\\Users\\AlbertoAR\\anaconda3\\lib\\site-packages\\statsmodels\\tsa\\tsatools.py:142: FutureWarning: In a future version of pandas all arguments of concat except for the argument 'objs' will be keyword-only\n",
      "  x = pd.concat(x[::order], 1)\n"
     ]
    }
   ],
   "source": [
    "x_train_const = sm.add_constant(data = x_train.DepDelay) # add constant term"
   ]
  },
  {
   "cell_type": "code",
   "execution_count": 13,
   "id": "18b8d3a1",
   "metadata": {},
   "outputs": [],
   "source": [
    "slr_model = sm.OLS(y_train, x_train_const).fit()"
   ]
  },
  {
   "cell_type": "code",
   "execution_count": 14,
   "id": "6670c624",
   "metadata": {},
   "outputs": [
    {
     "data": {
      "text/html": [
       "<table class=\"simpletable\">\n",
       "<caption>OLS Regression Results</caption>\n",
       "<tr>\n",
       "  <th>Dep. Variable:</th>        <td>ArrDelay</td>     <th>  R-squared:         </th> <td>   0.904</td> \n",
       "</tr>\n",
       "<tr>\n",
       "  <th>Model:</th>                   <td>OLS</td>       <th>  Adj. R-squared:    </th> <td>   0.904</td> \n",
       "</tr>\n",
       "<tr>\n",
       "  <th>Method:</th>             <td>Least Squares</td>  <th>  F-statistic:       </th> <td>7.528e+04</td>\n",
       "</tr>\n",
       "<tr>\n",
       "  <th>Date:</th>             <td>Tue, 19 Apr 2022</td> <th>  Prob (F-statistic):</th>  <td>  0.00</td>  \n",
       "</tr>\n",
       "<tr>\n",
       "  <th>Time:</th>                 <td>16:04:11</td>     <th>  Log-Likelihood:    </th> <td> -34520.</td> \n",
       "</tr>\n",
       "<tr>\n",
       "  <th>No. Observations:</th>      <td>  8000</td>      <th>  AIC:               </th> <td>6.904e+04</td>\n",
       "</tr>\n",
       "<tr>\n",
       "  <th>Df Residuals:</th>          <td>  7998</td>      <th>  BIC:               </th> <td>6.906e+04</td>\n",
       "</tr>\n",
       "<tr>\n",
       "  <th>Df Model:</th>              <td>     1</td>      <th>                     </th>     <td> </td>    \n",
       "</tr>\n",
       "<tr>\n",
       "  <th>Covariance Type:</th>      <td>nonrobust</td>    <th>                     </th>     <td> </td>    \n",
       "</tr>\n",
       "</table>\n",
       "<table class=\"simpletable\">\n",
       "<tr>\n",
       "      <td></td>        <th>coef</th>     <th>std err</th>      <th>t</th>      <th>P>|t|</th>  <th>[0.025</th>    <th>0.975]</th>  \n",
       "</tr>\n",
       "<tr>\n",
       "  <th>const</th>    <td>   -0.7955</td> <td>    0.259</td> <td>   -3.077</td> <td> 0.002</td> <td>   -1.302</td> <td>   -0.289</td>\n",
       "</tr>\n",
       "<tr>\n",
       "  <th>DepDelay</th> <td>    1.0079</td> <td>    0.004</td> <td>  274.380</td> <td> 0.000</td> <td>    1.001</td> <td>    1.015</td>\n",
       "</tr>\n",
       "</table>\n",
       "<table class=\"simpletable\">\n",
       "<tr>\n",
       "  <th>Omnibus:</th>       <td>4107.674</td> <th>  Durbin-Watson:     </th>  <td>   2.008</td> \n",
       "</tr>\n",
       "<tr>\n",
       "  <th>Prob(Omnibus):</th>  <td> 0.000</td>  <th>  Jarque-Bera (JB):  </th> <td>168406.593</td>\n",
       "</tr>\n",
       "<tr>\n",
       "  <th>Skew:</th>           <td> 1.781</td>  <th>  Prob(JB):          </th>  <td>    0.00</td> \n",
       "</tr>\n",
       "<tr>\n",
       "  <th>Kurtosis:</th>       <td>25.193</td>  <th>  Cond. No.          </th>  <td>    89.9</td> \n",
       "</tr>\n",
       "</table><br/><br/>Notes:<br/>[1] Standard Errors assume that the covariance matrix of the errors is correctly specified."
      ],
      "text/plain": [
       "<class 'statsmodels.iolib.summary.Summary'>\n",
       "\"\"\"\n",
       "                            OLS Regression Results                            \n",
       "==============================================================================\n",
       "Dep. Variable:               ArrDelay   R-squared:                       0.904\n",
       "Model:                            OLS   Adj. R-squared:                  0.904\n",
       "Method:                 Least Squares   F-statistic:                 7.528e+04\n",
       "Date:                Tue, 19 Apr 2022   Prob (F-statistic):               0.00\n",
       "Time:                        16:04:11   Log-Likelihood:                -34520.\n",
       "No. Observations:                8000   AIC:                         6.904e+04\n",
       "Df Residuals:                    7998   BIC:                         6.906e+04\n",
       "Df Model:                           1                                         \n",
       "Covariance Type:            nonrobust                                         \n",
       "==============================================================================\n",
       "                 coef    std err          t      P>|t|      [0.025      0.975]\n",
       "------------------------------------------------------------------------------\n",
       "const         -0.7955      0.259     -3.077      0.002      -1.302      -0.289\n",
       "DepDelay       1.0079      0.004    274.380      0.000       1.001       1.015\n",
       "==============================================================================\n",
       "Omnibus:                     4107.674   Durbin-Watson:                   2.008\n",
       "Prob(Omnibus):                  0.000   Jarque-Bera (JB):           168406.593\n",
       "Skew:                           1.781   Prob(JB):                         0.00\n",
       "Kurtosis:                      25.193   Cond. No.                         89.9\n",
       "==============================================================================\n",
       "\n",
       "Notes:\n",
       "[1] Standard Errors assume that the covariance matrix of the errors is correctly specified.\n",
       "\"\"\""
      ]
     },
     "execution_count": 14,
     "metadata": {},
     "output_type": "execute_result"
    }
   ],
   "source": [
    "slr_model.summary()"
   ]
  },
  {
   "cell_type": "markdown",
   "id": "9209aae1",
   "metadata": {},
   "source": [
    "Summary interpretation:\n",
    "\n",
    "* **Constant term:** The constant terms is the intercept of the regression line. In regression we omits some independent variables that do not have much impact on the dependent variable, the intercept tells the average value of these omitted variables and noise present in model.  \n",
    "    \n",
    "    \n",
    "* **Coefficient term:** The coefficient term tells the change in Y for a unit change in X.  \n",
    "\n",
    "    \n",
    "* **Standard error of parameters:** Standard error is also called the standard deviation. Standard error shows the sampling variability of these parameters. \n",
    "  \n",
    "\n",
    "* **t – statistics:** In theory, we assume that error term follows the normal distribution and because of this the parameters b1  and  b2 also have normal distributions with variance calculated in **Standard error of parameters**.\n",
    "  \n",
    "\n",
    "* **p – values:** In theory, we read that p-value is the probability of obtaining the t statistics at least as contradictory to H0  as calculated from assuming that the null hypothesis is true. In the summary table, we can see that P-value for both parameters is equal to 0. This is not exactly 0, but since we have very larger statistics p-value will be approximately 0.We can reject the null hypothesis at almost every significance level.\n",
    "  \n",
    "\n",
    "* **Confidence intervals:** There are many approaches to test the hypothesis, including the p-value approach mentioned above. The confidence interval approach is one of them. 5% is the standard significance level (alpha) at which C.I’s are made. While calculating p values we rejected the null hypothesis we can see same in C.I as well. Since 0 does not lie in any of the intervals so we will reject the null hypothesis.  \n",
    "  \n",
    "\n",
    "* **R-squared:** It signifies the percentage variance explained.   \n",
    "  \n",
    "  \n",
    "* **Adj. R-squared:** This is the modified version of R-squared which is adjusted for the number of variables in the regression.   \n",
    "  \n",
    "\n",
    "* **Prob(F-Statistic):** This tells the overall significance of the regression. This is to assess the significance level of all the variables together unlike the t-statistic that measures it for individual variables. The null hypothesis under this is “all the regression coefficients are equal to zero”. Prob(F-statistics) depicts the probability of null hypothesis being true. \n",
    "\n",
    "\n"
   ]
  },
  {
   "cell_type": "markdown",
   "id": "5af88fc6",
   "metadata": {},
   "source": [
    "Overall and keeping in mind the summary and its description above, in this case the model predicts quite well. High R_squared, p_values almost 0 and C.I.'s do not contain 0. \n",
    "\n",
    "I will compare once we have all models."
   ]
  },
  {
   "cell_type": "code",
   "execution_count": 15,
   "id": "0fd0bd55",
   "metadata": {
    "scrolled": true
   },
   "outputs": [
    {
     "name": "stderr",
     "output_type": "stream",
     "text": [
      "C:\\Users\\AlbertoAR\\anaconda3\\lib\\site-packages\\statsmodels\\tsa\\tsatools.py:142: FutureWarning: In a future version of pandas all arguments of concat except for the argument 'objs' will be keyword-only\n",
      "  x = pd.concat(x[::order], 1)\n"
     ]
    }
   ],
   "source": [
    "x_test_const = sm.add_constant(data = x_test['DepDelay'])"
   ]
  },
  {
   "cell_type": "code",
   "execution_count": 16,
   "id": "f32eaa41",
   "metadata": {},
   "outputs": [],
   "source": [
    "ArrDelay_pred = slr_model.predict(x_test_const)\n",
    "ArrDelay_pred = pd.DataFrame(ArrDelay_pred, columns = ['ArrDelay_pred'])"
   ]
  },
  {
   "cell_type": "code",
   "execution_count": 17,
   "id": "7c31feff",
   "metadata": {},
   "outputs": [
    {
     "data": {
      "text/html": [
       "<div>\n",
       "<style scoped>\n",
       "    .dataframe tbody tr th:only-of-type {\n",
       "        vertical-align: middle;\n",
       "    }\n",
       "\n",
       "    .dataframe tbody tr th {\n",
       "        vertical-align: top;\n",
       "    }\n",
       "\n",
       "    .dataframe thead th {\n",
       "        text-align: right;\n",
       "    }\n",
       "</style>\n",
       "<table border=\"1\" class=\"dataframe\">\n",
       "  <thead>\n",
       "    <tr style=\"text-align: right;\">\n",
       "      <th></th>\n",
       "      <th>ArrDelay_pred</th>\n",
       "    </tr>\n",
       "  </thead>\n",
       "  <tbody>\n",
       "    <tr>\n",
       "      <th>1977</th>\n",
       "      <td>165.504241</td>\n",
       "    </tr>\n",
       "    <tr>\n",
       "      <th>3880</th>\n",
       "      <td>19.362027</td>\n",
       "    </tr>\n",
       "    <tr>\n",
       "      <th>52</th>\n",
       "      <td>8.275377</td>\n",
       "    </tr>\n",
       "    <tr>\n",
       "      <th>2551</th>\n",
       "      <td>10.291131</td>\n",
       "    </tr>\n",
       "    <tr>\n",
       "      <th>2246</th>\n",
       "      <td>5.251745</td>\n",
       "    </tr>\n",
       "    <tr>\n",
       "      <th>...</th>\n",
       "      <td>...</td>\n",
       "    </tr>\n",
       "    <tr>\n",
       "      <th>9505</th>\n",
       "      <td>34.480187</td>\n",
       "    </tr>\n",
       "    <tr>\n",
       "      <th>2836</th>\n",
       "      <td>6.259622</td>\n",
       "    </tr>\n",
       "    <tr>\n",
       "      <th>1169</th>\n",
       "      <td>17.346273</td>\n",
       "    </tr>\n",
       "    <tr>\n",
       "      <th>9929</th>\n",
       "      <td>5.251745</td>\n",
       "    </tr>\n",
       "    <tr>\n",
       "      <th>8486</th>\n",
       "      <td>19.362027</td>\n",
       "    </tr>\n",
       "  </tbody>\n",
       "</table>\n",
       "<p>2000 rows × 1 columns</p>\n",
       "</div>"
      ],
      "text/plain": [
       "      ArrDelay_pred\n",
       "1977     165.504241\n",
       "3880      19.362027\n",
       "52         8.275377\n",
       "2551      10.291131\n",
       "2246       5.251745\n",
       "...             ...\n",
       "9505      34.480187\n",
       "2836       6.259622\n",
       "1169      17.346273\n",
       "9929       5.251745\n",
       "8486      19.362027\n",
       "\n",
       "[2000 rows x 1 columns]"
      ]
     },
     "execution_count": 17,
     "metadata": {},
     "output_type": "execute_result"
    }
   ],
   "source": [
    "ArrDelay_pred"
   ]
  },
  {
   "cell_type": "code",
   "execution_count": 18,
   "id": "55308ac5",
   "metadata": {},
   "outputs": [
    {
     "data": {
      "text/html": [
       "<div>\n",
       "<style scoped>\n",
       "    .dataframe tbody tr th:only-of-type {\n",
       "        vertical-align: middle;\n",
       "    }\n",
       "\n",
       "    .dataframe tbody tr th {\n",
       "        vertical-align: top;\n",
       "    }\n",
       "\n",
       "    .dataframe thead th {\n",
       "        text-align: right;\n",
       "    }\n",
       "</style>\n",
       "<table border=\"1\" class=\"dataframe\">\n",
       "  <thead>\n",
       "    <tr style=\"text-align: right;\">\n",
       "      <th></th>\n",
       "      <th>ArrDelay</th>\n",
       "      <th>ArrDelay_pred</th>\n",
       "    </tr>\n",
       "  </thead>\n",
       "  <tbody>\n",
       "    <tr>\n",
       "      <th>1977</th>\n",
       "      <td>161</td>\n",
       "      <td>165.504241</td>\n",
       "    </tr>\n",
       "    <tr>\n",
       "      <th>3880</th>\n",
       "      <td>63</td>\n",
       "      <td>19.362027</td>\n",
       "    </tr>\n",
       "    <tr>\n",
       "      <th>52</th>\n",
       "      <td>11</td>\n",
       "      <td>8.275377</td>\n",
       "    </tr>\n",
       "    <tr>\n",
       "      <th>2551</th>\n",
       "      <td>33</td>\n",
       "      <td>10.291131</td>\n",
       "    </tr>\n",
       "    <tr>\n",
       "      <th>2246</th>\n",
       "      <td>7</td>\n",
       "      <td>5.251745</td>\n",
       "    </tr>\n",
       "    <tr>\n",
       "      <th>...</th>\n",
       "      <td>...</td>\n",
       "      <td>...</td>\n",
       "    </tr>\n",
       "    <tr>\n",
       "      <th>9505</th>\n",
       "      <td>24</td>\n",
       "      <td>34.480187</td>\n",
       "    </tr>\n",
       "    <tr>\n",
       "      <th>2836</th>\n",
       "      <td>-1</td>\n",
       "      <td>6.259622</td>\n",
       "    </tr>\n",
       "    <tr>\n",
       "      <th>1169</th>\n",
       "      <td>20</td>\n",
       "      <td>17.346273</td>\n",
       "    </tr>\n",
       "    <tr>\n",
       "      <th>9929</th>\n",
       "      <td>-13</td>\n",
       "      <td>5.251745</td>\n",
       "    </tr>\n",
       "    <tr>\n",
       "      <th>8486</th>\n",
       "      <td>20</td>\n",
       "      <td>19.362027</td>\n",
       "    </tr>\n",
       "  </tbody>\n",
       "</table>\n",
       "<p>2000 rows × 2 columns</p>\n",
       "</div>"
      ],
      "text/plain": [
       "      ArrDelay  ArrDelay_pred\n",
       "1977       161     165.504241\n",
       "3880        63      19.362027\n",
       "52          11       8.275377\n",
       "2551        33      10.291131\n",
       "2246         7       5.251745\n",
       "...        ...            ...\n",
       "9505        24      34.480187\n",
       "2836        -1       6.259622\n",
       "1169        20      17.346273\n",
       "9929       -13       5.251745\n",
       "8486        20      19.362027\n",
       "\n",
       "[2000 rows x 2 columns]"
      ]
     },
     "execution_count": 18,
     "metadata": {},
     "output_type": "execute_result"
    }
   ],
   "source": [
    "compare = pd.concat([y_test, ArrDelay_pred], axis = 'columns')\n",
    "compare"
   ]
  },
  {
   "cell_type": "markdown",
   "id": "c6dae78b",
   "metadata": {},
   "source": [
    "Let's calculate the Mean Squared Error (MSE) between ArrDelay and ArrDelay_pred to compare with the other models.\n",
    "\n",
    "* **The Mean squared error (MSE):** represents the error of the estimator or predictive model created based on the given set of observations in the sample. Intuitively, the MSE is used to represent the penalty of the model for each of the predictions. In other words, it can be used to represent the cost associated with the prediction. And, the squared penalties are advantageous because they exaggerate the difference between the true value and the predicted value. Two or more regression models created using a given sample of data can be compared based on their MSE. **The lesser the MSE, the better the regression model is**. When the linear regression model is trained using a given set of observations, the model with the least mean sum of squares error (MSE) is selected as the best model."
   ]
  },
  {
   "cell_type": "code",
   "execution_count": 19,
   "id": "be7b86de",
   "metadata": {},
   "outputs": [],
   "source": [
    "from sklearn.metrics import mean_squared_error"
   ]
  },
  {
   "cell_type": "code",
   "execution_count": 20,
   "id": "ee7abbb0",
   "metadata": {},
   "outputs": [
    {
     "data": {
      "text/plain": [
       "288.6744252154141"
      ]
     },
     "execution_count": 20,
     "metadata": {},
     "output_type": "execute_result"
    }
   ],
   "source": [
    "MSE_slr = mean_squared_error(compare.ArrDelay, compare.ArrDelay_pred)\n",
    "MSE_slr"
   ]
  },
  {
   "cell_type": "code",
   "execution_count": 21,
   "id": "e51e78b8",
   "metadata": {},
   "outputs": [],
   "source": [
    "Rsq_slr = slr_model.rsquared"
   ]
  },
  {
   "cell_type": "code",
   "execution_count": 22,
   "id": "c50934a4",
   "metadata": {},
   "outputs": [
    {
     "data": {
      "text/plain": [
       "0.9039654798088952"
      ]
     },
     "execution_count": 22,
     "metadata": {},
     "output_type": "execute_result"
    }
   ],
   "source": [
    "Rsq_slr"
   ]
  },
  {
   "cell_type": "code",
   "execution_count": 23,
   "id": "075396e1",
   "metadata": {
    "scrolled": true
   },
   "outputs": [
    {
     "data": {
      "image/png": "[encoded data removed]",
      "text/plain": [
       "<Figure size 1008x360 with 1 Axes>"
      ]
     },
     "metadata": {
      "needs_background": "light"
     },
     "output_type": "display_data"
    }
   ],
   "source": [
    "fig, ax = plt.subplots(figsize = (14, 5))\n",
    "plt.scatter(x_train.DepDelay, y_train.ArrDelay, color = 'green', alpha = .2)\n",
    "plt.plot(x_test.DepDelay, ArrDelay_pred, c= 'red', linewidth = 2)\n",
    "\n",
    "plt.title('Simple Linear Regression Model')\n",
    "plt.xlabel('DepDelay')\n",
    "plt.ylabel('ArrDelay')\n",
    "plt.show()"
   ]
  },
  {
   "cell_type": "markdown",
   "id": "5477e92f",
   "metadata": {},
   "source": [
    "Graphically we see that regression line adjust well to scatter plot."
   ]
  },
  {
   "cell_type": "markdown",
   "id": "e1fb325e",
   "metadata": {},
   "source": [
    "### **Second model: Multiple Linear Regression**"
   ]
  },
  {
   "cell_type": "markdown",
   "id": "cd6e4c44",
   "metadata": {},
   "source": [
    "**Multicollinearity analysis**"
   ]
  },
  {
   "cell_type": "markdown",
   "id": "8346a102",
   "metadata": {},
   "source": [
    "Multicollinearity is a statistical concept where several independent variables in a model are correlated. Two variables are considered to be perfectly collinear if their correlation coefficient is +/- 1.0. Multicollinearity among independent variables will result in less reliable statistical inferences."
   ]
  },
  {
   "cell_type": "code",
   "execution_count": 24,
   "id": "bb5f2212",
   "metadata": {},
   "outputs": [],
   "source": [
    "from statsmodels.stats.outliers_influence import variance_inflation_factor"
   ]
  },
  {
   "cell_type": "code",
   "execution_count": 25,
   "id": "543a7968",
   "metadata": {},
   "outputs": [],
   "source": [
    "x_train_num = x_train.select_dtypes(include = ['int64']) # select numerical values"
   ]
  },
  {
   "cell_type": "code",
   "execution_count": 26,
   "id": "e7735951",
   "metadata": {},
   "outputs": [],
   "source": [
    "def vif(variables):\n",
    "    vif_data = pd.DataFrame() # Empty data frame\n",
    "    vif_data['feature'] = variables.columns # Include the columns name into dataframe\n",
    "    vif_data['Variance Inflation Factor(VIF)'] = [variance_inflation_factor(variables.values, i) for i in range(len(variables.columns))]\n",
    "    return vif_data"
   ]
  },
  {
   "cell_type": "code",
   "execution_count": 27,
   "id": "0c4a1ae4",
   "metadata": {},
   "outputs": [],
   "source": [
    "fetaures_vif = vif(x_train_num)"
   ]
  },
  {
   "cell_type": "code",
   "execution_count": 28,
   "id": "bcae30ae",
   "metadata": {},
   "outputs": [
    {
     "data": {
      "text/html": [
       "<div>\n",
       "<style scoped>\n",
       "    .dataframe tbody tr th:only-of-type {\n",
       "        vertical-align: middle;\n",
       "    }\n",
       "\n",
       "    .dataframe tbody tr th {\n",
       "        vertical-align: top;\n",
       "    }\n",
       "\n",
       "    .dataframe thead th {\n",
       "        text-align: right;\n",
       "    }\n",
       "</style>\n",
       "<table border=\"1\" class=\"dataframe\">\n",
       "  <thead>\n",
       "    <tr style=\"text-align: right;\">\n",
       "      <th></th>\n",
       "      <th>feature</th>\n",
       "      <th>Variance Inflation Factor(VIF)</th>\n",
       "    </tr>\n",
       "  </thead>\n",
       "  <tbody>\n",
       "    <tr>\n",
       "      <th>0</th>\n",
       "      <td>DepTime</td>\n",
       "      <td>57.792447</td>\n",
       "    </tr>\n",
       "    <tr>\n",
       "      <th>1</th>\n",
       "      <td>CRSDepTime</td>\n",
       "      <td>57.321820</td>\n",
       "    </tr>\n",
       "    <tr>\n",
       "      <th>2</th>\n",
       "      <td>ArrTime</td>\n",
       "      <td>14.450416</td>\n",
       "    </tr>\n",
       "    <tr>\n",
       "      <th>3</th>\n",
       "      <td>CRSArrTime</td>\n",
       "      <td>38.468507</td>\n",
       "    </tr>\n",
       "    <tr>\n",
       "      <th>4</th>\n",
       "      <td>ActualElapsedTime</td>\n",
       "      <td>11124.009560</td>\n",
       "    </tr>\n",
       "    <tr>\n",
       "      <th>5</th>\n",
       "      <td>CRSElapsedTime</td>\n",
       "      <td>187.818087</td>\n",
       "    </tr>\n",
       "    <tr>\n",
       "      <th>6</th>\n",
       "      <td>AirTime</td>\n",
       "      <td>8128.634221</td>\n",
       "    </tr>\n",
       "    <tr>\n",
       "      <th>7</th>\n",
       "      <td>DepDelay</td>\n",
       "      <td>5.025647</td>\n",
       "    </tr>\n",
       "    <tr>\n",
       "      <th>8</th>\n",
       "      <td>Distance</td>\n",
       "      <td>86.484537</td>\n",
       "    </tr>\n",
       "    <tr>\n",
       "      <th>9</th>\n",
       "      <td>TaxiIn</td>\n",
       "      <td>39.856310</td>\n",
       "    </tr>\n",
       "    <tr>\n",
       "      <th>10</th>\n",
       "      <td>TaxiOut</td>\n",
       "      <td>262.680566</td>\n",
       "    </tr>\n",
       "    <tr>\n",
       "      <th>11</th>\n",
       "      <td>CarrierDelay</td>\n",
       "      <td>2.454262</td>\n",
       "    </tr>\n",
       "    <tr>\n",
       "      <th>12</th>\n",
       "      <td>WeatherDelay</td>\n",
       "      <td>1.433068</td>\n",
       "    </tr>\n",
       "    <tr>\n",
       "      <th>13</th>\n",
       "      <td>NASDelay</td>\n",
       "      <td>2.111548</td>\n",
       "    </tr>\n",
       "    <tr>\n",
       "      <th>14</th>\n",
       "      <td>SecurityDelay</td>\n",
       "      <td>1.006348</td>\n",
       "    </tr>\n",
       "    <tr>\n",
       "      <th>15</th>\n",
       "      <td>LateAircraftDelay</td>\n",
       "      <td>2.921204</td>\n",
       "    </tr>\n",
       "  </tbody>\n",
       "</table>\n",
       "</div>"
      ],
      "text/plain": [
       "              feature  Variance Inflation Factor(VIF)\n",
       "0             DepTime                       57.792447\n",
       "1          CRSDepTime                       57.321820\n",
       "2             ArrTime                       14.450416\n",
       "3          CRSArrTime                       38.468507\n",
       "4   ActualElapsedTime                    11124.009560\n",
       "5      CRSElapsedTime                      187.818087\n",
       "6             AirTime                     8128.634221\n",
       "7            DepDelay                        5.025647\n",
       "8            Distance                       86.484537\n",
       "9              TaxiIn                       39.856310\n",
       "10            TaxiOut                      262.680566\n",
       "11       CarrierDelay                        2.454262\n",
       "12       WeatherDelay                        1.433068\n",
       "13           NASDelay                        2.111548\n",
       "14      SecurityDelay                        1.006348\n",
       "15  LateAircraftDelay                        2.921204"
      ]
     },
     "execution_count": 28,
     "metadata": {},
     "output_type": "execute_result"
    }
   ],
   "source": [
    "fetaures_vif"
   ]
  },
  {
   "cell_type": "markdown",
   "id": "955a0336",
   "metadata": {},
   "source": [
    "Some features with high VIF have a strong multicollinearity like **ActualElapsedTime** or **AirTime**. I'm going to keep those features with VIF < 5,5 (we got up to 5,5 to include **DepDelay**, otherwise we would go up to 5. I tested without DepDelay and models predicts poorly, R_squared = 0.65).\n",
    "\n",
    "A rule of thumb for interpreting the variance inflation factor:\n",
    "\n",
    "* 1 = not correlated.\n",
    "* Between 1 and 5 = moderately correlated.\n",
    "* Greater than 5 = highly correlated."
   ]
  },
  {
   "cell_type": "code",
   "execution_count": 29,
   "id": "9185b546",
   "metadata": {},
   "outputs": [],
   "source": [
    "features_sel = fetaures_vif[fetaures_vif['Variance Inflation Factor(VIF)'] < 5.5]['feature'].tolist()"
   ]
  },
  {
   "cell_type": "code",
   "execution_count": 30,
   "id": "e2fae39c",
   "metadata": {},
   "outputs": [],
   "source": [
    "x_train_mlr = x_train[features_sel]"
   ]
  },
  {
   "cell_type": "code",
   "execution_count": 31,
   "id": "2df5fed2",
   "metadata": {},
   "outputs": [
    {
     "name": "stderr",
     "output_type": "stream",
     "text": [
      "C:\\Users\\AlbertoAR\\anaconda3\\lib\\site-packages\\statsmodels\\tsa\\tsatools.py:142: FutureWarning: In a future version of pandas all arguments of concat except for the argument 'objs' will be keyword-only\n",
      "  x = pd.concat(x[::order], 1)\n"
     ]
    }
   ],
   "source": [
    "x_train_const = sm.add_constant(x_train_mlr)"
   ]
  },
  {
   "cell_type": "code",
   "execution_count": 32,
   "id": "12aee63a",
   "metadata": {},
   "outputs": [],
   "source": [
    "mlr_model = sm.OLS(y_train.ArrDelay, x_train_const).fit()"
   ]
  },
  {
   "cell_type": "code",
   "execution_count": 33,
   "id": "85731404",
   "metadata": {},
   "outputs": [
    {
     "data": {
      "text/html": [
       "<table class=\"simpletable\">\n",
       "<caption>OLS Regression Results</caption>\n",
       "<tr>\n",
       "  <th>Dep. Variable:</th>        <td>ArrDelay</td>     <th>  R-squared:         </th> <td>   0.922</td> \n",
       "</tr>\n",
       "<tr>\n",
       "  <th>Model:</th>                   <td>OLS</td>       <th>  Adj. R-squared:    </th> <td>   0.922</td> \n",
       "</tr>\n",
       "<tr>\n",
       "  <th>Method:</th>             <td>Least Squares</td>  <th>  F-statistic:       </th> <td>1.573e+04</td>\n",
       "</tr>\n",
       "<tr>\n",
       "  <th>Date:</th>             <td>Tue, 19 Apr 2022</td> <th>  Prob (F-statistic):</th>  <td>  0.00</td>  \n",
       "</tr>\n",
       "<tr>\n",
       "  <th>Time:</th>                 <td>16:04:13</td>     <th>  Log-Likelihood:    </th> <td> -33691.</td> \n",
       "</tr>\n",
       "<tr>\n",
       "  <th>No. Observations:</th>      <td>  8000</td>      <th>  AIC:               </th> <td>6.740e+04</td>\n",
       "</tr>\n",
       "<tr>\n",
       "  <th>Df Residuals:</th>          <td>  7993</td>      <th>  BIC:               </th> <td>6.745e+04</td>\n",
       "</tr>\n",
       "<tr>\n",
       "  <th>Df Model:</th>              <td>     6</td>      <th>                     </th>     <td> </td>    \n",
       "</tr>\n",
       "<tr>\n",
       "  <th>Covariance Type:</th>      <td>nonrobust</td>    <th>                     </th>     <td> </td>    \n",
       "</tr>\n",
       "</table>\n",
       "<table class=\"simpletable\">\n",
       "<tr>\n",
       "          <td></td>             <th>coef</th>     <th>std err</th>      <th>t</th>      <th>P>|t|</th>  <th>[0.025</th>    <th>0.975]</th>  \n",
       "</tr>\n",
       "<tr>\n",
       "  <th>const</th>             <td>   -4.2044</td> <td>    0.274</td> <td>  -15.328</td> <td> 0.000</td> <td>   -4.742</td> <td>   -3.667</td>\n",
       "</tr>\n",
       "<tr>\n",
       "  <th>DepDelay</th>          <td>    0.9215</td> <td>    0.006</td> <td>  162.356</td> <td> 0.000</td> <td>    0.910</td> <td>    0.933</td>\n",
       "</tr>\n",
       "<tr>\n",
       "  <th>CarrierDelay</th>      <td>    0.0663</td> <td>    0.007</td> <td>    9.984</td> <td> 0.000</td> <td>    0.053</td> <td>    0.079</td>\n",
       "</tr>\n",
       "<tr>\n",
       "  <th>WeatherDelay</th>      <td>    0.1069</td> <td>    0.009</td> <td>   11.374</td> <td> 0.000</td> <td>    0.088</td> <td>    0.125</td>\n",
       "</tr>\n",
       "<tr>\n",
       "  <th>NASDelay</th>          <td>    0.2899</td> <td>    0.007</td> <td>   41.177</td> <td> 0.000</td> <td>    0.276</td> <td>    0.304</td>\n",
       "</tr>\n",
       "<tr>\n",
       "  <th>SecurityDelay</th>     <td>    0.1652</td> <td>    0.117</td> <td>    1.413</td> <td> 0.158</td> <td>   -0.064</td> <td>    0.394</td>\n",
       "</tr>\n",
       "<tr>\n",
       "  <th>LateAircraftDelay</th> <td>    0.0623</td> <td>    0.007</td> <td>    9.128</td> <td> 0.000</td> <td>    0.049</td> <td>    0.076</td>\n",
       "</tr>\n",
       "</table>\n",
       "<table class=\"simpletable\">\n",
       "<tr>\n",
       "  <th>Omnibus:</th>       <td>1782.316</td> <th>  Durbin-Watson:     </th> <td>   2.010</td> \n",
       "</tr>\n",
       "<tr>\n",
       "  <th>Prob(Omnibus):</th>  <td> 0.000</td>  <th>  Jarque-Bera (JB):  </th> <td>77394.395</td>\n",
       "</tr>\n",
       "<tr>\n",
       "  <th>Skew:</th>           <td> 0.183</td>  <th>  Prob(JB):          </th> <td>    0.00</td> \n",
       "</tr>\n",
       "<tr>\n",
       "  <th>Kurtosis:</th>       <td>18.233</td>  <th>  Cond. No.          </th> <td>    123.</td> \n",
       "</tr>\n",
       "</table><br/><br/>Notes:<br/>[1] Standard Errors assume that the covariance matrix of the errors is correctly specified."
      ],
      "text/plain": [
       "<class 'statsmodels.iolib.summary.Summary'>\n",
       "\"\"\"\n",
       "                            OLS Regression Results                            \n",
       "==============================================================================\n",
       "Dep. Variable:               ArrDelay   R-squared:                       0.922\n",
       "Model:                            OLS   Adj. R-squared:                  0.922\n",
       "Method:                 Least Squares   F-statistic:                 1.573e+04\n",
       "Date:                Tue, 19 Apr 2022   Prob (F-statistic):               0.00\n",
       "Time:                        16:04:13   Log-Likelihood:                -33691.\n",
       "No. Observations:                8000   AIC:                         6.740e+04\n",
       "Df Residuals:                    7993   BIC:                         6.745e+04\n",
       "Df Model:                           6                                         \n",
       "Covariance Type:            nonrobust                                         \n",
       "=====================================================================================\n",
       "                        coef    std err          t      P>|t|      [0.025      0.975]\n",
       "-------------------------------------------------------------------------------------\n",
       "const                -4.2044      0.274    -15.328      0.000      -4.742      -3.667\n",
       "DepDelay              0.9215      0.006    162.356      0.000       0.910       0.933\n",
       "CarrierDelay          0.0663      0.007      9.984      0.000       0.053       0.079\n",
       "WeatherDelay          0.1069      0.009     11.374      0.000       0.088       0.125\n",
       "NASDelay              0.2899      0.007     41.177      0.000       0.276       0.304\n",
       "SecurityDelay         0.1652      0.117      1.413      0.158      -0.064       0.394\n",
       "LateAircraftDelay     0.0623      0.007      9.128      0.000       0.049       0.076\n",
       "==============================================================================\n",
       "Omnibus:                     1782.316   Durbin-Watson:                   2.010\n",
       "Prob(Omnibus):                  0.000   Jarque-Bera (JB):            77394.395\n",
       "Skew:                           0.183   Prob(JB):                         0.00\n",
       "Kurtosis:                      18.233   Cond. No.                         123.\n",
       "==============================================================================\n",
       "\n",
       "Notes:\n",
       "[1] Standard Errors assume that the covariance matrix of the errors is correctly specified.\n",
       "\"\"\""
      ]
     },
     "execution_count": 33,
     "metadata": {},
     "output_type": "execute_result"
    }
   ],
   "source": [
    "mlr_model.summary()"
   ]
  },
  {
   "cell_type": "code",
   "execution_count": 34,
   "id": "96c554a6",
   "metadata": {},
   "outputs": [
    {
     "name": "stderr",
     "output_type": "stream",
     "text": [
      "C:\\Users\\AlbertoAR\\anaconda3\\lib\\site-packages\\statsmodels\\tsa\\tsatools.py:142: FutureWarning: In a future version of pandas all arguments of concat except for the argument 'objs' will be keyword-only\n",
      "  x = pd.concat(x[::order], 1)\n"
     ]
    }
   ],
   "source": [
    "x_test_mlr = x_test[features_sel]\n",
    "x_test_const = sm.add_constant(data = x_test_mlr)"
   ]
  },
  {
   "cell_type": "code",
   "execution_count": 35,
   "id": "e25e3845",
   "metadata": {},
   "outputs": [],
   "source": [
    "ArrDelay_pred2 = mlr_model.predict(x_test_const)"
   ]
  },
  {
   "cell_type": "code",
   "execution_count": 36,
   "id": "72102ada",
   "metadata": {},
   "outputs": [],
   "source": [
    "ArrDelay_pred2 = pd.DataFrame(ArrDelay_pred2, columns = ['ArrDelay_pred'])"
   ]
  },
  {
   "cell_type": "code",
   "execution_count": 37,
   "id": "6ddbafcf",
   "metadata": {},
   "outputs": [
    {
     "data": {
      "text/html": [
       "<div>\n",
       "<style scoped>\n",
       "    .dataframe tbody tr th:only-of-type {\n",
       "        vertical-align: middle;\n",
       "    }\n",
       "\n",
       "    .dataframe tbody tr th {\n",
       "        vertical-align: top;\n",
       "    }\n",
       "\n",
       "    .dataframe thead th {\n",
       "        text-align: right;\n",
       "    }\n",
       "</style>\n",
       "<table border=\"1\" class=\"dataframe\">\n",
       "  <thead>\n",
       "    <tr style=\"text-align: right;\">\n",
       "      <th></th>\n",
       "      <th>ArrDelay</th>\n",
       "      <th>ArrDelay_pred</th>\n",
       "    </tr>\n",
       "  </thead>\n",
       "  <tbody>\n",
       "    <tr>\n",
       "      <th>1977</th>\n",
       "      <td>161</td>\n",
       "      <td>158.515882</td>\n",
       "    </tr>\n",
       "    <tr>\n",
       "      <th>3880</th>\n",
       "      <td>63</td>\n",
       "      <td>28.015031</td>\n",
       "    </tr>\n",
       "    <tr>\n",
       "      <th>52</th>\n",
       "      <td>11</td>\n",
       "      <td>7.330457</td>\n",
       "    </tr>\n",
       "    <tr>\n",
       "      <th>2551</th>\n",
       "      <td>33</td>\n",
       "      <td>13.006160</td>\n",
       "    </tr>\n",
       "    <tr>\n",
       "      <th>2246</th>\n",
       "      <td>7</td>\n",
       "      <td>4.697092</td>\n",
       "    </tr>\n",
       "    <tr>\n",
       "      <th>...</th>\n",
       "      <td>...</td>\n",
       "      <td>...</td>\n",
       "    </tr>\n",
       "    <tr>\n",
       "      <th>9505</th>\n",
       "      <td>24</td>\n",
       "      <td>29.638747</td>\n",
       "    </tr>\n",
       "    <tr>\n",
       "      <th>2836</th>\n",
       "      <td>-1</td>\n",
       "      <td>5.711352</td>\n",
       "    </tr>\n",
       "    <tr>\n",
       "      <th>1169</th>\n",
       "      <td>20</td>\n",
       "      <td>14.083829</td>\n",
       "    </tr>\n",
       "    <tr>\n",
       "      <th>9929</th>\n",
       "      <td>-13</td>\n",
       "      <td>10.923635</td>\n",
       "    </tr>\n",
       "    <tr>\n",
       "      <th>8486</th>\n",
       "      <td>20</td>\n",
       "      <td>15.551450</td>\n",
       "    </tr>\n",
       "  </tbody>\n",
       "</table>\n",
       "<p>2000 rows × 2 columns</p>\n",
       "</div>"
      ],
      "text/plain": [
       "      ArrDelay  ArrDelay_pred\n",
       "1977       161     158.515882\n",
       "3880        63      28.015031\n",
       "52          11       7.330457\n",
       "2551        33      13.006160\n",
       "2246         7       4.697092\n",
       "...        ...            ...\n",
       "9505        24      29.638747\n",
       "2836        -1       5.711352\n",
       "1169        20      14.083829\n",
       "9929       -13      10.923635\n",
       "8486        20      15.551450\n",
       "\n",
       "[2000 rows x 2 columns]"
      ]
     },
     "execution_count": 37,
     "metadata": {},
     "output_type": "execute_result"
    }
   ],
   "source": [
    "compare2 = pd.concat([y_test, ArrDelay_pred2], axis = 'columns')\n",
    "compare2"
   ]
  },
  {
   "cell_type": "markdown",
   "id": "503a4c92",
   "metadata": {},
   "source": [
    "Let' calculate Mean Squared Error and R2 to compare later:"
   ]
  },
  {
   "cell_type": "code",
   "execution_count": 38,
   "id": "ffea79f5",
   "metadata": {},
   "outputs": [
    {
     "data": {
      "text/plain": [
       "265.7469061875144"
      ]
     },
     "execution_count": 38,
     "metadata": {},
     "output_type": "execute_result"
    }
   ],
   "source": [
    "MSE_mlr = mean_squared_error(compare2.ArrDelay, compare2.ArrDelay_pred)\n",
    "MSE_mlr"
   ]
  },
  {
   "cell_type": "code",
   "execution_count": 39,
   "id": "1f273043",
   "metadata": {},
   "outputs": [
    {
     "data": {
      "text/plain": [
       "0.9219374078431338"
      ]
     },
     "execution_count": 39,
     "metadata": {},
     "output_type": "execute_result"
    }
   ],
   "source": [
    "Rsq_mlr = mlr_model.rsquared\n",
    "Rsq_mlr"
   ]
  },
  {
   "cell_type": "markdown",
   "id": "0502d852",
   "metadata": {},
   "source": [
    "### **Third model: Random Forest Regression**"
   ]
  },
  {
   "cell_type": "code",
   "execution_count": 40,
   "id": "c4edb043",
   "metadata": {},
   "outputs": [],
   "source": [
    "from sklearn.ensemble import RandomForestRegressor"
   ]
  },
  {
   "cell_type": "code",
   "execution_count": 41,
   "id": "50d5cee5",
   "metadata": {},
   "outputs": [],
   "source": [
    "x_train_rfr = x_train[features_sel]\n",
    "x_test_rfr = x_test[features_sel]"
   ]
  },
  {
   "cell_type": "code",
   "execution_count": 42,
   "id": "11b64651",
   "metadata": {},
   "outputs": [
    {
     "data": {
      "text/plain": [
       "RandomForestRegressor(n_estimators=10, random_state=7)"
      ]
     },
     "execution_count": 42,
     "metadata": {},
     "output_type": "execute_result"
    }
   ],
   "source": [
    "rfr_model = RandomForestRegressor(n_estimators = 10, random_state = 7).fit(x_train_rfr, y_train.ArrDelay)\n",
    "rfr_model"
   ]
  },
  {
   "cell_type": "code",
   "execution_count": 43,
   "id": "898486c5",
   "metadata": {},
   "outputs": [],
   "source": [
    "ArrDelay_pred3 = rfr_model.predict(x_test_rfr)"
   ]
  },
  {
   "cell_type": "code",
   "execution_count": 44,
   "id": "31a094cd",
   "metadata": {
    "scrolled": false
   },
   "outputs": [
    {
     "data": {
      "text/html": [
       "<div>\n",
       "<style scoped>\n",
       "    .dataframe tbody tr th:only-of-type {\n",
       "        vertical-align: middle;\n",
       "    }\n",
       "\n",
       "    .dataframe tbody tr th {\n",
       "        vertical-align: top;\n",
       "    }\n",
       "\n",
       "    .dataframe thead th {\n",
       "        text-align: right;\n",
       "    }\n",
       "</style>\n",
       "<table border=\"1\" class=\"dataframe\">\n",
       "  <thead>\n",
       "    <tr style=\"text-align: right;\">\n",
       "      <th></th>\n",
       "      <th>ArrDelay</th>\n",
       "      <th>ArrDelay_pred</th>\n",
       "    </tr>\n",
       "  </thead>\n",
       "  <tbody>\n",
       "    <tr>\n",
       "      <th>1977</th>\n",
       "      <td>161</td>\n",
       "      <td>160.6</td>\n",
       "    </tr>\n",
       "    <tr>\n",
       "      <th>3880</th>\n",
       "      <td>63</td>\n",
       "      <td>44.8</td>\n",
       "    </tr>\n",
       "    <tr>\n",
       "      <th>52</th>\n",
       "      <td>11</td>\n",
       "      <td>4.4</td>\n",
       "    </tr>\n",
       "    <tr>\n",
       "      <th>2551</th>\n",
       "      <td>33</td>\n",
       "      <td>12.3</td>\n",
       "    </tr>\n",
       "    <tr>\n",
       "      <th>2246</th>\n",
       "      <td>7</td>\n",
       "      <td>2.6</td>\n",
       "    </tr>\n",
       "    <tr>\n",
       "      <th>...</th>\n",
       "      <td>...</td>\n",
       "      <td>...</td>\n",
       "    </tr>\n",
       "    <tr>\n",
       "      <th>9505</th>\n",
       "      <td>24</td>\n",
       "      <td>24.0</td>\n",
       "    </tr>\n",
       "    <tr>\n",
       "      <th>2836</th>\n",
       "      <td>-1</td>\n",
       "      <td>-1.7</td>\n",
       "    </tr>\n",
       "    <tr>\n",
       "      <th>1169</th>\n",
       "      <td>20</td>\n",
       "      <td>19.9</td>\n",
       "    </tr>\n",
       "    <tr>\n",
       "      <th>9929</th>\n",
       "      <td>-13</td>\n",
       "      <td>-10.8</td>\n",
       "    </tr>\n",
       "    <tr>\n",
       "      <th>8486</th>\n",
       "      <td>20</td>\n",
       "      <td>19.8</td>\n",
       "    </tr>\n",
       "  </tbody>\n",
       "</table>\n",
       "<p>2000 rows × 2 columns</p>\n",
       "</div>"
      ],
      "text/plain": [
       "      ArrDelay  ArrDelay_pred\n",
       "1977       161          160.6\n",
       "3880        63           44.8\n",
       "52          11            4.4\n",
       "2551        33           12.3\n",
       "2246         7            2.6\n",
       "...        ...            ...\n",
       "9505        24           24.0\n",
       "2836        -1           -1.7\n",
       "1169        20           19.9\n",
       "9929       -13          -10.8\n",
       "8486        20           19.8\n",
       "\n",
       "[2000 rows x 2 columns]"
      ]
     },
     "execution_count": 44,
     "metadata": {},
     "output_type": "execute_result"
    }
   ],
   "source": [
    "compare3 = y_test.copy()\n",
    "compare3['ArrDelay_pred'] = ArrDelay_pred3\n",
    "compare3"
   ]
  },
  {
   "cell_type": "markdown",
   "id": "407364a8",
   "metadata": {},
   "source": [
    "Let' calculate Mean Squared Error and R2:"
   ]
  },
  {
   "cell_type": "code",
   "execution_count": 45,
   "id": "dc38e81d",
   "metadata": {},
   "outputs": [
    {
     "data": {
      "text/plain": [
       "246.27283805601618"
      ]
     },
     "execution_count": 45,
     "metadata": {},
     "output_type": "execute_result"
    }
   ],
   "source": [
    "MSE_rfr = mean_squared_error(compare3.ArrDelay, compare3.ArrDelay_pred)\n",
    "MSE_rfr"
   ]
  },
  {
   "cell_type": "code",
   "execution_count": 46,
   "id": "bbb45dac",
   "metadata": {},
   "outputs": [
    {
     "data": {
      "text/plain": [
       "0.9401291092830109"
      ]
     },
     "execution_count": 46,
     "metadata": {},
     "output_type": "execute_result"
    }
   ],
   "source": [
    "Rsq_rfr = rfr_model.score(x_test_rfr, y_test)\n",
    "Rsq_rfr"
   ]
  },
  {
   "cell_type": "markdown",
   "id": "d92dafbb",
   "metadata": {},
   "source": [
    "### **Fourth model: Neural Network Regression**"
   ]
  },
  {
   "cell_type": "code",
   "execution_count": 47,
   "id": "d4ae7f47",
   "metadata": {},
   "outputs": [],
   "source": [
    "from sklearn.neural_network import MLPRegressor"
   ]
  },
  {
   "cell_type": "code",
   "execution_count": 48,
   "id": "e8e79bb4",
   "metadata": {},
   "outputs": [],
   "source": [
    "x_train_nnr = x_train[features_sel]\n",
    "x_test_nnr = x_test[features_sel]"
   ]
  },
  {
   "cell_type": "code",
   "execution_count": 49,
   "id": "cf315165",
   "metadata": {},
   "outputs": [
    {
     "data": {
      "text/plain": [
       "MLPRegressor(hidden_layer_sizes=(6, 6, 6), max_iter=500, random_state=7)"
      ]
     },
     "execution_count": 49,
     "metadata": {},
     "output_type": "execute_result"
    }
   ],
   "source": [
    "nnr_model = MLPRegressor(hidden_layer_sizes=(len(x_train_nnr.columns),len(x_train_nnr.columns),len(x_train_nnr.columns)), \n",
    "                         activation='relu', solver='adam', random_state=7, max_iter=500).fit(x_train_nnr, y_train.ArrDelay)\n",
    "nnr_model"
   ]
  },
  {
   "cell_type": "code",
   "execution_count": 50,
   "id": "f0a86e00",
   "metadata": {},
   "outputs": [],
   "source": [
    "ArrDelay_pred4 = nnr_model.predict(x_test_nnr)"
   ]
  },
  {
   "cell_type": "code",
   "execution_count": 51,
   "id": "cd8e1d03",
   "metadata": {},
   "outputs": [
    {
     "data": {
      "text/html": [
       "<div>\n",
       "<style scoped>\n",
       "    .dataframe tbody tr th:only-of-type {\n",
       "        vertical-align: middle;\n",
       "    }\n",
       "\n",
       "    .dataframe tbody tr th {\n",
       "        vertical-align: top;\n",
       "    }\n",
       "\n",
       "    .dataframe thead th {\n",
       "        text-align: right;\n",
       "    }\n",
       "</style>\n",
       "<table border=\"1\" class=\"dataframe\">\n",
       "  <thead>\n",
       "    <tr style=\"text-align: right;\">\n",
       "      <th></th>\n",
       "      <th>ArrDelay</th>\n",
       "      <th>ArrDelay_pred</th>\n",
       "    </tr>\n",
       "  </thead>\n",
       "  <tbody>\n",
       "    <tr>\n",
       "      <th>1977</th>\n",
       "      <td>161</td>\n",
       "      <td>163.498742</td>\n",
       "    </tr>\n",
       "    <tr>\n",
       "      <th>3880</th>\n",
       "      <td>63</td>\n",
       "      <td>60.121990</td>\n",
       "    </tr>\n",
       "    <tr>\n",
       "      <th>52</th>\n",
       "      <td>11</td>\n",
       "      <td>3.200738</td>\n",
       "    </tr>\n",
       "    <tr>\n",
       "      <th>2551</th>\n",
       "      <td>33</td>\n",
       "      <td>29.645702</td>\n",
       "    </tr>\n",
       "    <tr>\n",
       "      <th>2246</th>\n",
       "      <td>7</td>\n",
       "      <td>0.864575</td>\n",
       "    </tr>\n",
       "    <tr>\n",
       "      <th>...</th>\n",
       "      <td>...</td>\n",
       "      <td>...</td>\n",
       "    </tr>\n",
       "    <tr>\n",
       "      <th>9505</th>\n",
       "      <td>24</td>\n",
       "      <td>23.874276</td>\n",
       "    </tr>\n",
       "    <tr>\n",
       "      <th>2836</th>\n",
       "      <td>-1</td>\n",
       "      <td>1.467981</td>\n",
       "    </tr>\n",
       "    <tr>\n",
       "      <th>1169</th>\n",
       "      <td>20</td>\n",
       "      <td>16.653834</td>\n",
       "    </tr>\n",
       "    <tr>\n",
       "      <th>9929</th>\n",
       "      <td>-13</td>\n",
       "      <td>-0.039491</td>\n",
       "    </tr>\n",
       "    <tr>\n",
       "      <th>8486</th>\n",
       "      <td>20</td>\n",
       "      <td>19.716714</td>\n",
       "    </tr>\n",
       "  </tbody>\n",
       "</table>\n",
       "<p>2000 rows × 2 columns</p>\n",
       "</div>"
      ],
      "text/plain": [
       "      ArrDelay  ArrDelay_pred\n",
       "1977       161     163.498742\n",
       "3880        63      60.121990\n",
       "52          11       3.200738\n",
       "2551        33      29.645702\n",
       "2246         7       0.864575\n",
       "...        ...            ...\n",
       "9505        24      23.874276\n",
       "2836        -1       1.467981\n",
       "1169        20      16.653834\n",
       "9929       -13      -0.039491\n",
       "8486        20      19.716714\n",
       "\n",
       "[2000 rows x 2 columns]"
      ]
     },
     "execution_count": 51,
     "metadata": {},
     "output_type": "execute_result"
    }
   ],
   "source": [
    "compare4 = y_test.copy()\n",
    "compare4['ArrDelay_pred'] = ArrDelay_pred4\n",
    "compare4"
   ]
  },
  {
   "cell_type": "markdown",
   "id": "b12eaf83",
   "metadata": {},
   "source": [
    "Let' calculate Mean Squared Error and R2:"
   ]
  },
  {
   "cell_type": "code",
   "execution_count": 52,
   "id": "28b83ca8",
   "metadata": {},
   "outputs": [
    {
     "data": {
      "text/plain": [
       "94.26551982540785"
      ]
     },
     "execution_count": 52,
     "metadata": {},
     "output_type": "execute_result"
    }
   ],
   "source": [
    "MSE_nnr = mean_squared_error(compare4.ArrDelay, compare4.ArrDelay_pred)\n",
    "MSE_nnr"
   ]
  },
  {
   "cell_type": "code",
   "execution_count": 53,
   "id": "5bec82d6",
   "metadata": {},
   "outputs": [
    {
     "data": {
      "text/plain": [
       "0.9770833004549065"
      ]
     },
     "execution_count": 53,
     "metadata": {},
     "output_type": "execute_result"
    }
   ],
   "source": [
    "Rsq_nnr = nnr_model.score(x_test_nnr, y_test)\n",
    "Rsq_nnr"
   ]
  },
  {
   "cell_type": "markdown",
   "id": "31b42c90",
   "metadata": {},
   "source": [
    "### <SPAN style=color:#1F618D>Practice 2</SPAN>"
   ]
  },
  {
   "cell_type": "markdown",
   "id": "084df500",
   "metadata": {},
   "source": [
    "<SPAN style=color:#1F618D>Compare them on the basis of MSE and Rsq</SPAN>"
   ]
  },
  {
   "cell_type": "markdown",
   "id": "287ac431",
   "metadata": {},
   "source": [
    "Let's gather R-Square and Mean Squared Error for all the models we tried:"
   ]
  },
  {
   "cell_type": "code",
   "execution_count": 54,
   "id": "22370e25",
   "metadata": {},
   "outputs": [
    {
     "data": {
      "text/html": [
       "<div>\n",
       "<style scoped>\n",
       "    .dataframe tbody tr th:only-of-type {\n",
       "        vertical-align: middle;\n",
       "    }\n",
       "\n",
       "    .dataframe tbody tr th {\n",
       "        vertical-align: top;\n",
       "    }\n",
       "\n",
       "    .dataframe thead th {\n",
       "        text-align: right;\n",
       "    }\n",
       "</style>\n",
       "<table border=\"1\" class=\"dataframe\">\n",
       "  <thead>\n",
       "    <tr style=\"text-align: right;\">\n",
       "      <th></th>\n",
       "      <th>R-Square</th>\n",
       "      <th>MSE</th>\n",
       "    </tr>\n",
       "  </thead>\n",
       "  <tbody>\n",
       "    <tr>\n",
       "      <th>Simple Linear Regression</th>\n",
       "      <td>0.903965</td>\n",
       "      <td>288.674425</td>\n",
       "    </tr>\n",
       "    <tr>\n",
       "      <th>Multiple Linear Regression</th>\n",
       "      <td>0.921937</td>\n",
       "      <td>265.746906</td>\n",
       "    </tr>\n",
       "    <tr>\n",
       "      <th>Random Forest Regression</th>\n",
       "      <td>0.940129</td>\n",
       "      <td>246.272838</td>\n",
       "    </tr>\n",
       "    <tr>\n",
       "      <th>Neural Network Regression</th>\n",
       "      <td>0.977083</td>\n",
       "      <td>94.265520</td>\n",
       "    </tr>\n",
       "  </tbody>\n",
       "</table>\n",
       "</div>"
      ],
      "text/plain": [
       "                            R-Square         MSE\n",
       "Simple Linear Regression    0.903965  288.674425\n",
       "Multiple Linear Regression  0.921937  265.746906\n",
       "Random Forest Regression    0.940129  246.272838\n",
       "Neural Network Regression   0.977083   94.265520"
      ]
     },
     "execution_count": 54,
     "metadata": {},
     "output_type": "execute_result"
    }
   ],
   "source": [
    "MSE_Rsqr = [{'R-Square': Rsq_slr, 'MSE': MSE_slr}, {'R-Square': Rsq_mlr, 'MSE': MSE_mlr}, {'R-Square': Rsq_rfr, 'MSE': MSE_rfr}, {'R-Square': Rsq_nnr, 'MSE': MSE_nnr}]\n",
    "df_MSE_Rsqr = pd.DataFrame(MSE_Rsqr, index = ['Simple Linear Regression', 'Multiple Linear Regression', 'Random Forest Regression', 'Neural Network Regression'])\n",
    "df_MSE_Rsqr"
   ]
  },
  {
   "cell_type": "markdown",
   "id": "362dc23e",
   "metadata": {},
   "source": [
    "All models are pretty accurate but the best one seems to be **Neural Network Regression** as it has the **highest R-Square and lower MSE**."
   ]
  },
  {
   "cell_type": "markdown",
   "id": "8d6c8a03",
   "metadata": {},
   "source": [
    "### <SPAN style=color:#1F618D>Practice 3</SPAN>"
   ]
  },
  {
   "cell_type": "markdown",
   "id": "d4612950",
   "metadata": {},
   "source": [
    "<SPAN style=color:#1F618D>Train them using the different parameters they allow</SPAN>"
   ]
  },
  {
   "cell_type": "markdown",
   "id": "c093b354",
   "metadata": {},
   "source": [
    "### **Multiple Linear Regression - parameters**"
   ]
  },
  {
   "cell_type": "markdown",
   "id": "8c4686c6",
   "metadata": {},
   "source": [
    "**Parameters** \n",
    "\n",
    "class statsmodels.regression.linear_model.OLS(endog, exog=None, missing='none', hasconst=None, **kwargs)\n",
    "\n",
    "* endog: array_like  \n",
    "A 1-d endogenous response variable. The dependent variable.\n",
    "\n",
    "* exog: array_like  \n",
    "A nobs x k array where nobs is the number of observations and k is the number of regressors. An intercept is not included by default and should be added by the user. See statsmodels.tools.add_constant.\n",
    "\n",
    "* missing: str  \n",
    "Available options are ‘none’, ‘drop’, and ‘raise’. If ‘none’, no nan checking is done. If ‘drop’, any observations with nans are dropped. If ‘raise’, an error is raised. Default is ‘none’.\n",
    "\n",
    "* hasconst: None or bool  \n",
    "Indicates whether the RHS includes a user-supplied constant. If True, a constant is not checked for and k_constant is set to 1 and all result statistics are calculated as if a constant is present. If False, a constant is not checked for and k_constant is set to 0.\n"
   ]
  },
  {
   "cell_type": "markdown",
   "id": "00de0061",
   "metadata": {},
   "source": [
    "I think we do not have much to play here. If we had used **class sklearn.linear_model.LinearRegression(*, fit_intercept=True, normalize='deprecated', copy_X=True, n_jobs=None, positive=False)*** we could normalize data, although deprecated, bus we have used the statsmodel instead. \n",
    "\n",
    "Let's normalize the data in order rerun the regression with the previously used statsmodel:"
   ]
  },
  {
   "cell_type": "code",
   "execution_count": 55,
   "id": "beedbc1e",
   "metadata": {},
   "outputs": [],
   "source": [
    "from sklearn.preprocessing import MinMaxScaler"
   ]
  },
  {
   "cell_type": "code",
   "execution_count": 56,
   "id": "ae12c8a1",
   "metadata": {},
   "outputs": [],
   "source": [
    "# Train and Test data normalization\n",
    "\n",
    "x_train_nm = pd.DataFrame(MinMaxScaler().fit_transform(x_train_num))\n",
    "x_train_nm.columns = x_train_num.columns\n",
    "\n",
    "y_train_nm = pd.DataFrame(MinMaxScaler().fit_transform(y_train))\n",
    "y_train_nm.columns = y_train.columns\n",
    "\n",
    "x_test_nm = pd.DataFrame(MinMaxScaler().fit_transform(x_test_mlr))\n",
    "x_test_nm.columns = x_test_mlr.columns\n",
    "\n",
    "y_test_nm = pd.DataFrame(MinMaxScaler().fit_transform(y_test))\n",
    "y_test_nm.columns = y_test.columns"
   ]
  },
  {
   "cell_type": "code",
   "execution_count": 57,
   "id": "8518f29b",
   "metadata": {},
   "outputs": [],
   "source": [
    "x_train_nm_mlr = x_train_nm[features_sel]"
   ]
  },
  {
   "cell_type": "code",
   "execution_count": 58,
   "id": "a5a95468",
   "metadata": {
    "scrolled": true
   },
   "outputs": [
    {
     "name": "stderr",
     "output_type": "stream",
     "text": [
      "C:\\Users\\AlbertoAR\\anaconda3\\lib\\site-packages\\statsmodels\\tsa\\tsatools.py:142: FutureWarning: In a future version of pandas all arguments of concat except for the argument 'objs' will be keyword-only\n",
      "  x = pd.concat(x[::order], 1)\n"
     ]
    }
   ],
   "source": [
    "x_train_nm_const = sm.add_constant(x_train_nm_mlr)\n",
    "x_test_nm_const = sm.add_constant(data = x_test_nm)"
   ]
  },
  {
   "cell_type": "code",
   "execution_count": 59,
   "id": "46e3de0d",
   "metadata": {},
   "outputs": [],
   "source": [
    "mlr_model_nm = sm.OLS(y_train_nm.ArrDelay, x_train_nm_const).fit()"
   ]
  },
  {
   "cell_type": "code",
   "execution_count": 60,
   "id": "41e36b1e",
   "metadata": {
    "scrolled": false
   },
   "outputs": [
    {
     "data": {
      "text/html": [
       "<table class=\"simpletable\">\n",
       "<caption>OLS Regression Results</caption>\n",
       "<tr>\n",
       "  <th>Dep. Variable:</th>        <td>ArrDelay</td>     <th>  R-squared:         </th>  <td>   0.922</td> \n",
       "</tr>\n",
       "<tr>\n",
       "  <th>Model:</th>                   <td>OLS</td>       <th>  Adj. R-squared:    </th>  <td>   0.922</td> \n",
       "</tr>\n",
       "<tr>\n",
       "  <th>Method:</th>             <td>Least Squares</td>  <th>  F-statistic:       </th>  <td>1.573e+04</td>\n",
       "</tr>\n",
       "<tr>\n",
       "  <th>Date:</th>             <td>Tue, 19 Apr 2022</td> <th>  Prob (F-statistic):</th>   <td>  0.00</td>  \n",
       "</tr>\n",
       "<tr>\n",
       "  <th>Time:</th>                 <td>16:04:36</td>     <th>  Log-Likelihood:    </th>  <td>  24532.</td> \n",
       "</tr>\n",
       "<tr>\n",
       "  <th>No. Observations:</th>      <td>  8000</td>      <th>  AIC:               </th> <td>-4.905e+04</td>\n",
       "</tr>\n",
       "<tr>\n",
       "  <th>Df Residuals:</th>          <td>  7993</td>      <th>  BIC:               </th> <td>-4.900e+04</td>\n",
       "</tr>\n",
       "<tr>\n",
       "  <th>Df Model:</th>              <td>     6</td>      <th>                     </th>      <td> </td>    \n",
       "</tr>\n",
       "<tr>\n",
       "  <th>Covariance Type:</th>      <td>nonrobust</td>    <th>                     </th>      <td> </td>    \n",
       "</tr>\n",
       "</table>\n",
       "<table class=\"simpletable\">\n",
       "<tr>\n",
       "          <td></td>             <th>coef</th>     <th>std err</th>      <th>t</th>      <th>P>|t|</th>  <th>[0.025</th>    <th>0.975]</th>  \n",
       "</tr>\n",
       "<tr>\n",
       "  <th>const</th>             <td>    0.0375</td> <td>    0.000</td> <td>  194.651</td> <td> 0.000</td> <td>    0.037</td> <td>    0.038</td>\n",
       "</tr>\n",
       "<tr>\n",
       "  <th>DepDelay</th>          <td>    0.8890</td> <td>    0.005</td> <td>  162.356</td> <td> 0.000</td> <td>    0.878</td> <td>    0.900</td>\n",
       "</tr>\n",
       "<tr>\n",
       "  <th>CarrierDelay</th>      <td>    0.0300</td> <td>    0.003</td> <td>    9.984</td> <td> 0.000</td> <td>    0.024</td> <td>    0.036</td>\n",
       "</tr>\n",
       "<tr>\n",
       "  <th>WeatherDelay</th>      <td>    0.0957</td> <td>    0.008</td> <td>   11.374</td> <td> 0.000</td> <td>    0.079</td> <td>    0.112</td>\n",
       "</tr>\n",
       "<tr>\n",
       "  <th>NASDelay</th>          <td>    0.0963</td> <td>    0.002</td> <td>   41.177</td> <td> 0.000</td> <td>    0.092</td> <td>    0.101</td>\n",
       "</tr>\n",
       "<tr>\n",
       "  <th>SecurityDelay</th>     <td>    0.0066</td> <td>    0.005</td> <td>    1.413</td> <td> 0.158</td> <td>   -0.003</td> <td>    0.016</td>\n",
       "</tr>\n",
       "<tr>\n",
       "  <th>LateAircraftDelay</th> <td>    0.0170</td> <td>    0.002</td> <td>    9.128</td> <td> 0.000</td> <td>    0.013</td> <td>    0.021</td>\n",
       "</tr>\n",
       "</table>\n",
       "<table class=\"simpletable\">\n",
       "<tr>\n",
       "  <th>Omnibus:</th>       <td>1782.316</td> <th>  Durbin-Watson:     </th> <td>   2.010</td> \n",
       "</tr>\n",
       "<tr>\n",
       "  <th>Prob(Omnibus):</th>  <td> 0.000</td>  <th>  Jarque-Bera (JB):  </th> <td>77394.395</td>\n",
       "</tr>\n",
       "<tr>\n",
       "  <th>Skew:</th>           <td> 0.183</td>  <th>  Prob(JB):          </th> <td>    0.00</td> \n",
       "</tr>\n",
       "<tr>\n",
       "  <th>Kurtosis:</th>       <td>18.233</td>  <th>  Cond. No.          </th> <td>    73.9</td> \n",
       "</tr>\n",
       "</table><br/><br/>Notes:<br/>[1] Standard Errors assume that the covariance matrix of the errors is correctly specified."
      ],
      "text/plain": [
       "<class 'statsmodels.iolib.summary.Summary'>\n",
       "\"\"\"\n",
       "                            OLS Regression Results                            \n",
       "==============================================================================\n",
       "Dep. Variable:               ArrDelay   R-squared:                       0.922\n",
       "Model:                            OLS   Adj. R-squared:                  0.922\n",
       "Method:                 Least Squares   F-statistic:                 1.573e+04\n",
       "Date:                Tue, 19 Apr 2022   Prob (F-statistic):               0.00\n",
       "Time:                        16:04:36   Log-Likelihood:                 24532.\n",
       "No. Observations:                8000   AIC:                        -4.905e+04\n",
       "Df Residuals:                    7993   BIC:                        -4.900e+04\n",
       "Df Model:                           6                                         \n",
       "Covariance Type:            nonrobust                                         \n",
       "=====================================================================================\n",
       "                        coef    std err          t      P>|t|      [0.025      0.975]\n",
       "-------------------------------------------------------------------------------------\n",
       "const                 0.0375      0.000    194.651      0.000       0.037       0.038\n",
       "DepDelay              0.8890      0.005    162.356      0.000       0.878       0.900\n",
       "CarrierDelay          0.0300      0.003      9.984      0.000       0.024       0.036\n",
       "WeatherDelay          0.0957      0.008     11.374      0.000       0.079       0.112\n",
       "NASDelay              0.0963      0.002     41.177      0.000       0.092       0.101\n",
       "SecurityDelay         0.0066      0.005      1.413      0.158      -0.003       0.016\n",
       "LateAircraftDelay     0.0170      0.002      9.128      0.000       0.013       0.021\n",
       "==============================================================================\n",
       "Omnibus:                     1782.316   Durbin-Watson:                   2.010\n",
       "Prob(Omnibus):                  0.000   Jarque-Bera (JB):            77394.395\n",
       "Skew:                           0.183   Prob(JB):                         0.00\n",
       "Kurtosis:                      18.233   Cond. No.                         73.9\n",
       "==============================================================================\n",
       "\n",
       "Notes:\n",
       "[1] Standard Errors assume that the covariance matrix of the errors is correctly specified.\n",
       "\"\"\""
      ]
     },
     "execution_count": 60,
     "metadata": {},
     "output_type": "execute_result"
    }
   ],
   "source": [
    "mlr_model_nm.summary()"
   ]
  },
  {
   "cell_type": "code",
   "execution_count": 61,
   "id": "49077db3",
   "metadata": {},
   "outputs": [],
   "source": [
    "ArrDelay_pred22 = mlr_model.predict(x_test_nm_const)"
   ]
  },
  {
   "cell_type": "code",
   "execution_count": 62,
   "id": "67415c30",
   "metadata": {},
   "outputs": [],
   "source": [
    "ArrDelay_pred22 = pd.DataFrame(ArrDelay_pred22, columns = ['ArrDelay_pred'])\n",
    "ArrDelay_pred22 = ArrDelay_pred22.reset_index(drop = True)"
   ]
  },
  {
   "cell_type": "code",
   "execution_count": 63,
   "id": "5c06e7b0",
   "metadata": {},
   "outputs": [
    {
     "data": {
      "text/html": [
       "<div>\n",
       "<style scoped>\n",
       "    .dataframe tbody tr th:only-of-type {\n",
       "        vertical-align: middle;\n",
       "    }\n",
       "\n",
       "    .dataframe tbody tr th {\n",
       "        vertical-align: top;\n",
       "    }\n",
       "\n",
       "    .dataframe thead th {\n",
       "        text-align: right;\n",
       "    }\n",
       "</style>\n",
       "<table border=\"1\" class=\"dataframe\">\n",
       "  <thead>\n",
       "    <tr style=\"text-align: right;\">\n",
       "      <th></th>\n",
       "      <th>ArrDelay</th>\n",
       "      <th>ArrDelay_pred</th>\n",
       "    </tr>\n",
       "  </thead>\n",
       "  <tbody>\n",
       "    <tr>\n",
       "      <th>0</th>\n",
       "      <td>0.139568</td>\n",
       "      <td>-4.088024</td>\n",
       "    </tr>\n",
       "    <tr>\n",
       "      <th>1</th>\n",
       "      <td>0.069065</td>\n",
       "      <td>-4.176910</td>\n",
       "    </tr>\n",
       "    <tr>\n",
       "      <th>2</th>\n",
       "      <td>0.031655</td>\n",
       "      <td>-4.190050</td>\n",
       "    </tr>\n",
       "    <tr>\n",
       "      <th>3</th>\n",
       "      <td>0.047482</td>\n",
       "      <td>-4.190265</td>\n",
       "    </tr>\n",
       "    <tr>\n",
       "      <th>4</th>\n",
       "      <td>0.028777</td>\n",
       "      <td>-4.200983</td>\n",
       "    </tr>\n",
       "    <tr>\n",
       "      <th>...</th>\n",
       "      <td>...</td>\n",
       "      <td>...</td>\n",
       "    </tr>\n",
       "    <tr>\n",
       "      <th>1995</th>\n",
       "      <td>0.041007</td>\n",
       "      <td>-4.183417</td>\n",
       "    </tr>\n",
       "    <tr>\n",
       "      <th>1996</th>\n",
       "      <td>0.023022</td>\n",
       "      <td>-4.198332</td>\n",
       "    </tr>\n",
       "    <tr>\n",
       "      <th>1997</th>\n",
       "      <td>0.038129</td>\n",
       "      <td>-4.191153</td>\n",
       "    </tr>\n",
       "    <tr>\n",
       "      <th>1998</th>\n",
       "      <td>0.014388</td>\n",
       "      <td>-4.189283</td>\n",
       "    </tr>\n",
       "    <tr>\n",
       "      <th>1999</th>\n",
       "      <td>0.038129</td>\n",
       "      <td>-4.193845</td>\n",
       "    </tr>\n",
       "  </tbody>\n",
       "</table>\n",
       "<p>2000 rows × 2 columns</p>\n",
       "</div>"
      ],
      "text/plain": [
       "      ArrDelay  ArrDelay_pred\n",
       "0     0.139568      -4.088024\n",
       "1     0.069065      -4.176910\n",
       "2     0.031655      -4.190050\n",
       "3     0.047482      -4.190265\n",
       "4     0.028777      -4.200983\n",
       "...        ...            ...\n",
       "1995  0.041007      -4.183417\n",
       "1996  0.023022      -4.198332\n",
       "1997  0.038129      -4.191153\n",
       "1998  0.014388      -4.189283\n",
       "1999  0.038129      -4.193845\n",
       "\n",
       "[2000 rows x 2 columns]"
      ]
     },
     "execution_count": 63,
     "metadata": {},
     "output_type": "execute_result"
    }
   ],
   "source": [
    "compare22 = pd.concat([y_test_nm, ArrDelay_pred22], axis = 'columns')\n",
    "compare22"
   ]
  },
  {
   "cell_type": "markdown",
   "id": "3f117e68",
   "metadata": {},
   "source": [
    "Let' calculate Mean Squared Error and R2:"
   ]
  },
  {
   "cell_type": "code",
   "execution_count": 64,
   "id": "edf1d2ff",
   "metadata": {},
   "outputs": [
    {
     "data": {
      "text/plain": [
       "17.806394138739698"
      ]
     },
     "execution_count": 64,
     "metadata": {},
     "output_type": "execute_result"
    }
   ],
   "source": [
    "MSE_mlr_nm = mean_squared_error(compare22.ArrDelay, compare22.ArrDelay_pred)\n",
    "MSE_mlr_nm"
   ]
  },
  {
   "cell_type": "code",
   "execution_count": 65,
   "id": "1d33f99b",
   "metadata": {},
   "outputs": [
    {
     "data": {
      "text/plain": [
       "0.9219374078431338"
      ]
     },
     "execution_count": 65,
     "metadata": {},
     "output_type": "execute_result"
    }
   ],
   "source": [
    "Rsq_mlr_nm = mlr_model_nm.rsquared\n",
    "Rsq_mlr_nm"
   ]
  },
  {
   "cell_type": "code",
   "execution_count": 66,
   "id": "6a790f80",
   "metadata": {
    "scrolled": false
   },
   "outputs": [
    {
     "data": {
      "text/html": [
       "<div>\n",
       "<style scoped>\n",
       "    .dataframe tbody tr th:only-of-type {\n",
       "        vertical-align: middle;\n",
       "    }\n",
       "\n",
       "    .dataframe tbody tr th {\n",
       "        vertical-align: top;\n",
       "    }\n",
       "\n",
       "    .dataframe thead th {\n",
       "        text-align: right;\n",
       "    }\n",
       "</style>\n",
       "<table border=\"1\" class=\"dataframe\">\n",
       "  <thead>\n",
       "    <tr style=\"text-align: right;\">\n",
       "      <th></th>\n",
       "      <th>R-Square</th>\n",
       "      <th>MSE</th>\n",
       "    </tr>\n",
       "  </thead>\n",
       "  <tbody>\n",
       "    <tr>\n",
       "      <th>Multiple Linear Regression</th>\n",
       "      <td>0.921937</td>\n",
       "      <td>265.746906</td>\n",
       "    </tr>\n",
       "    <tr>\n",
       "      <th>Multiple Linear Regression Normalized</th>\n",
       "      <td>0.921937</td>\n",
       "      <td>17.806394</td>\n",
       "    </tr>\n",
       "    <tr>\n",
       "      <th>Neural Network Regression</th>\n",
       "      <td>0.977083</td>\n",
       "      <td>94.265520</td>\n",
       "    </tr>\n",
       "    <tr>\n",
       "      <th>Random Forest Regression</th>\n",
       "      <td>0.940129</td>\n",
       "      <td>246.272838</td>\n",
       "    </tr>\n",
       "    <tr>\n",
       "      <th>Simple Linear Regression</th>\n",
       "      <td>0.903965</td>\n",
       "      <td>288.674425</td>\n",
       "    </tr>\n",
       "  </tbody>\n",
       "</table>\n",
       "</div>"
      ],
      "text/plain": [
       "                                       R-Square         MSE\n",
       "Multiple Linear Regression             0.921937  265.746906\n",
       "Multiple Linear Regression Normalized  0.921937   17.806394\n",
       "Neural Network Regression              0.977083   94.265520\n",
       "Random Forest Regression               0.940129  246.272838\n",
       "Simple Linear Regression               0.903965  288.674425"
      ]
     },
     "execution_count": 66,
     "metadata": {},
     "output_type": "execute_result"
    }
   ],
   "source": [
    "parameters = pd.DataFrame([{'R-Square': Rsq_mlr_nm, 'MSE': MSE_mlr_nm}], index=['Multiple Linear Regression Normalized'])\n",
    "df_MSE_Rsqr = df_MSE_Rsqr.append(parameters)\n",
    "df_MSE_Rsqr.sort_index()"
   ]
  },
  {
   "cell_type": "markdown",
   "id": "8baa87d9",
   "metadata": {},
   "source": [
    "Not bad! But still Neural Network Regression predicts better."
   ]
  },
  {
   "cell_type": "markdown",
   "id": "35f7bf33",
   "metadata": {},
   "source": [
    "### **Random Forest Regression - parameters**"
   ]
  },
  {
   "cell_type": "markdown",
   "id": "10ee819d",
   "metadata": {},
   "source": [
    "**Parameters available:**  \n",
    "class sklearn.ensemble.RandomForestRegressor(n_estimators=100, *, criterion='squared_error', max_depth=None, min_samples_split=2, min_samples_leaf=1, min_weight_fraction_leaf=0.0, max_features='auto', max_leaf_nodes=None, min_impurity_decrease=0.0, bootstrap=True, oob_score=False, n_jobs=None, random_state=None, verbose=0, warm_start=False, ccp_alpha=0.0, max_samples=None)\n",
    "\n",
    "I'm going to modify these parameters:\n",
    "\n",
    "**Parameters to modify**\n",
    "* n_estimators: int, default=100 //// **we used 10 in previous exercise**  \n",
    "The number of trees in the forest.\n",
    "\n",
    "* max_depth: int, default=None //// **we used defaul=None in previous exercise**  \n",
    "The maximum depth of the tree. If None, then nodes are expanded until all leaves are pure or until all leaves contain less than min_samples_split samples."
   ]
  },
  {
   "cell_type": "markdown",
   "id": "20e685d2",
   "metadata": {},
   "source": [
    "**Increase n_estimators from 10 to 100:**"
   ]
  },
  {
   "cell_type": "code",
   "execution_count": 67,
   "id": "c6776382",
   "metadata": {},
   "outputs": [],
   "source": [
    "rfr_model2 = RandomForestRegressor(n_estimators = 100, random_state = 7).fit(x_train_rfr, y_train.ArrDelay)"
   ]
  },
  {
   "cell_type": "code",
   "execution_count": 68,
   "id": "56be1748",
   "metadata": {},
   "outputs": [],
   "source": [
    "ArrDelay_pred32 = rfr_model2.predict(x_test_rfr)"
   ]
  },
  {
   "cell_type": "code",
   "execution_count": 69,
   "id": "44bea8b0",
   "metadata": {
    "scrolled": false
   },
   "outputs": [],
   "source": [
    "compare32 = y_test.copy()\n",
    "compare32['ArrDelay_pred'] = ArrDelay_pred32"
   ]
  },
  {
   "cell_type": "markdown",
   "id": "a9c55ba3",
   "metadata": {},
   "source": [
    "Let' calculate Mean Squared Error and R2:"
   ]
  },
  {
   "cell_type": "code",
   "execution_count": 70,
   "id": "4632804a",
   "metadata": {},
   "outputs": [
    {
     "data": {
      "text/plain": [
       "255.4549175361135"
      ]
     },
     "execution_count": 70,
     "metadata": {},
     "output_type": "execute_result"
    }
   ],
   "source": [
    "MSE_rfr2 = mean_squared_error(compare32.ArrDelay, compare32.ArrDelay_pred)\n",
    "MSE_rfr2"
   ]
  },
  {
   "cell_type": "code",
   "execution_count": 71,
   "id": "e940f399",
   "metadata": {},
   "outputs": [
    {
     "data": {
      "text/plain": [
       "0.9378968725432751"
      ]
     },
     "execution_count": 71,
     "metadata": {},
     "output_type": "execute_result"
    }
   ],
   "source": [
    "Rsq_rfr2 = rfr_model2.score(x_test_rfr, y_test)\n",
    "Rsq_rfr2"
   ]
  },
  {
   "cell_type": "markdown",
   "id": "c090833f",
   "metadata": {},
   "source": [
    "**Increase max_depth from None to 5:**"
   ]
  },
  {
   "cell_type": "code",
   "execution_count": 72,
   "id": "cfeca7a9",
   "metadata": {},
   "outputs": [],
   "source": [
    "rfr_model3 = RandomForestRegressor(n_estimators = 10, max_depth=5,  random_state = 7).fit(x_train_rfr, y_train.ArrDelay)"
   ]
  },
  {
   "cell_type": "code",
   "execution_count": 73,
   "id": "0d6f0a57",
   "metadata": {},
   "outputs": [],
   "source": [
    "ArrDelay_pred33 = rfr_model3.predict(x_test_rfr)"
   ]
  },
  {
   "cell_type": "code",
   "execution_count": 74,
   "id": "25d1b2b1",
   "metadata": {
    "scrolled": false
   },
   "outputs": [],
   "source": [
    "compare33 = y_test.copy()\n",
    "compare33['ArrDelay_pred'] = ArrDelay_pred33"
   ]
  },
  {
   "cell_type": "markdown",
   "id": "42b14601",
   "metadata": {},
   "source": [
    "Let' calculate Mean Squared Error and R2:"
   ]
  },
  {
   "cell_type": "code",
   "execution_count": 75,
   "id": "c3e21b84",
   "metadata": {},
   "outputs": [
    {
     "data": {
      "text/plain": [
       "287.77139074438026"
      ]
     },
     "execution_count": 75,
     "metadata": {},
     "output_type": "execute_result"
    }
   ],
   "source": [
    "MSE_rfr3 = mean_squared_error(compare33.ArrDelay, compare33.ArrDelay_pred)\n",
    "MSE_rfr3"
   ]
  },
  {
   "cell_type": "code",
   "execution_count": 76,
   "id": "6084d3dc",
   "metadata": {},
   "outputs": [
    {
     "data": {
      "text/plain": [
       "0.930040480214006"
      ]
     },
     "execution_count": 76,
     "metadata": {},
     "output_type": "execute_result"
    }
   ],
   "source": [
    "Rsq_rfr3 = rfr_model3.score(x_test_rfr, y_test)\n",
    "Rsq_rfr3"
   ]
  },
  {
   "cell_type": "code",
   "execution_count": 77,
   "id": "b69d3575",
   "metadata": {},
   "outputs": [
    {
     "data": {
      "text/html": [
       "<div>\n",
       "<style scoped>\n",
       "    .dataframe tbody tr th:only-of-type {\n",
       "        vertical-align: middle;\n",
       "    }\n",
       "\n",
       "    .dataframe tbody tr th {\n",
       "        vertical-align: top;\n",
       "    }\n",
       "\n",
       "    .dataframe thead th {\n",
       "        text-align: right;\n",
       "    }\n",
       "</style>\n",
       "<table border=\"1\" class=\"dataframe\">\n",
       "  <thead>\n",
       "    <tr style=\"text-align: right;\">\n",
       "      <th></th>\n",
       "      <th>R-Square</th>\n",
       "      <th>MSE</th>\n",
       "    </tr>\n",
       "  </thead>\n",
       "  <tbody>\n",
       "    <tr>\n",
       "      <th>Multiple Linear Regression</th>\n",
       "      <td>0.921937</td>\n",
       "      <td>265.746906</td>\n",
       "    </tr>\n",
       "    <tr>\n",
       "      <th>Multiple Linear Regression Normalized</th>\n",
       "      <td>0.921937</td>\n",
       "      <td>17.806394</td>\n",
       "    </tr>\n",
       "    <tr>\n",
       "      <th>Neural Network Regression</th>\n",
       "      <td>0.977083</td>\n",
       "      <td>94.265520</td>\n",
       "    </tr>\n",
       "    <tr>\n",
       "      <th>Random Forest (Increase max_depth)</th>\n",
       "      <td>0.930040</td>\n",
       "      <td>287.771391</td>\n",
       "    </tr>\n",
       "    <tr>\n",
       "      <th>Random Forest (Increase n_estimators)</th>\n",
       "      <td>0.937897</td>\n",
       "      <td>255.454918</td>\n",
       "    </tr>\n",
       "    <tr>\n",
       "      <th>Random Forest Regression</th>\n",
       "      <td>0.940129</td>\n",
       "      <td>246.272838</td>\n",
       "    </tr>\n",
       "    <tr>\n",
       "      <th>Simple Linear Regression</th>\n",
       "      <td>0.903965</td>\n",
       "      <td>288.674425</td>\n",
       "    </tr>\n",
       "  </tbody>\n",
       "</table>\n",
       "</div>"
      ],
      "text/plain": [
       "                                       R-Square         MSE\n",
       "Multiple Linear Regression             0.921937  265.746906\n",
       "Multiple Linear Regression Normalized  0.921937   17.806394\n",
       "Neural Network Regression              0.977083   94.265520\n",
       "Random Forest (Increase max_depth)     0.930040  287.771391\n",
       "Random Forest (Increase n_estimators)  0.937897  255.454918\n",
       "Random Forest Regression               0.940129  246.272838\n",
       "Simple Linear Regression               0.903965  288.674425"
      ]
     },
     "execution_count": 77,
     "metadata": {},
     "output_type": "execute_result"
    }
   ],
   "source": [
    "parameters = pd.DataFrame([{'R-Square': Rsq_rfr2, 'MSE': MSE_rfr2}, {'R-Square': Rsq_rfr3, 'MSE': MSE_rfr3}], \n",
    "                          index=['Random Forest (Increase n_estimators)', 'Random Forest (Increase max_depth)'])\n",
    "df_MSE_Rsqr = df_MSE_Rsqr.append(parameters)\n",
    "df_MSE_Rsqr.sort_index()"
   ]
  },
  {
   "cell_type": "markdown",
   "id": "44f3c070",
   "metadata": {},
   "source": [
    "### **Neural Network Regression - parameters**"
   ]
  },
  {
   "cell_type": "markdown",
   "id": "f0ed7556",
   "metadata": {},
   "source": [
    "**Parameters available:**\n",
    "\n",
    "class sklearn.neural_network.MLPRegressor(hidden_layer_sizes=(100,), activation='relu', *, solver='adam', alpha=0.0001, batch_size='auto', learning_rate='constant', learning_rate_init=0.001, power_t=0.5, max_iter=200, shuffle=True, random_state=None, tol=0.0001, verbose=False, warm_start=False, momentum=0.9, nesterovs_momentum=True, early_stopping=False, validation_fraction=0.1, beta_1=0.9, beta_2=0.999, epsilon=1e-08, n_iter_no_change=10, max_fun=15000)\n",
    "\n",
    "**Parameters to modify**\n",
    "\n",
    "solver: {‘lbfgs’, ‘sgd’, ‘adam’}, default=’adam’  \n",
    "The solver for weight optimization.\n",
    "\n",
    "‘lbfgs’ is an optimizer in the family of quasi-Newton methods.\n",
    "\n",
    "‘sgd’ refers to stochastic gradient descent.\n",
    "\n",
    "‘adam’ refers to a stochastic gradient-based optimizer proposed by Kingma, Diederik, and Jimmy Ba\n",
    "\n",
    "Note: The default solver ‘adam’ works pretty well on relatively large datasets (with thousands of training samples or more) in terms of both training time and validation score. For small datasets, however, ‘lbfgs’ can converge faster and perform better."
   ]
  },
  {
   "cell_type": "markdown",
   "id": "69e7b305",
   "metadata": {},
   "source": [
    "**Change solver to lbfgs**"
   ]
  },
  {
   "cell_type": "code",
   "execution_count": 78,
   "id": "8b36b45b",
   "metadata": {},
   "outputs": [
    {
     "name": "stderr",
     "output_type": "stream",
     "text": [
      "C:\\Users\\AlbertoAR\\anaconda3\\lib\\site-packages\\sklearn\\neural_network\\_multilayer_perceptron.py:549: ConvergenceWarning: lbfgs failed to converge (status=1):\n",
      "STOP: TOTAL NO. of ITERATIONS REACHED LIMIT.\n",
      "\n",
      "Increase the number of iterations (max_iter) or scale the data as shown in:\n",
      "    https://scikit-learn.org/stable/modules/preprocessing.html\n",
      "  self.n_iter_ = _check_optimize_result(\"lbfgs\", opt_res, self.max_iter)\n"
     ]
    },
    {
     "data": {
      "text/plain": [
       "MLPRegressor(hidden_layer_sizes=(6, 6, 6), max_iter=500, random_state=7,\n",
       "             solver='lbfgs')"
      ]
     },
     "execution_count": 78,
     "metadata": {},
     "output_type": "execute_result"
    }
   ],
   "source": [
    "nnr_model2 = MLPRegressor((len(x_train_nnr.columns),len(x_train_nnr.columns),len(x_train_nnr.columns)), activation='relu', solver ='lbfgs', random_state=7, max_iter=500).fit(x_train_nnr, y_train.ArrDelay)\n",
    "nnr_model2"
   ]
  },
  {
   "cell_type": "markdown",
   "id": "59822514",
   "metadata": {},
   "source": [
    "I will model with Normalized data!!"
   ]
  },
  {
   "cell_type": "code",
   "execution_count": 79,
   "id": "352c05ab",
   "metadata": {},
   "outputs": [],
   "source": [
    "ArrDelay_pred42 = nnr_model2.predict(x_test_nnr)"
   ]
  },
  {
   "cell_type": "code",
   "execution_count": 80,
   "id": "48f40356",
   "metadata": {},
   "outputs": [
    {
     "data": {
      "text/html": [
       "<div>\n",
       "<style scoped>\n",
       "    .dataframe tbody tr th:only-of-type {\n",
       "        vertical-align: middle;\n",
       "    }\n",
       "\n",
       "    .dataframe tbody tr th {\n",
       "        vertical-align: top;\n",
       "    }\n",
       "\n",
       "    .dataframe thead th {\n",
       "        text-align: right;\n",
       "    }\n",
       "</style>\n",
       "<table border=\"1\" class=\"dataframe\">\n",
       "  <thead>\n",
       "    <tr style=\"text-align: right;\">\n",
       "      <th></th>\n",
       "      <th>ArrDelay</th>\n",
       "      <th>ArrDelay_pred</th>\n",
       "    </tr>\n",
       "  </thead>\n",
       "  <tbody>\n",
       "    <tr>\n",
       "      <th>1977</th>\n",
       "      <td>161</td>\n",
       "      <td>161.329094</td>\n",
       "    </tr>\n",
       "    <tr>\n",
       "      <th>3880</th>\n",
       "      <td>63</td>\n",
       "      <td>59.556205</td>\n",
       "    </tr>\n",
       "    <tr>\n",
       "      <th>52</th>\n",
       "      <td>11</td>\n",
       "      <td>1.562419</td>\n",
       "    </tr>\n",
       "    <tr>\n",
       "      <th>2551</th>\n",
       "      <td>33</td>\n",
       "      <td>29.696693</td>\n",
       "    </tr>\n",
       "    <tr>\n",
       "      <th>2246</th>\n",
       "      <td>7</td>\n",
       "      <td>2.329094</td>\n",
       "    </tr>\n",
       "    <tr>\n",
       "      <th>...</th>\n",
       "      <td>...</td>\n",
       "      <td>...</td>\n",
       "    </tr>\n",
       "    <tr>\n",
       "      <th>9505</th>\n",
       "      <td>24</td>\n",
       "      <td>22.592957</td>\n",
       "    </tr>\n",
       "    <tr>\n",
       "      <th>2836</th>\n",
       "      <td>-1</td>\n",
       "      <td>2.402166</td>\n",
       "    </tr>\n",
       "    <tr>\n",
       "      <th>1169</th>\n",
       "      <td>20</td>\n",
       "      <td>18.053732</td>\n",
       "    </tr>\n",
       "    <tr>\n",
       "      <th>9929</th>\n",
       "      <td>-13</td>\n",
       "      <td>1.116694</td>\n",
       "    </tr>\n",
       "    <tr>\n",
       "      <th>8486</th>\n",
       "      <td>20</td>\n",
       "      <td>17.949073</td>\n",
       "    </tr>\n",
       "  </tbody>\n",
       "</table>\n",
       "<p>2000 rows × 2 columns</p>\n",
       "</div>"
      ],
      "text/plain": [
       "      ArrDelay  ArrDelay_pred\n",
       "1977       161     161.329094\n",
       "3880        63      59.556205\n",
       "52          11       1.562419\n",
       "2551        33      29.696693\n",
       "2246         7       2.329094\n",
       "...        ...            ...\n",
       "9505        24      22.592957\n",
       "2836        -1       2.402166\n",
       "1169        20      18.053732\n",
       "9929       -13       1.116694\n",
       "8486        20      17.949073\n",
       "\n",
       "[2000 rows x 2 columns]"
      ]
     },
     "execution_count": 80,
     "metadata": {},
     "output_type": "execute_result"
    }
   ],
   "source": [
    "compare42 = y_test.copy()\n",
    "compare42['ArrDelay_pred'] = ArrDelay_pred42\n",
    "compare42"
   ]
  },
  {
   "cell_type": "markdown",
   "id": "c999567a",
   "metadata": {},
   "source": [
    "Let' calculate Mean Squared Error and R2:"
   ]
  },
  {
   "cell_type": "code",
   "execution_count": 81,
   "id": "1b80ec1f",
   "metadata": {},
   "outputs": [
    {
     "data": {
      "text/plain": [
       "96.58539988636723"
      ]
     },
     "execution_count": 81,
     "metadata": {},
     "output_type": "execute_result"
    }
   ],
   "source": [
    "MSE_nnr2 = mean_squared_error(compare42.ArrDelay, compare42.ArrDelay_pred)\n",
    "MSE_nnr2"
   ]
  },
  {
   "cell_type": "code",
   "execution_count": 82,
   "id": "55deb576",
   "metadata": {},
   "outputs": [
    {
     "data": {
      "text/plain": [
       "0.9770833004549065"
      ]
     },
     "execution_count": 82,
     "metadata": {},
     "output_type": "execute_result"
    }
   ],
   "source": [
    "Rsq_nnr2 = nnr_model.score(x_test_rfr, y_test)\n",
    "Rsq_nnr2"
   ]
  },
  {
   "cell_type": "markdown",
   "id": "ab3c92bc",
   "metadata": {},
   "source": [
    "**With Normalized Data and adam solver**"
   ]
  },
  {
   "cell_type": "code",
   "execution_count": 83,
   "id": "c573e626",
   "metadata": {},
   "outputs": [],
   "source": [
    "x_train_nnr_nm = pd.DataFrame(MinMaxScaler().fit_transform(x_train_nnr))\n",
    "x_train_nnr_nm.columns = x_train_nnr.columns\n",
    "\n",
    "x_test_nnr_nm = pd.DataFrame(MinMaxScaler().fit_transform(x_test_nnr))\n",
    "x_test_nnr_nm.columns = x_test_nnr.columns"
   ]
  },
  {
   "cell_type": "code",
   "execution_count": 84,
   "id": "10284bf1",
   "metadata": {},
   "outputs": [
    {
     "data": {
      "text/plain": [
       "MLPRegressor(hidden_layer_sizes=(6, 6, 6), max_iter=500, random_state=7)"
      ]
     },
     "execution_count": 84,
     "metadata": {},
     "output_type": "execute_result"
    }
   ],
   "source": [
    "nnr_model3 = MLPRegressor((len(x_train_nnr_nm.columns),len(x_train_nnr_nm.columns),len(x_train_nnr_nm.columns)), activation='relu', solver ='adam', random_state=7, max_iter=500).fit(x_train_nnr_nm, y_train_nm.ArrDelay)\n",
    "nnr_model3"
   ]
  },
  {
   "cell_type": "code",
   "execution_count": 85,
   "id": "a2dbdf3d",
   "metadata": {},
   "outputs": [],
   "source": [
    "ArrDelay_pred43 = nnr_model3.predict(x_test_nnr_nm)"
   ]
  },
  {
   "cell_type": "code",
   "execution_count": 86,
   "id": "9edf809c",
   "metadata": {},
   "outputs": [
    {
     "data": {
      "text/html": [
       "<div>\n",
       "<style scoped>\n",
       "    .dataframe tbody tr th:only-of-type {\n",
       "        vertical-align: middle;\n",
       "    }\n",
       "\n",
       "    .dataframe tbody tr th {\n",
       "        vertical-align: top;\n",
       "    }\n",
       "\n",
       "    .dataframe thead th {\n",
       "        text-align: right;\n",
       "    }\n",
       "</style>\n",
       "<table border=\"1\" class=\"dataframe\">\n",
       "  <thead>\n",
       "    <tr style=\"text-align: right;\">\n",
       "      <th></th>\n",
       "      <th>ArrDelay</th>\n",
       "      <th>ArrDelay_pred</th>\n",
       "    </tr>\n",
       "  </thead>\n",
       "  <tbody>\n",
       "    <tr>\n",
       "      <th>0</th>\n",
       "      <td>0.139568</td>\n",
       "      <td>0.129119</td>\n",
       "    </tr>\n",
       "    <tr>\n",
       "      <th>1</th>\n",
       "      <td>0.069065</td>\n",
       "      <td>0.051445</td>\n",
       "    </tr>\n",
       "    <tr>\n",
       "      <th>2</th>\n",
       "      <td>0.031655</td>\n",
       "      <td>0.053031</td>\n",
       "    </tr>\n",
       "    <tr>\n",
       "      <th>3</th>\n",
       "      <td>0.047482</td>\n",
       "      <td>0.045377</td>\n",
       "    </tr>\n",
       "    <tr>\n",
       "      <th>4</th>\n",
       "      <td>0.028777</td>\n",
       "      <td>0.036133</td>\n",
       "    </tr>\n",
       "    <tr>\n",
       "      <th>...</th>\n",
       "      <td>...</td>\n",
       "      <td>...</td>\n",
       "    </tr>\n",
       "    <tr>\n",
       "      <th>1995</th>\n",
       "      <td>0.041007</td>\n",
       "      <td>0.049638</td>\n",
       "    </tr>\n",
       "    <tr>\n",
       "      <th>1996</th>\n",
       "      <td>0.023022</td>\n",
       "      <td>0.039018</td>\n",
       "    </tr>\n",
       "    <tr>\n",
       "      <th>1997</th>\n",
       "      <td>0.038129</td>\n",
       "      <td>0.045210</td>\n",
       "    </tr>\n",
       "    <tr>\n",
       "      <th>1998</th>\n",
       "      <td>0.014388</td>\n",
       "      <td>0.048046</td>\n",
       "    </tr>\n",
       "    <tr>\n",
       "      <th>1999</th>\n",
       "      <td>0.038129</td>\n",
       "      <td>0.041479</td>\n",
       "    </tr>\n",
       "  </tbody>\n",
       "</table>\n",
       "<p>2000 rows × 2 columns</p>\n",
       "</div>"
      ],
      "text/plain": [
       "      ArrDelay  ArrDelay_pred\n",
       "0     0.139568       0.129119\n",
       "1     0.069065       0.051445\n",
       "2     0.031655       0.053031\n",
       "3     0.047482       0.045377\n",
       "4     0.028777       0.036133\n",
       "...        ...            ...\n",
       "1995  0.041007       0.049638\n",
       "1996  0.023022       0.039018\n",
       "1997  0.038129       0.045210\n",
       "1998  0.014388       0.048046\n",
       "1999  0.038129       0.041479\n",
       "\n",
       "[2000 rows x 2 columns]"
      ]
     },
     "execution_count": 86,
     "metadata": {},
     "output_type": "execute_result"
    }
   ],
   "source": [
    "compare43 = y_test_nm.copy()\n",
    "compare43['ArrDelay_pred'] = ArrDelay_pred43\n",
    "compare43"
   ]
  },
  {
   "cell_type": "markdown",
   "id": "30d47298",
   "metadata": {},
   "source": [
    "Let' calculate Mean Squared Error and R2:"
   ]
  },
  {
   "cell_type": "code",
   "execution_count": 87,
   "id": "f2028dbf",
   "metadata": {},
   "outputs": [
    {
     "data": {
      "text/plain": [
       "0.0006149702121422159"
      ]
     },
     "execution_count": 87,
     "metadata": {},
     "output_type": "execute_result"
    }
   ],
   "source": [
    "MSE_nnr3 = mean_squared_error(compare43.ArrDelay, compare43.ArrDelay_pred)\n",
    "MSE_nnr3"
   ]
  },
  {
   "cell_type": "code",
   "execution_count": 88,
   "id": "1de1a772",
   "metadata": {},
   "outputs": [
    {
     "data": {
      "text/plain": [
       "0.711143007905926"
      ]
     },
     "execution_count": 88,
     "metadata": {},
     "output_type": "execute_result"
    }
   ],
   "source": [
    "Rsq_nnr3 = nnr_model3.score(x_test_nnr_nm, y_test_nm)\n",
    "Rsq_nnr3"
   ]
  },
  {
   "cell_type": "code",
   "execution_count": 89,
   "id": "cf10d740",
   "metadata": {},
   "outputs": [
    {
     "data": {
      "text/html": [
       "<div>\n",
       "<style scoped>\n",
       "    .dataframe tbody tr th:only-of-type {\n",
       "        vertical-align: middle;\n",
       "    }\n",
       "\n",
       "    .dataframe tbody tr th {\n",
       "        vertical-align: top;\n",
       "    }\n",
       "\n",
       "    .dataframe thead th {\n",
       "        text-align: right;\n",
       "    }\n",
       "</style>\n",
       "<table border=\"1\" class=\"dataframe\">\n",
       "  <thead>\n",
       "    <tr style=\"text-align: right;\">\n",
       "      <th></th>\n",
       "      <th>R-Square</th>\n",
       "      <th>MSE</th>\n",
       "    </tr>\n",
       "  </thead>\n",
       "  <tbody>\n",
       "    <tr>\n",
       "      <th>Multiple Linear Regression</th>\n",
       "      <td>0.921937</td>\n",
       "      <td>265.746906</td>\n",
       "    </tr>\n",
       "    <tr>\n",
       "      <th>Multiple Linear Regression Normalized</th>\n",
       "      <td>0.921937</td>\n",
       "      <td>17.806394</td>\n",
       "    </tr>\n",
       "    <tr>\n",
       "      <th>Neural Network (lbfgs solver)</th>\n",
       "      <td>0.977083</td>\n",
       "      <td>96.585400</td>\n",
       "    </tr>\n",
       "    <tr>\n",
       "      <th>Neural Network (normalized data, adam solver)</th>\n",
       "      <td>0.711143</td>\n",
       "      <td>0.000615</td>\n",
       "    </tr>\n",
       "    <tr>\n",
       "      <th>Neural Network Regression</th>\n",
       "      <td>0.977083</td>\n",
       "      <td>94.265520</td>\n",
       "    </tr>\n",
       "    <tr>\n",
       "      <th>Random Forest (Increase max_depth)</th>\n",
       "      <td>0.930040</td>\n",
       "      <td>287.771391</td>\n",
       "    </tr>\n",
       "    <tr>\n",
       "      <th>Random Forest (Increase n_estimators)</th>\n",
       "      <td>0.937897</td>\n",
       "      <td>255.454918</td>\n",
       "    </tr>\n",
       "    <tr>\n",
       "      <th>Random Forest Regression</th>\n",
       "      <td>0.940129</td>\n",
       "      <td>246.272838</td>\n",
       "    </tr>\n",
       "    <tr>\n",
       "      <th>Simple Linear Regression</th>\n",
       "      <td>0.903965</td>\n",
       "      <td>288.674425</td>\n",
       "    </tr>\n",
       "  </tbody>\n",
       "</table>\n",
       "</div>"
      ],
      "text/plain": [
       "                                               R-Square         MSE\n",
       "Multiple Linear Regression                     0.921937  265.746906\n",
       "Multiple Linear Regression Normalized          0.921937   17.806394\n",
       "Neural Network (lbfgs solver)                  0.977083   96.585400\n",
       "Neural Network (normalized data, adam solver)  0.711143    0.000615\n",
       "Neural Network Regression                      0.977083   94.265520\n",
       "Random Forest (Increase max_depth)             0.930040  287.771391\n",
       "Random Forest (Increase n_estimators)          0.937897  255.454918\n",
       "Random Forest Regression                       0.940129  246.272838\n",
       "Simple Linear Regression                       0.903965  288.674425"
      ]
     },
     "execution_count": 89,
     "metadata": {},
     "output_type": "execute_result"
    }
   ],
   "source": [
    "parameters = pd.DataFrame([{'R-Square': Rsq_nnr2, 'MSE': MSE_nnr2}, {'R-Square': Rsq_nnr3, 'MSE': MSE_nnr3}], \n",
    "                          index=['Neural Network (lbfgs solver)', 'Neural Network (normalized data, adam solver)'])\n",
    "df_MSE_Rsqr = df_MSE_Rsqr.append(parameters)\n",
    "df_MSE_Rsqr.sort_index()"
   ]
  },
  {
   "cell_type": "markdown",
   "id": "12472e5a",
   "metadata": {},
   "source": [
    "Changing solvers didn't do much, R-Square remains the same and MSE got a little bit higher. Normalized data reduce drastically MSE but also R-Square."
   ]
  },
  {
   "cell_type": "markdown",
   "id": "f482bf47",
   "metadata": {},
   "source": [
    "### <SPAN style=color:#1F618D>Practice 4</SPAN>"
   ]
  },
  {
   "cell_type": "markdown",
   "id": "d426ca04",
   "metadata": {},
   "source": [
    "<SPAN style=color:#1F618D>Compare their performance using the test/train approach or using all data (internal validation)</SPAN>"
   ]
  },
  {
   "cell_type": "markdown",
   "id": "7aae3486",
   "metadata": {},
   "source": [
    "Let's run de models using all data without spliting."
   ]
  },
  {
   "cell_type": "markdown",
   "id": "17133643",
   "metadata": {},
   "source": [
    "### **Multiple Linear Regression - all data**"
   ]
  },
  {
   "cell_type": "code",
   "execution_count": 90,
   "id": "d472a128",
   "metadata": {},
   "outputs": [],
   "source": [
    "x_all_mlr = x[features_sel]\n",
    "y_all_mlr = y"
   ]
  },
  {
   "cell_type": "code",
   "execution_count": 91,
   "id": "7fc81041",
   "metadata": {},
   "outputs": [
    {
     "name": "stderr",
     "output_type": "stream",
     "text": [
      "C:\\Users\\AlbertoAR\\anaconda3\\lib\\site-packages\\statsmodels\\tsa\\tsatools.py:142: FutureWarning: In a future version of pandas all arguments of concat except for the argument 'objs' will be keyword-only\n",
      "  x = pd.concat(x[::order], 1)\n"
     ]
    }
   ],
   "source": [
    "x_all_mlr = sm.add_constant(x_all_mlr)"
   ]
  },
  {
   "cell_type": "code",
   "execution_count": 92,
   "id": "55b6f1a1",
   "metadata": {},
   "outputs": [],
   "source": [
    "mlr_model_all = sm.OLS(y_all_mlr.ArrDelay, x_all_mlr).fit()"
   ]
  },
  {
   "cell_type": "code",
   "execution_count": 93,
   "id": "c3357b8a",
   "metadata": {},
   "outputs": [
    {
     "data": {
      "text/html": [
       "<table class=\"simpletable\">\n",
       "<caption>OLS Regression Results</caption>\n",
       "<tr>\n",
       "  <th>Dep. Variable:</th>        <td>ArrDelay</td>     <th>  R-squared:         </th> <td>   0.925</td> \n",
       "</tr>\n",
       "<tr>\n",
       "  <th>Model:</th>                   <td>OLS</td>       <th>  Adj. R-squared:    </th> <td>   0.925</td> \n",
       "</tr>\n",
       "<tr>\n",
       "  <th>Method:</th>             <td>Least Squares</td>  <th>  F-statistic:       </th> <td>2.059e+04</td>\n",
       "</tr>\n",
       "<tr>\n",
       "  <th>Date:</th>             <td>Tue, 19 Apr 2022</td> <th>  Prob (F-statistic):</th>  <td>  0.00</td>  \n",
       "</tr>\n",
       "<tr>\n",
       "  <th>Time:</th>                 <td>16:04:45</td>     <th>  Log-Likelihood:    </th> <td> -42105.</td> \n",
       "</tr>\n",
       "<tr>\n",
       "  <th>No. Observations:</th>      <td> 10000</td>      <th>  AIC:               </th> <td>8.422e+04</td>\n",
       "</tr>\n",
       "<tr>\n",
       "  <th>Df Residuals:</th>          <td>  9993</td>      <th>  BIC:               </th> <td>8.427e+04</td>\n",
       "</tr>\n",
       "<tr>\n",
       "  <th>Df Model:</th>              <td>     6</td>      <th>                     </th>     <td> </td>    \n",
       "</tr>\n",
       "<tr>\n",
       "  <th>Covariance Type:</th>      <td>nonrobust</td>    <th>                     </th>     <td> </td>    \n",
       "</tr>\n",
       "</table>\n",
       "<table class=\"simpletable\">\n",
       "<tr>\n",
       "          <td></td>             <th>coef</th>     <th>std err</th>      <th>t</th>      <th>P>|t|</th>  <th>[0.025</th>    <th>0.975]</th>  \n",
       "</tr>\n",
       "<tr>\n",
       "  <th>const</th>             <td>   -4.1185</td> <td>    0.242</td> <td>  -17.007</td> <td> 0.000</td> <td>   -4.593</td> <td>   -3.644</td>\n",
       "</tr>\n",
       "<tr>\n",
       "  <th>DepDelay</th>          <td>    0.9181</td> <td>    0.005</td> <td>  179.965</td> <td> 0.000</td> <td>    0.908</td> <td>    0.928</td>\n",
       "</tr>\n",
       "<tr>\n",
       "  <th>CarrierDelay</th>      <td>    0.0705</td> <td>    0.006</td> <td>   11.901</td> <td> 0.000</td> <td>    0.059</td> <td>    0.082</td>\n",
       "</tr>\n",
       "<tr>\n",
       "  <th>WeatherDelay</th>      <td>    0.1136</td> <td>    0.009</td> <td>   13.276</td> <td> 0.000</td> <td>    0.097</td> <td>    0.130</td>\n",
       "</tr>\n",
       "<tr>\n",
       "  <th>NASDelay</th>          <td>    0.2737</td> <td>    0.006</td> <td>   43.224</td> <td> 0.000</td> <td>    0.261</td> <td>    0.286</td>\n",
       "</tr>\n",
       "<tr>\n",
       "  <th>SecurityDelay</th>     <td>    0.1830</td> <td>    0.114</td> <td>    1.604</td> <td> 0.109</td> <td>   -0.041</td> <td>    0.407</td>\n",
       "</tr>\n",
       "<tr>\n",
       "  <th>LateAircraftDelay</th> <td>    0.0650</td> <td>    0.006</td> <td>   10.473</td> <td> 0.000</td> <td>    0.053</td> <td>    0.077</td>\n",
       "</tr>\n",
       "</table>\n",
       "<table class=\"simpletable\">\n",
       "<tr>\n",
       "  <th>Omnibus:</th>       <td>2177.371</td> <th>  Durbin-Watson:     </th> <td>   2.038</td> \n",
       "</tr>\n",
       "<tr>\n",
       "  <th>Prob(Omnibus):</th>  <td> 0.000</td>  <th>  Jarque-Bera (JB):  </th> <td>83208.492</td>\n",
       "</tr>\n",
       "<tr>\n",
       "  <th>Skew:</th>           <td> 0.228</td>  <th>  Prob(JB):          </th> <td>    0.00</td> \n",
       "</tr>\n",
       "<tr>\n",
       "  <th>Kurtosis:</th>       <td>17.124</td>  <th>  Cond. No.          </th> <td>    123.</td> \n",
       "</tr>\n",
       "</table><br/><br/>Notes:<br/>[1] Standard Errors assume that the covariance matrix of the errors is correctly specified."
      ],
      "text/plain": [
       "<class 'statsmodels.iolib.summary.Summary'>\n",
       "\"\"\"\n",
       "                            OLS Regression Results                            \n",
       "==============================================================================\n",
       "Dep. Variable:               ArrDelay   R-squared:                       0.925\n",
       "Model:                            OLS   Adj. R-squared:                  0.925\n",
       "Method:                 Least Squares   F-statistic:                 2.059e+04\n",
       "Date:                Tue, 19 Apr 2022   Prob (F-statistic):               0.00\n",
       "Time:                        16:04:45   Log-Likelihood:                -42105.\n",
       "No. Observations:               10000   AIC:                         8.422e+04\n",
       "Df Residuals:                    9993   BIC:                         8.427e+04\n",
       "Df Model:                           6                                         \n",
       "Covariance Type:            nonrobust                                         \n",
       "=====================================================================================\n",
       "                        coef    std err          t      P>|t|      [0.025      0.975]\n",
       "-------------------------------------------------------------------------------------\n",
       "const                -4.1185      0.242    -17.007      0.000      -4.593      -3.644\n",
       "DepDelay              0.9181      0.005    179.965      0.000       0.908       0.928\n",
       "CarrierDelay          0.0705      0.006     11.901      0.000       0.059       0.082\n",
       "WeatherDelay          0.1136      0.009     13.276      0.000       0.097       0.130\n",
       "NASDelay              0.2737      0.006     43.224      0.000       0.261       0.286\n",
       "SecurityDelay         0.1830      0.114      1.604      0.109      -0.041       0.407\n",
       "LateAircraftDelay     0.0650      0.006     10.473      0.000       0.053       0.077\n",
       "==============================================================================\n",
       "Omnibus:                     2177.371   Durbin-Watson:                   2.038\n",
       "Prob(Omnibus):                  0.000   Jarque-Bera (JB):            83208.492\n",
       "Skew:                           0.228   Prob(JB):                         0.00\n",
       "Kurtosis:                      17.124   Cond. No.                         123.\n",
       "==============================================================================\n",
       "\n",
       "Notes:\n",
       "[1] Standard Errors assume that the covariance matrix of the errors is correctly specified.\n",
       "\"\"\""
      ]
     },
     "execution_count": 93,
     "metadata": {},
     "output_type": "execute_result"
    }
   ],
   "source": [
    "mlr_model_all.summary()"
   ]
  },
  {
   "cell_type": "code",
   "execution_count": 94,
   "id": "010be639",
   "metadata": {},
   "outputs": [],
   "source": [
    "ArrDelay_pred_all = mlr_model_all.predict(x_all_mlr)"
   ]
  },
  {
   "cell_type": "code",
   "execution_count": 95,
   "id": "afa54109",
   "metadata": {},
   "outputs": [],
   "source": [
    "ArrDelay_pred_all = pd.DataFrame(ArrDelay_pred_all, columns = ['ArrDelay_pred'])"
   ]
  },
  {
   "cell_type": "code",
   "execution_count": 96,
   "id": "fa7df208",
   "metadata": {},
   "outputs": [
    {
     "data": {
      "text/html": [
       "<div>\n",
       "<style scoped>\n",
       "    .dataframe tbody tr th:only-of-type {\n",
       "        vertical-align: middle;\n",
       "    }\n",
       "\n",
       "    .dataframe tbody tr th {\n",
       "        vertical-align: top;\n",
       "    }\n",
       "\n",
       "    .dataframe thead th {\n",
       "        text-align: right;\n",
       "    }\n",
       "</style>\n",
       "<table border=\"1\" class=\"dataframe\">\n",
       "  <thead>\n",
       "    <tr style=\"text-align: right;\">\n",
       "      <th></th>\n",
       "      <th>ArrDelay</th>\n",
       "      <th>ArrDelay_pred</th>\n",
       "    </tr>\n",
       "  </thead>\n",
       "  <tbody>\n",
       "    <tr>\n",
       "      <th>0</th>\n",
       "      <td>3</td>\n",
       "      <td>10.930521</td>\n",
       "    </tr>\n",
       "    <tr>\n",
       "      <th>1</th>\n",
       "      <td>28</td>\n",
       "      <td>22.643649</td>\n",
       "    </tr>\n",
       "    <tr>\n",
       "      <th>2</th>\n",
       "      <td>10</td>\n",
       "      <td>8.904275</td>\n",
       "    </tr>\n",
       "    <tr>\n",
       "      <th>3</th>\n",
       "      <td>198</td>\n",
       "      <td>195.911748</td>\n",
       "    </tr>\n",
       "    <tr>\n",
       "      <th>4</th>\n",
       "      <td>3</td>\n",
       "      <td>10.853755</td>\n",
       "    </tr>\n",
       "    <tr>\n",
       "      <th>...</th>\n",
       "      <td>...</td>\n",
       "      <td>...</td>\n",
       "    </tr>\n",
       "    <tr>\n",
       "      <th>9995</th>\n",
       "      <td>97</td>\n",
       "      <td>99.118802</td>\n",
       "    </tr>\n",
       "    <tr>\n",
       "      <th>9996</th>\n",
       "      <td>36</td>\n",
       "      <td>24.321521</td>\n",
       "    </tr>\n",
       "    <tr>\n",
       "      <th>9997</th>\n",
       "      <td>36</td>\n",
       "      <td>23.469321</td>\n",
       "    </tr>\n",
       "    <tr>\n",
       "      <th>9998</th>\n",
       "      <td>12</td>\n",
       "      <td>13.605514</td>\n",
       "    </tr>\n",
       "    <tr>\n",
       "      <th>9999</th>\n",
       "      <td>8</td>\n",
       "      <td>14.778645</td>\n",
       "    </tr>\n",
       "  </tbody>\n",
       "</table>\n",
       "<p>10000 rows × 2 columns</p>\n",
       "</div>"
      ],
      "text/plain": [
       "      ArrDelay  ArrDelay_pred\n",
       "0            3      10.930521\n",
       "1           28      22.643649\n",
       "2           10       8.904275\n",
       "3          198     195.911748\n",
       "4            3      10.853755\n",
       "...        ...            ...\n",
       "9995        97      99.118802\n",
       "9996        36      24.321521\n",
       "9997        36      23.469321\n",
       "9998        12      13.605514\n",
       "9999         8      14.778645\n",
       "\n",
       "[10000 rows x 2 columns]"
      ]
     },
     "execution_count": 96,
     "metadata": {},
     "output_type": "execute_result"
    }
   ],
   "source": [
    "compare_mlr_all = pd.concat([y_all_mlr, ArrDelay_pred_all], axis = 'columns')\n",
    "compare_mlr_all"
   ]
  },
  {
   "cell_type": "markdown",
   "id": "4ba45ccf",
   "metadata": {},
   "source": [
    "Let' calculate Mean Squared Error and R2:"
   ]
  },
  {
   "cell_type": "code",
   "execution_count": 97,
   "id": "e9b43ec0",
   "metadata": {},
   "outputs": [
    {
     "data": {
      "text/plain": [
       "265.8981303151202"
      ]
     },
     "execution_count": 97,
     "metadata": {},
     "output_type": "execute_result"
    }
   ],
   "source": [
    "MSE_mlr_all = mean_squared_error(compare_mlr_all.ArrDelay, compare_mlr_all.ArrDelay_pred)\n",
    "MSE_mlr_all"
   ]
  },
  {
   "cell_type": "code",
   "execution_count": 98,
   "id": "1031eef2",
   "metadata": {},
   "outputs": [
    {
     "data": {
      "text/plain": [
       "0.9251687505949514"
      ]
     },
     "execution_count": 98,
     "metadata": {},
     "output_type": "execute_result"
    }
   ],
   "source": [
    "Rsq_mlr_all = mlr_model_all.rsquared\n",
    "Rsq_mlr_all"
   ]
  },
  {
   "cell_type": "code",
   "execution_count": 99,
   "id": "e8cbfb7e",
   "metadata": {},
   "outputs": [
    {
     "data": {
      "text/html": [
       "<div>\n",
       "<style scoped>\n",
       "    .dataframe tbody tr th:only-of-type {\n",
       "        vertical-align: middle;\n",
       "    }\n",
       "\n",
       "    .dataframe tbody tr th {\n",
       "        vertical-align: top;\n",
       "    }\n",
       "\n",
       "    .dataframe thead th {\n",
       "        text-align: right;\n",
       "    }\n",
       "</style>\n",
       "<table border=\"1\" class=\"dataframe\">\n",
       "  <thead>\n",
       "    <tr style=\"text-align: right;\">\n",
       "      <th></th>\n",
       "      <th>R-Square</th>\n",
       "      <th>MSE</th>\n",
       "    </tr>\n",
       "  </thead>\n",
       "  <tbody>\n",
       "    <tr>\n",
       "      <th>Multiple Linear - all data</th>\n",
       "      <td>0.925169</td>\n",
       "      <td>265.898130</td>\n",
       "    </tr>\n",
       "    <tr>\n",
       "      <th>Multiple Linear Regression</th>\n",
       "      <td>0.921937</td>\n",
       "      <td>265.746906</td>\n",
       "    </tr>\n",
       "    <tr>\n",
       "      <th>Multiple Linear Regression Normalized</th>\n",
       "      <td>0.921937</td>\n",
       "      <td>17.806394</td>\n",
       "    </tr>\n",
       "    <tr>\n",
       "      <th>Neural Network (lbfgs solver)</th>\n",
       "      <td>0.977083</td>\n",
       "      <td>96.585400</td>\n",
       "    </tr>\n",
       "    <tr>\n",
       "      <th>Neural Network (normalized data, adam solver)</th>\n",
       "      <td>0.711143</td>\n",
       "      <td>0.000615</td>\n",
       "    </tr>\n",
       "    <tr>\n",
       "      <th>Neural Network Regression</th>\n",
       "      <td>0.977083</td>\n",
       "      <td>94.265520</td>\n",
       "    </tr>\n",
       "    <tr>\n",
       "      <th>Random Forest (Increase max_depth)</th>\n",
       "      <td>0.930040</td>\n",
       "      <td>287.771391</td>\n",
       "    </tr>\n",
       "    <tr>\n",
       "      <th>Random Forest (Increase n_estimators)</th>\n",
       "      <td>0.937897</td>\n",
       "      <td>255.454918</td>\n",
       "    </tr>\n",
       "    <tr>\n",
       "      <th>Random Forest Regression</th>\n",
       "      <td>0.940129</td>\n",
       "      <td>246.272838</td>\n",
       "    </tr>\n",
       "    <tr>\n",
       "      <th>Simple Linear Regression</th>\n",
       "      <td>0.903965</td>\n",
       "      <td>288.674425</td>\n",
       "    </tr>\n",
       "  </tbody>\n",
       "</table>\n",
       "</div>"
      ],
      "text/plain": [
       "                                               R-Square         MSE\n",
       "Multiple Linear - all data                     0.925169  265.898130\n",
       "Multiple Linear Regression                     0.921937  265.746906\n",
       "Multiple Linear Regression Normalized          0.921937   17.806394\n",
       "Neural Network (lbfgs solver)                  0.977083   96.585400\n",
       "Neural Network (normalized data, adam solver)  0.711143    0.000615\n",
       "Neural Network Regression                      0.977083   94.265520\n",
       "Random Forest (Increase max_depth)             0.930040  287.771391\n",
       "Random Forest (Increase n_estimators)          0.937897  255.454918\n",
       "Random Forest Regression                       0.940129  246.272838\n",
       "Simple Linear Regression                       0.903965  288.674425"
      ]
     },
     "execution_count": 99,
     "metadata": {},
     "output_type": "execute_result"
    }
   ],
   "source": [
    "parameters = pd.DataFrame([{'R-Square': Rsq_mlr_all, 'MSE': MSE_mlr_all}], \n",
    "                          index=['Multiple Linear - all data'])\n",
    "df_MSE_Rsqr = df_MSE_Rsqr.append(parameters)\n",
    "df_MSE_Rsqr.sort_index()"
   ]
  },
  {
   "cell_type": "markdown",
   "id": "2df37ccf",
   "metadata": {},
   "source": [
    "Results are almost identical to Multiple Linear Regression with the data being splitted between Train and Test."
   ]
  },
  {
   "cell_type": "markdown",
   "id": "ee6c7992",
   "metadata": {},
   "source": [
    "### **Random Forest Regression - all data**"
   ]
  },
  {
   "cell_type": "code",
   "execution_count": 100,
   "id": "c8d766af",
   "metadata": {},
   "outputs": [],
   "source": [
    "x_all_rfr = x[features_sel]\n",
    "y_all_rfr = y"
   ]
  },
  {
   "cell_type": "code",
   "execution_count": 101,
   "id": "fea7c5ae",
   "metadata": {},
   "outputs": [
    {
     "data": {
      "text/plain": [
       "RandomForestRegressor(n_estimators=10, random_state=7)"
      ]
     },
     "execution_count": 101,
     "metadata": {},
     "output_type": "execute_result"
    }
   ],
   "source": [
    "rfr_model_all = RandomForestRegressor(n_estimators = 10, random_state = 7).fit(x_all_rfr, y_all_rfr.ArrDelay)\n",
    "rfr_model_all"
   ]
  },
  {
   "cell_type": "code",
   "execution_count": 102,
   "id": "8d27eaff",
   "metadata": {},
   "outputs": [],
   "source": [
    "ArrDelay_all2 = rfr_model_all.predict(x_all_rfr)"
   ]
  },
  {
   "cell_type": "code",
   "execution_count": 103,
   "id": "e160b3be",
   "metadata": {
    "scrolled": false
   },
   "outputs": [
    {
     "data": {
      "text/html": [
       "<div>\n",
       "<style scoped>\n",
       "    .dataframe tbody tr th:only-of-type {\n",
       "        vertical-align: middle;\n",
       "    }\n",
       "\n",
       "    .dataframe tbody tr th {\n",
       "        vertical-align: top;\n",
       "    }\n",
       "\n",
       "    .dataframe thead th {\n",
       "        text-align: right;\n",
       "    }\n",
       "</style>\n",
       "<table border=\"1\" class=\"dataframe\">\n",
       "  <thead>\n",
       "    <tr style=\"text-align: right;\">\n",
       "      <th></th>\n",
       "      <th>ArrDelay</th>\n",
       "      <th>ArrDelay_pred</th>\n",
       "    </tr>\n",
       "  </thead>\n",
       "  <tbody>\n",
       "    <tr>\n",
       "      <th>0</th>\n",
       "      <td>3</td>\n",
       "      <td>2.500000</td>\n",
       "    </tr>\n",
       "    <tr>\n",
       "      <th>1</th>\n",
       "      <td>28</td>\n",
       "      <td>27.900000</td>\n",
       "    </tr>\n",
       "    <tr>\n",
       "      <th>2</th>\n",
       "      <td>10</td>\n",
       "      <td>7.800000</td>\n",
       "    </tr>\n",
       "    <tr>\n",
       "      <th>3</th>\n",
       "      <td>198</td>\n",
       "      <td>192.800000</td>\n",
       "    </tr>\n",
       "    <tr>\n",
       "      <th>4</th>\n",
       "      <td>3</td>\n",
       "      <td>3.800000</td>\n",
       "    </tr>\n",
       "    <tr>\n",
       "      <th>...</th>\n",
       "      <td>...</td>\n",
       "      <td>...</td>\n",
       "    </tr>\n",
       "    <tr>\n",
       "      <th>9995</th>\n",
       "      <td>97</td>\n",
       "      <td>97.300000</td>\n",
       "    </tr>\n",
       "    <tr>\n",
       "      <th>9996</th>\n",
       "      <td>36</td>\n",
       "      <td>35.400000</td>\n",
       "    </tr>\n",
       "    <tr>\n",
       "      <th>9997</th>\n",
       "      <td>36</td>\n",
       "      <td>35.600000</td>\n",
       "    </tr>\n",
       "    <tr>\n",
       "      <th>9998</th>\n",
       "      <td>12</td>\n",
       "      <td>16.097421</td>\n",
       "    </tr>\n",
       "    <tr>\n",
       "      <th>9999</th>\n",
       "      <td>8</td>\n",
       "      <td>7.700000</td>\n",
       "    </tr>\n",
       "  </tbody>\n",
       "</table>\n",
       "<p>10000 rows × 2 columns</p>\n",
       "</div>"
      ],
      "text/plain": [
       "      ArrDelay  ArrDelay_pred\n",
       "0            3       2.500000\n",
       "1           28      27.900000\n",
       "2           10       7.800000\n",
       "3          198     192.800000\n",
       "4            3       3.800000\n",
       "...        ...            ...\n",
       "9995        97      97.300000\n",
       "9996        36      35.400000\n",
       "9997        36      35.600000\n",
       "9998        12      16.097421\n",
       "9999         8       7.700000\n",
       "\n",
       "[10000 rows x 2 columns]"
      ]
     },
     "execution_count": 103,
     "metadata": {},
     "output_type": "execute_result"
    }
   ],
   "source": [
    "compare_rfr_all = y_all_rfr.copy()\n",
    "compare_rfr_all['ArrDelay_pred'] = ArrDelay_all2\n",
    "compare_rfr_all"
   ]
  },
  {
   "cell_type": "markdown",
   "id": "07c22ae6",
   "metadata": {},
   "source": [
    "Let' calculate Mean Squared Error and R2:"
   ]
  },
  {
   "cell_type": "code",
   "execution_count": 104,
   "id": "4af468e4",
   "metadata": {},
   "outputs": [
    {
     "data": {
      "text/plain": [
       "34.537842431822725"
      ]
     },
     "execution_count": 104,
     "metadata": {},
     "output_type": "execute_result"
    }
   ],
   "source": [
    "MSE_rfr_all = mean_squared_error(compare_rfr_all.ArrDelay, compare_rfr_all.ArrDelay_pred)\n",
    "MSE_rfr_all"
   ]
  },
  {
   "cell_type": "code",
   "execution_count": 105,
   "id": "b9df23af",
   "metadata": {},
   "outputs": [
    {
     "data": {
      "text/plain": [
       "0.9401291092830109"
      ]
     },
     "execution_count": 105,
     "metadata": {},
     "output_type": "execute_result"
    }
   ],
   "source": [
    "Rsq_rfr_all = rfr_model.score(x_test_rfr, y_test)\n",
    "Rsq_rfr_all"
   ]
  },
  {
   "cell_type": "code",
   "execution_count": 106,
   "id": "b4101604",
   "metadata": {},
   "outputs": [
    {
     "data": {
      "text/html": [
       "<div>\n",
       "<style scoped>\n",
       "    .dataframe tbody tr th:only-of-type {\n",
       "        vertical-align: middle;\n",
       "    }\n",
       "\n",
       "    .dataframe tbody tr th {\n",
       "        vertical-align: top;\n",
       "    }\n",
       "\n",
       "    .dataframe thead th {\n",
       "        text-align: right;\n",
       "    }\n",
       "</style>\n",
       "<table border=\"1\" class=\"dataframe\">\n",
       "  <thead>\n",
       "    <tr style=\"text-align: right;\">\n",
       "      <th></th>\n",
       "      <th>R-Square</th>\n",
       "      <th>MSE</th>\n",
       "    </tr>\n",
       "  </thead>\n",
       "  <tbody>\n",
       "    <tr>\n",
       "      <th>Multiple Linear - all data</th>\n",
       "      <td>0.925169</td>\n",
       "      <td>265.898130</td>\n",
       "    </tr>\n",
       "    <tr>\n",
       "      <th>Multiple Linear Regression</th>\n",
       "      <td>0.921937</td>\n",
       "      <td>265.746906</td>\n",
       "    </tr>\n",
       "    <tr>\n",
       "      <th>Multiple Linear Regression Normalized</th>\n",
       "      <td>0.921937</td>\n",
       "      <td>17.806394</td>\n",
       "    </tr>\n",
       "    <tr>\n",
       "      <th>Neural Network (lbfgs solver)</th>\n",
       "      <td>0.977083</td>\n",
       "      <td>96.585400</td>\n",
       "    </tr>\n",
       "    <tr>\n",
       "      <th>Neural Network (normalized data, adam solver)</th>\n",
       "      <td>0.711143</td>\n",
       "      <td>0.000615</td>\n",
       "    </tr>\n",
       "    <tr>\n",
       "      <th>Neural Network Regression</th>\n",
       "      <td>0.977083</td>\n",
       "      <td>94.265520</td>\n",
       "    </tr>\n",
       "    <tr>\n",
       "      <th>Random Forest (Increase max_depth)</th>\n",
       "      <td>0.930040</td>\n",
       "      <td>287.771391</td>\n",
       "    </tr>\n",
       "    <tr>\n",
       "      <th>Random Forest (Increase n_estimators)</th>\n",
       "      <td>0.937897</td>\n",
       "      <td>255.454918</td>\n",
       "    </tr>\n",
       "    <tr>\n",
       "      <th>Random Forest - all data</th>\n",
       "      <td>0.940129</td>\n",
       "      <td>34.537842</td>\n",
       "    </tr>\n",
       "    <tr>\n",
       "      <th>Random Forest Regression</th>\n",
       "      <td>0.940129</td>\n",
       "      <td>246.272838</td>\n",
       "    </tr>\n",
       "    <tr>\n",
       "      <th>Simple Linear Regression</th>\n",
       "      <td>0.903965</td>\n",
       "      <td>288.674425</td>\n",
       "    </tr>\n",
       "  </tbody>\n",
       "</table>\n",
       "</div>"
      ],
      "text/plain": [
       "                                               R-Square         MSE\n",
       "Multiple Linear - all data                     0.925169  265.898130\n",
       "Multiple Linear Regression                     0.921937  265.746906\n",
       "Multiple Linear Regression Normalized          0.921937   17.806394\n",
       "Neural Network (lbfgs solver)                  0.977083   96.585400\n",
       "Neural Network (normalized data, adam solver)  0.711143    0.000615\n",
       "Neural Network Regression                      0.977083   94.265520\n",
       "Random Forest (Increase max_depth)             0.930040  287.771391\n",
       "Random Forest (Increase n_estimators)          0.937897  255.454918\n",
       "Random Forest - all data                       0.940129   34.537842\n",
       "Random Forest Regression                       0.940129  246.272838\n",
       "Simple Linear Regression                       0.903965  288.674425"
      ]
     },
     "execution_count": 106,
     "metadata": {},
     "output_type": "execute_result"
    }
   ],
   "source": [
    "parameters = pd.DataFrame([{'R-Square': Rsq_rfr_all, 'MSE': MSE_rfr_all}], \n",
    "                          index=['Random Forest - all data'])\n",
    "df_MSE_Rsqr = df_MSE_Rsqr.append(parameters)\n",
    "df_MSE_Rsqr.sort_index()"
   ]
  },
  {
   "cell_type": "markdown",
   "id": "64e8301b",
   "metadata": {},
   "source": [
    "Compared with the other Random Forest regression that we did with data divided into Train and Test, this one with all data has a lower MSE but R-Square remains the same."
   ]
  },
  {
   "cell_type": "markdown",
   "id": "5c4e16e2",
   "metadata": {},
   "source": [
    "### **Neural Network Regression - all data**"
   ]
  },
  {
   "cell_type": "code",
   "execution_count": 107,
   "id": "11ab39c5",
   "metadata": {},
   "outputs": [],
   "source": [
    "x_all_nnr = x[features_sel]\n",
    "y_all_nnr = y"
   ]
  },
  {
   "cell_type": "code",
   "execution_count": 108,
   "id": "9c7489bf",
   "metadata": {},
   "outputs": [
    {
     "data": {
      "text/plain": [
       "MLPRegressor(hidden_layer_sizes=(6, 6, 6), max_iter=500, random_state=7)"
      ]
     },
     "execution_count": 108,
     "metadata": {},
     "output_type": "execute_result"
    }
   ],
   "source": [
    "nnr_model_all = MLPRegressor(hidden_layer_sizes=(len(x_all_nnr.columns),len(x_all_nnr.columns),len(x_all_nnr.columns)), \n",
    "                         activation='relu', solver='adam', random_state=7, max_iter=500).fit(x_all_nnr, y_all_nnr.ArrDelay)\n",
    "nnr_model_all"
   ]
  },
  {
   "cell_type": "code",
   "execution_count": 109,
   "id": "624287d3",
   "metadata": {},
   "outputs": [],
   "source": [
    "ArrDelay_all4 = nnr_model_all.predict(x_all_nnr)"
   ]
  },
  {
   "cell_type": "code",
   "execution_count": 110,
   "id": "1f026945",
   "metadata": {},
   "outputs": [
    {
     "data": {
      "text/html": [
       "<div>\n",
       "<style scoped>\n",
       "    .dataframe tbody tr th:only-of-type {\n",
       "        vertical-align: middle;\n",
       "    }\n",
       "\n",
       "    .dataframe tbody tr th {\n",
       "        vertical-align: top;\n",
       "    }\n",
       "\n",
       "    .dataframe thead th {\n",
       "        text-align: right;\n",
       "    }\n",
       "</style>\n",
       "<table border=\"1\" class=\"dataframe\">\n",
       "  <thead>\n",
       "    <tr style=\"text-align: right;\">\n",
       "      <th></th>\n",
       "      <th>ArrDelay</th>\n",
       "      <th>ArrDelay_pred</th>\n",
       "    </tr>\n",
       "  </thead>\n",
       "  <tbody>\n",
       "    <tr>\n",
       "      <th>0</th>\n",
       "      <td>3</td>\n",
       "      <td>1.112907</td>\n",
       "    </tr>\n",
       "    <tr>\n",
       "      <th>1</th>\n",
       "      <td>28</td>\n",
       "      <td>26.603539</td>\n",
       "    </tr>\n",
       "    <tr>\n",
       "      <th>2</th>\n",
       "      <td>10</td>\n",
       "      <td>2.845108</td>\n",
       "    </tr>\n",
       "    <tr>\n",
       "      <th>3</th>\n",
       "      <td>198</td>\n",
       "      <td>195.515949</td>\n",
       "    </tr>\n",
       "    <tr>\n",
       "      <th>4</th>\n",
       "      <td>3</td>\n",
       "      <td>1.650498</td>\n",
       "    </tr>\n",
       "    <tr>\n",
       "      <th>...</th>\n",
       "      <td>...</td>\n",
       "      <td>...</td>\n",
       "    </tr>\n",
       "    <tr>\n",
       "      <th>9995</th>\n",
       "      <td>97</td>\n",
       "      <td>95.402834</td>\n",
       "    </tr>\n",
       "    <tr>\n",
       "      <th>9996</th>\n",
       "      <td>36</td>\n",
       "      <td>34.284092</td>\n",
       "    </tr>\n",
       "    <tr>\n",
       "      <th>9997</th>\n",
       "      <td>36</td>\n",
       "      <td>34.200987</td>\n",
       "    </tr>\n",
       "    <tr>\n",
       "      <th>9998</th>\n",
       "      <td>12</td>\n",
       "      <td>16.269134</td>\n",
       "    </tr>\n",
       "    <tr>\n",
       "      <th>9999</th>\n",
       "      <td>8</td>\n",
       "      <td>4.939285</td>\n",
       "    </tr>\n",
       "  </tbody>\n",
       "</table>\n",
       "<p>10000 rows × 2 columns</p>\n",
       "</div>"
      ],
      "text/plain": [
       "      ArrDelay  ArrDelay_pred\n",
       "0            3       1.112907\n",
       "1           28      26.603539\n",
       "2           10       2.845108\n",
       "3          198     195.515949\n",
       "4            3       1.650498\n",
       "...        ...            ...\n",
       "9995        97      95.402834\n",
       "9996        36      34.284092\n",
       "9997        36      34.200987\n",
       "9998        12      16.269134\n",
       "9999         8       4.939285\n",
       "\n",
       "[10000 rows x 2 columns]"
      ]
     },
     "execution_count": 110,
     "metadata": {},
     "output_type": "execute_result"
    }
   ],
   "source": [
    "compare_nnr_all = y_all_nnr.copy()\n",
    "compare_nnr_all['ArrDelay_pred'] = ArrDelay_all4\n",
    "compare_nnr_all"
   ]
  },
  {
   "cell_type": "markdown",
   "id": "0900d7d6",
   "metadata": {},
   "source": [
    "Let' calculate Mean Squared Error and R2:"
   ]
  },
  {
   "cell_type": "code",
   "execution_count": 111,
   "id": "fee3010e",
   "metadata": {},
   "outputs": [
    {
     "data": {
      "text/plain": [
       "84.69249564831503"
      ]
     },
     "execution_count": 111,
     "metadata": {},
     "output_type": "execute_result"
    }
   ],
   "source": [
    "MSE_nnr_all = mean_squared_error(compare_nnr_all.ArrDelay, compare_nnr_all.ArrDelay_pred)\n",
    "MSE_nnr_all"
   ]
  },
  {
   "cell_type": "code",
   "execution_count": 112,
   "id": "532df7fe",
   "metadata": {},
   "outputs": [
    {
     "data": {
      "text/plain": [
       "0.975840494404741"
      ]
     },
     "execution_count": 112,
     "metadata": {},
     "output_type": "execute_result"
    }
   ],
   "source": [
    "Rsq_nnr_all = nnr_model.score(x_all_nnr, y_all_nnr)\n",
    "Rsq_nnr_all"
   ]
  },
  {
   "cell_type": "code",
   "execution_count": 113,
   "id": "5762ef69",
   "metadata": {},
   "outputs": [
    {
     "data": {
      "text/html": [
       "<div>\n",
       "<style scoped>\n",
       "    .dataframe tbody tr th:only-of-type {\n",
       "        vertical-align: middle;\n",
       "    }\n",
       "\n",
       "    .dataframe tbody tr th {\n",
       "        vertical-align: top;\n",
       "    }\n",
       "\n",
       "    .dataframe thead th {\n",
       "        text-align: right;\n",
       "    }\n",
       "</style>\n",
       "<table border=\"1\" class=\"dataframe\">\n",
       "  <thead>\n",
       "    <tr style=\"text-align: right;\">\n",
       "      <th></th>\n",
       "      <th>R-Square</th>\n",
       "      <th>MSE</th>\n",
       "    </tr>\n",
       "  </thead>\n",
       "  <tbody>\n",
       "    <tr>\n",
       "      <th>Multiple Linear - all data</th>\n",
       "      <td>0.925169</td>\n",
       "      <td>265.898130</td>\n",
       "    </tr>\n",
       "    <tr>\n",
       "      <th>Multiple Linear Regression</th>\n",
       "      <td>0.921937</td>\n",
       "      <td>265.746906</td>\n",
       "    </tr>\n",
       "    <tr>\n",
       "      <th>Multiple Linear Regression Normalized</th>\n",
       "      <td>0.921937</td>\n",
       "      <td>17.806394</td>\n",
       "    </tr>\n",
       "    <tr>\n",
       "      <th>Neural Network (lbfgs solver)</th>\n",
       "      <td>0.977083</td>\n",
       "      <td>96.585400</td>\n",
       "    </tr>\n",
       "    <tr>\n",
       "      <th>Neural Network (normalized data, adam solver)</th>\n",
       "      <td>0.711143</td>\n",
       "      <td>0.000615</td>\n",
       "    </tr>\n",
       "    <tr>\n",
       "      <th>Neural Network - all data</th>\n",
       "      <td>0.975840</td>\n",
       "      <td>84.692496</td>\n",
       "    </tr>\n",
       "    <tr>\n",
       "      <th>Neural Network Regression</th>\n",
       "      <td>0.977083</td>\n",
       "      <td>94.265520</td>\n",
       "    </tr>\n",
       "    <tr>\n",
       "      <th>Random Forest (Increase max_depth)</th>\n",
       "      <td>0.930040</td>\n",
       "      <td>287.771391</td>\n",
       "    </tr>\n",
       "    <tr>\n",
       "      <th>Random Forest (Increase n_estimators)</th>\n",
       "      <td>0.937897</td>\n",
       "      <td>255.454918</td>\n",
       "    </tr>\n",
       "    <tr>\n",
       "      <th>Random Forest - all data</th>\n",
       "      <td>0.940129</td>\n",
       "      <td>34.537842</td>\n",
       "    </tr>\n",
       "    <tr>\n",
       "      <th>Random Forest Regression</th>\n",
       "      <td>0.940129</td>\n",
       "      <td>246.272838</td>\n",
       "    </tr>\n",
       "    <tr>\n",
       "      <th>Simple Linear Regression</th>\n",
       "      <td>0.903965</td>\n",
       "      <td>288.674425</td>\n",
       "    </tr>\n",
       "  </tbody>\n",
       "</table>\n",
       "</div>"
      ],
      "text/plain": [
       "                                               R-Square         MSE\n",
       "Multiple Linear - all data                     0.925169  265.898130\n",
       "Multiple Linear Regression                     0.921937  265.746906\n",
       "Multiple Linear Regression Normalized          0.921937   17.806394\n",
       "Neural Network (lbfgs solver)                  0.977083   96.585400\n",
       "Neural Network (normalized data, adam solver)  0.711143    0.000615\n",
       "Neural Network - all data                      0.975840   84.692496\n",
       "Neural Network Regression                      0.977083   94.265520\n",
       "Random Forest (Increase max_depth)             0.930040  287.771391\n",
       "Random Forest (Increase n_estimators)          0.937897  255.454918\n",
       "Random Forest - all data                       0.940129   34.537842\n",
       "Random Forest Regression                       0.940129  246.272838\n",
       "Simple Linear Regression                       0.903965  288.674425"
      ]
     },
     "execution_count": 113,
     "metadata": {},
     "output_type": "execute_result"
    }
   ],
   "source": [
    "parameters = pd.DataFrame([{'R-Square': Rsq_nnr_all, 'MSE': MSE_nnr_all}], \n",
    "                          index=['Neural Network - all data'])\n",
    "df_MSE_Rsqr = df_MSE_Rsqr.append(parameters)\n",
    "df_MSE_Rsqr.sort_index()"
   ]
  },
  {
   "cell_type": "markdown",
   "id": "05c156d5",
   "metadata": {},
   "source": [
    "Compared with previous Neural Neural Regressions, in this one R-Square it's a tiny lower and also does the Mean Squared Error."
   ]
  },
  {
   "cell_type": "markdown",
   "id": "6397a2e0",
   "metadata": {},
   "source": [
    "## <SPAN style=color:#1F618D>Level 2</SPAN>"
   ]
  },
  {
   "cell_type": "markdown",
   "id": "67937b77",
   "metadata": {},
   "source": [
    "### <SPAN style=color:#1F618D>Practice 5</SPAN>"
   ]
  },
  {
   "cell_type": "markdown",
   "id": "4cf273f6",
   "metadata": {},
   "source": [
    "<SPAN style=color:#1F618D>Perform some variable engineering process to improve your prediction</SPAN>"
   ]
  },
  {
   "cell_type": "markdown",
   "id": "0ad66183",
   "metadata": {},
   "source": [
    "I already did some feature engineering in in previous Tasca-S09 T02 and in previous practice of this task: normalizing and standarizing data, dummy variables, created new columns, etc..\n",
    "\n",
    "Now let's to try with Principal Component Analysis with some important categorical variables transformed into dummy variables and Train-Test data (I already did PCA in S09 T01 but without a target variable):"
   ]
  },
  {
   "cell_type": "code",
   "execution_count": 114,
   "id": "76bfb3cb",
   "metadata": {},
   "outputs": [],
   "source": [
    "# Prepare data\n",
    "\n",
    "x_pca = pd.get_dummies(x, columns = ['DayOfWeek', 'CancellationCode', 'UniqueCarrier'])\n",
    "y_pca = y"
   ]
  },
  {
   "cell_type": "code",
   "execution_count": 115,
   "id": "5f45bd65",
   "metadata": {},
   "outputs": [
    {
     "data": {
      "text/plain": [
       "(10000, 44)"
      ]
     },
     "execution_count": 115,
     "metadata": {},
     "output_type": "execute_result"
    }
   ],
   "source": [
    "x_pca = x_pca.select_dtypes(include = ['int64', 'uint8'])\n",
    "x_pca.shape"
   ]
  },
  {
   "cell_type": "code",
   "execution_count": 116,
   "id": "7ae70383",
   "metadata": {},
   "outputs": [],
   "source": [
    "# Standarize data\n",
    "\n",
    "x_pca_nm = pd.DataFrame(MinMaxScaler().fit_transform(x_pca))\n",
    "x_pca_nm.columns = x_pca.columns\n",
    "\n",
    "y_pca_nm = pd.DataFrame(MinMaxScaler().fit_transform(y_pca))\n",
    "y_pca_nm.columns = y_pca.columns"
   ]
  },
  {
   "cell_type": "code",
   "execution_count": 117,
   "id": "36ba311f",
   "metadata": {},
   "outputs": [],
   "source": [
    "from sklearn.decomposition import PCA"
   ]
  },
  {
   "cell_type": "code",
   "execution_count": 118,
   "id": "57f45bc7",
   "metadata": {},
   "outputs": [],
   "source": [
    "pca = PCA(.95) #95% of the variance is retained\n",
    "z = pca.fit_transform(x_pca_nm)\n",
    "x_pca_nmz = pd.DataFrame(data = z)"
   ]
  },
  {
   "cell_type": "code",
   "execution_count": 119,
   "id": "1dcdc098",
   "metadata": {},
   "outputs": [
    {
     "data": {
      "text/plain": [
       "array([0.086, 0.08 , 0.075, 0.074, 0.07 , 0.065, 0.061, 0.054, 0.048,\n",
       "       0.041, 0.034, 0.033, 0.028, 0.028, 0.026, 0.024, 0.023, 0.02 ,\n",
       "       0.018, 0.017, 0.016, 0.015, 0.013])"
      ]
     },
     "execution_count": 119,
     "metadata": {},
     "output_type": "execute_result"
    }
   ],
   "source": [
    "pca_explnm = pca.explained_variance_ratio_.round(3) # how much variance exlains each PCA column\n",
    "pca_explnm"
   ]
  },
  {
   "cell_type": "code",
   "execution_count": 120,
   "id": "db91e483",
   "metadata": {},
   "outputs": [],
   "source": [
    "x_train_pca, x_test_pca, y_train_pca, y_test_pca = train_test_split(x_pca_nm, y_pca_nm, test_size = 0.2, random_state = 7) # 80%-20% proportiona"
   ]
  },
  {
   "cell_type": "code",
   "execution_count": 121,
   "id": "fb0ca228",
   "metadata": {},
   "outputs": [
    {
     "data": {
      "text/plain": [
       "((8000, 44), (2000, 44), (8000, 1), (2000, 1))"
      ]
     },
     "execution_count": 121,
     "metadata": {},
     "output_type": "execute_result"
    }
   ],
   "source": [
    "x_train_pca.shape, x_test_pca.shape, y_train_pca.shape, y_test_pca.shape"
   ]
  },
  {
   "cell_type": "markdown",
   "id": "d3515d20",
   "metadata": {},
   "source": [
    "### **Multiple Linear Regression - PCA**"
   ]
  },
  {
   "cell_type": "code",
   "execution_count": 122,
   "id": "bc5610a4",
   "metadata": {},
   "outputs": [],
   "source": [
    "mlr_model_pca = sm.OLS(y_train_pca.ArrDelay, x_train_pca).fit()"
   ]
  },
  {
   "cell_type": "code",
   "execution_count": 123,
   "id": "c68287de",
   "metadata": {
    "scrolled": false
   },
   "outputs": [
    {
     "data": {
      "text/html": [
       "<table class=\"simpletable\">\n",
       "<caption>OLS Regression Results</caption>\n",
       "<tr>\n",
       "  <th>Dep. Variable:</th>        <td>ArrDelay</td>     <th>  R-squared:         </th>  <td>   0.997</td> \n",
       "</tr>\n",
       "<tr>\n",
       "  <th>Model:</th>                   <td>OLS</td>       <th>  Adj. R-squared:    </th>  <td>   0.997</td> \n",
       "</tr>\n",
       "<tr>\n",
       "  <th>Method:</th>             <td>Least Squares</td>  <th>  F-statistic:       </th>  <td>5.881e+04</td>\n",
       "</tr>\n",
       "<tr>\n",
       "  <th>Date:</th>             <td>Tue, 19 Apr 2022</td> <th>  Prob (F-statistic):</th>   <td>  0.00</td>  \n",
       "</tr>\n",
       "<tr>\n",
       "  <th>Time:</th>                 <td>16:05:23</td>     <th>  Log-Likelihood:    </th>  <td>  37199.</td> \n",
       "</tr>\n",
       "<tr>\n",
       "  <th>No. Observations:</th>      <td>  8000</td>      <th>  AIC:               </th> <td>-7.431e+04</td>\n",
       "</tr>\n",
       "<tr>\n",
       "  <th>Df Residuals:</th>          <td>  7958</td>      <th>  BIC:               </th> <td>-7.402e+04</td>\n",
       "</tr>\n",
       "<tr>\n",
       "  <th>Df Model:</th>              <td>    41</td>      <th>                     </th>      <td> </td>    \n",
       "</tr>\n",
       "<tr>\n",
       "  <th>Covariance Type:</th>      <td>nonrobust</td>    <th>                     </th>      <td> </td>    \n",
       "</tr>\n",
       "</table>\n",
       "<table class=\"simpletable\">\n",
       "<tr>\n",
       "            <td></td>               <th>coef</th>     <th>std err</th>      <th>t</th>      <th>P>|t|</th>  <th>[0.025</th>    <th>0.975]</th>  \n",
       "</tr>\n",
       "<tr>\n",
       "  <th>DepTime</th>               <td>   -0.0001</td> <td>    0.000</td> <td>   -0.408</td> <td> 0.683</td> <td>   -0.001</td> <td>    0.000</td>\n",
       "</tr>\n",
       "<tr>\n",
       "  <th>CRSDepTime</th>            <td>    0.0002</td> <td>    0.000</td> <td>    0.772</td> <td> 0.440</td> <td>   -0.000</td> <td>    0.001</td>\n",
       "</tr>\n",
       "<tr>\n",
       "  <th>ArrTime</th>               <td>-6.405e-05</td> <td>    0.000</td> <td>   -0.448</td> <td> 0.654</td> <td>   -0.000</td> <td>    0.000</td>\n",
       "</tr>\n",
       "<tr>\n",
       "  <th>CRSArrTime</th>            <td>    0.0002</td> <td>    0.000</td> <td>    1.059</td> <td> 0.289</td> <td>   -0.000</td> <td>    0.001</td>\n",
       "</tr>\n",
       "<tr>\n",
       "  <th>ActualElapsedTime</th>     <td>    0.7645</td> <td>    0.010</td> <td>   76.943</td> <td> 0.000</td> <td>    0.745</td> <td>    0.784</td>\n",
       "</tr>\n",
       "<tr>\n",
       "  <th>CRSElapsedTime</th>        <td>   -0.3641</td> <td>    0.001</td> <td> -248.278</td> <td> 0.000</td> <td>   -0.367</td> <td>   -0.361</td>\n",
       "</tr>\n",
       "<tr>\n",
       "  <th>AirTime</th>               <td>   -0.3809</td> <td>    0.010</td> <td>  -39.141</td> <td> 0.000</td> <td>   -0.400</td> <td>   -0.362</td>\n",
       "</tr>\n",
       "<tr>\n",
       "  <th>DepDelay</th>              <td>    0.9569</td> <td>    0.001</td> <td>  824.761</td> <td> 0.000</td> <td>    0.955</td> <td>    0.959</td>\n",
       "</tr>\n",
       "<tr>\n",
       "  <th>Distance</th>              <td>    0.0017</td> <td>    0.001</td> <td>    1.259</td> <td> 0.208</td> <td>   -0.001</td> <td>    0.004</td>\n",
       "</tr>\n",
       "<tr>\n",
       "  <th>TaxiIn</th>                <td>   -0.0804</td> <td>    0.002</td> <td>  -37.493</td> <td> 0.000</td> <td>   -0.085</td> <td>   -0.076</td>\n",
       "</tr>\n",
       "<tr>\n",
       "  <th>TaxiOut</th>               <td>   -0.1615</td> <td>    0.004</td> <td>  -39.317</td> <td> 0.000</td> <td>   -0.170</td> <td>   -0.153</td>\n",
       "</tr>\n",
       "<tr>\n",
       "  <th>CarrierDelay</th>          <td>    0.0061</td> <td>    0.001</td> <td>    4.650</td> <td> 0.000</td> <td>    0.004</td> <td>    0.009</td>\n",
       "</tr>\n",
       "<tr>\n",
       "  <th>WeatherDelay</th>          <td>    0.0067</td> <td>    0.002</td> <td>    3.797</td> <td> 0.000</td> <td>    0.003</td> <td>    0.010</td>\n",
       "</tr>\n",
       "<tr>\n",
       "  <th>NASDelay</th>              <td>    0.0057</td> <td>    0.001</td> <td>    6.841</td> <td> 0.000</td> <td>    0.004</td> <td>    0.007</td>\n",
       "</tr>\n",
       "<tr>\n",
       "  <th>SecurityDelay</th>         <td>    0.0004</td> <td>    0.001</td> <td>    0.367</td> <td> 0.714</td> <td>   -0.002</td> <td>    0.002</td>\n",
       "</tr>\n",
       "<tr>\n",
       "  <th>LateAircraftDelay</th>     <td>    0.0017</td> <td>    0.000</td> <td>    4.333</td> <td> 0.000</td> <td>    0.001</td> <td>    0.002</td>\n",
       "</tr>\n",
       "<tr>\n",
       "  <th>DayOfWeek_Friday</th>      <td>    0.0353</td> <td>    0.000</td> <td>  175.869</td> <td> 0.000</td> <td>    0.035</td> <td>    0.036</td>\n",
       "</tr>\n",
       "<tr>\n",
       "  <th>DayOfWeek_Monday</th>      <td>    0.0351</td> <td>    0.000</td> <td>  174.829</td> <td> 0.000</td> <td>    0.035</td> <td>    0.036</td>\n",
       "</tr>\n",
       "<tr>\n",
       "  <th>DayOfWeek_Saturday</th>    <td>    0.0352</td> <td>    0.000</td> <td>  174.036</td> <td> 0.000</td> <td>    0.035</td> <td>    0.036</td>\n",
       "</tr>\n",
       "<tr>\n",
       "  <th>DayOfWeek_Sunday</th>      <td>    0.0351</td> <td>    0.000</td> <td>  172.320</td> <td> 0.000</td> <td>    0.035</td> <td>    0.036</td>\n",
       "</tr>\n",
       "<tr>\n",
       "  <th>DayOfWeek_Thursday</th>    <td>    0.0354</td> <td>    0.000</td> <td>  175.709</td> <td> 0.000</td> <td>    0.035</td> <td>    0.036</td>\n",
       "</tr>\n",
       "<tr>\n",
       "  <th>DayOfWeek_Tuesday</th>     <td>    0.0352</td> <td>    0.000</td> <td>  172.550</td> <td> 0.000</td> <td>    0.035</td> <td>    0.036</td>\n",
       "</tr>\n",
       "<tr>\n",
       "  <th>DayOfWeek_Wednesday</th>   <td>    0.0352</td> <td>    0.000</td> <td>  175.162</td> <td> 0.000</td> <td>    0.035</td> <td>    0.036</td>\n",
       "</tr>\n",
       "<tr>\n",
       "  <th>CancellationCode_None</th> <td>  2.12e-15</td> <td> 4.26e-17</td> <td>   49.810</td> <td> 0.000</td> <td> 2.04e-15</td> <td>  2.2e-15</td>\n",
       "</tr>\n",
       "<tr>\n",
       "  <th>UniqueCarrier_9E</th>      <td>    0.0123</td> <td>    0.000</td> <td>   72.178</td> <td> 0.000</td> <td>    0.012</td> <td>    0.013</td>\n",
       "</tr>\n",
       "<tr>\n",
       "  <th>UniqueCarrier_AA</th>      <td>    0.0123</td> <td>    0.000</td> <td>  102.516</td> <td> 0.000</td> <td>    0.012</td> <td>    0.013</td>\n",
       "</tr>\n",
       "<tr>\n",
       "  <th>UniqueCarrier_AQ</th>      <td>    0.0121</td> <td>    0.001</td> <td>    9.360</td> <td> 0.000</td> <td>    0.010</td> <td>    0.015</td>\n",
       "</tr>\n",
       "<tr>\n",
       "  <th>UniqueCarrier_AS</th>      <td>    0.0123</td> <td>    0.000</td> <td>   63.114</td> <td> 0.000</td> <td>    0.012</td> <td>    0.013</td>\n",
       "</tr>\n",
       "<tr>\n",
       "  <th>UniqueCarrier_B6</th>      <td>    0.0122</td> <td>    0.000</td> <td>   71.671</td> <td> 0.000</td> <td>    0.012</td> <td>    0.013</td>\n",
       "</tr>\n",
       "<tr>\n",
       "  <th>UniqueCarrier_CO</th>      <td>    0.0121</td> <td>    0.000</td> <td>   84.628</td> <td> 0.000</td> <td>    0.012</td> <td>    0.012</td>\n",
       "</tr>\n",
       "<tr>\n",
       "  <th>UniqueCarrier_DL</th>      <td>    0.0124</td> <td>    0.000</td> <td>   90.942</td> <td> 0.000</td> <td>    0.012</td> <td>    0.013</td>\n",
       "</tr>\n",
       "<tr>\n",
       "  <th>UniqueCarrier_EV</th>      <td>    0.0121</td> <td>    0.000</td> <td>   82.504</td> <td> 0.000</td> <td>    0.012</td> <td>    0.012</td>\n",
       "</tr>\n",
       "<tr>\n",
       "  <th>UniqueCarrier_F9</th>      <td>    0.0123</td> <td>    0.000</td> <td>   50.923</td> <td> 0.000</td> <td>    0.012</td> <td>    0.013</td>\n",
       "</tr>\n",
       "<tr>\n",
       "  <th>UniqueCarrier_FL</th>      <td>    0.0123</td> <td>    0.000</td> <td>   75.024</td> <td> 0.000</td> <td>    0.012</td> <td>    0.013</td>\n",
       "</tr>\n",
       "<tr>\n",
       "  <th>UniqueCarrier_HA</th>      <td>    0.0124</td> <td>    0.000</td> <td>   30.100</td> <td> 0.000</td> <td>    0.012</td> <td>    0.013</td>\n",
       "</tr>\n",
       "<tr>\n",
       "  <th>UniqueCarrier_MQ</th>      <td>    0.0124</td> <td>    0.000</td> <td>   97.260</td> <td> 0.000</td> <td>    0.012</td> <td>    0.013</td>\n",
       "</tr>\n",
       "<tr>\n",
       "  <th>UniqueCarrier_NW</th>      <td>    0.0123</td> <td>    0.000</td> <td>   84.654</td> <td> 0.000</td> <td>    0.012</td> <td>    0.013</td>\n",
       "</tr>\n",
       "<tr>\n",
       "  <th>UniqueCarrier_OH</th>      <td>    0.0123</td> <td>    0.000</td> <td>   68.323</td> <td> 0.000</td> <td>    0.012</td> <td>    0.013</td>\n",
       "</tr>\n",
       "<tr>\n",
       "  <th>UniqueCarrier_OO</th>      <td>    0.0126</td> <td>    0.000</td> <td>   97.443</td> <td> 0.000</td> <td>    0.012</td> <td>    0.013</td>\n",
       "</tr>\n",
       "<tr>\n",
       "  <th>UniqueCarrier_UA</th>      <td>    0.0123</td> <td>    0.000</td> <td>   95.731</td> <td> 0.000</td> <td>    0.012</td> <td>    0.013</td>\n",
       "</tr>\n",
       "<tr>\n",
       "  <th>UniqueCarrier_US</th>      <td>    0.0124</td> <td>    0.000</td> <td>   87.691</td> <td> 0.000</td> <td>    0.012</td> <td>    0.013</td>\n",
       "</tr>\n",
       "<tr>\n",
       "  <th>UniqueCarrier_WN</th>      <td>    0.0122</td> <td>    0.000</td> <td>  117.195</td> <td> 0.000</td> <td>    0.012</td> <td>    0.012</td>\n",
       "</tr>\n",
       "<tr>\n",
       "  <th>UniqueCarrier_XE</th>      <td>    0.0124</td> <td>    0.000</td> <td>   90.054</td> <td> 0.000</td> <td>    0.012</td> <td>    0.013</td>\n",
       "</tr>\n",
       "<tr>\n",
       "  <th>UniqueCarrier_YV</th>      <td>    0.0128</td> <td>    0.000</td> <td>   78.577</td> <td> 0.000</td> <td>    0.013</td> <td>    0.013</td>\n",
       "</tr>\n",
       "</table>\n",
       "<table class=\"simpletable\">\n",
       "<tr>\n",
       "  <th>Omnibus:</th>       <td>13742.392</td> <th>  Durbin-Watson:     </th>   <td>   1.999</td>   \n",
       "</tr>\n",
       "<tr>\n",
       "  <th>Prob(Omnibus):</th>  <td> 0.000</td>   <th>  Jarque-Bera (JB):  </th> <td>107507311.651</td>\n",
       "</tr>\n",
       "<tr>\n",
       "  <th>Skew:</th>           <td>11.007</td>   <th>  Prob(JB):          </th>   <td>    0.00</td>   \n",
       "</tr>\n",
       "<tr>\n",
       "  <th>Kurtosis:</th>       <td>570.483</td>  <th>  Cond. No.          </th>   <td>1.14e+16</td>   \n",
       "</tr>\n",
       "</table><br/><br/>Notes:<br/>[1] Standard Errors assume that the covariance matrix of the errors is correctly specified.<br/>[2] The smallest eigenvalue is 1.35e-28. This might indicate that there are<br/>strong multicollinearity problems or that the design matrix is singular."
      ],
      "text/plain": [
       "<class 'statsmodels.iolib.summary.Summary'>\n",
       "\"\"\"\n",
       "                            OLS Regression Results                            \n",
       "==============================================================================\n",
       "Dep. Variable:               ArrDelay   R-squared:                       0.997\n",
       "Model:                            OLS   Adj. R-squared:                  0.997\n",
       "Method:                 Least Squares   F-statistic:                 5.881e+04\n",
       "Date:                Tue, 19 Apr 2022   Prob (F-statistic):               0.00\n",
       "Time:                        16:05:23   Log-Likelihood:                 37199.\n",
       "No. Observations:                8000   AIC:                        -7.431e+04\n",
       "Df Residuals:                    7958   BIC:                        -7.402e+04\n",
       "Df Model:                          41                                         \n",
       "Covariance Type:            nonrobust                                         \n",
       "=========================================================================================\n",
       "                            coef    std err          t      P>|t|      [0.025      0.975]\n",
       "-----------------------------------------------------------------------------------------\n",
       "DepTime                  -0.0001      0.000     -0.408      0.683      -0.001       0.000\n",
       "CRSDepTime                0.0002      0.000      0.772      0.440      -0.000       0.001\n",
       "ArrTime               -6.405e-05      0.000     -0.448      0.654      -0.000       0.000\n",
       "CRSArrTime                0.0002      0.000      1.059      0.289      -0.000       0.001\n",
       "ActualElapsedTime         0.7645      0.010     76.943      0.000       0.745       0.784\n",
       "CRSElapsedTime           -0.3641      0.001   -248.278      0.000      -0.367      -0.361\n",
       "AirTime                  -0.3809      0.010    -39.141      0.000      -0.400      -0.362\n",
       "DepDelay                  0.9569      0.001    824.761      0.000       0.955       0.959\n",
       "Distance                  0.0017      0.001      1.259      0.208      -0.001       0.004\n",
       "TaxiIn                   -0.0804      0.002    -37.493      0.000      -0.085      -0.076\n",
       "TaxiOut                  -0.1615      0.004    -39.317      0.000      -0.170      -0.153\n",
       "CarrierDelay              0.0061      0.001      4.650      0.000       0.004       0.009\n",
       "WeatherDelay              0.0067      0.002      3.797      0.000       0.003       0.010\n",
       "NASDelay                  0.0057      0.001      6.841      0.000       0.004       0.007\n",
       "SecurityDelay             0.0004      0.001      0.367      0.714      -0.002       0.002\n",
       "LateAircraftDelay         0.0017      0.000      4.333      0.000       0.001       0.002\n",
       "DayOfWeek_Friday          0.0353      0.000    175.869      0.000       0.035       0.036\n",
       "DayOfWeek_Monday          0.0351      0.000    174.829      0.000       0.035       0.036\n",
       "DayOfWeek_Saturday        0.0352      0.000    174.036      0.000       0.035       0.036\n",
       "DayOfWeek_Sunday          0.0351      0.000    172.320      0.000       0.035       0.036\n",
       "DayOfWeek_Thursday        0.0354      0.000    175.709      0.000       0.035       0.036\n",
       "DayOfWeek_Tuesday         0.0352      0.000    172.550      0.000       0.035       0.036\n",
       "DayOfWeek_Wednesday       0.0352      0.000    175.162      0.000       0.035       0.036\n",
       "CancellationCode_None   2.12e-15   4.26e-17     49.810      0.000    2.04e-15     2.2e-15\n",
       "UniqueCarrier_9E          0.0123      0.000     72.178      0.000       0.012       0.013\n",
       "UniqueCarrier_AA          0.0123      0.000    102.516      0.000       0.012       0.013\n",
       "UniqueCarrier_AQ          0.0121      0.001      9.360      0.000       0.010       0.015\n",
       "UniqueCarrier_AS          0.0123      0.000     63.114      0.000       0.012       0.013\n",
       "UniqueCarrier_B6          0.0122      0.000     71.671      0.000       0.012       0.013\n",
       "UniqueCarrier_CO          0.0121      0.000     84.628      0.000       0.012       0.012\n",
       "UniqueCarrier_DL          0.0124      0.000     90.942      0.000       0.012       0.013\n",
       "UniqueCarrier_EV          0.0121      0.000     82.504      0.000       0.012       0.012\n",
       "UniqueCarrier_F9          0.0123      0.000     50.923      0.000       0.012       0.013\n",
       "UniqueCarrier_FL          0.0123      0.000     75.024      0.000       0.012       0.013\n",
       "UniqueCarrier_HA          0.0124      0.000     30.100      0.000       0.012       0.013\n",
       "UniqueCarrier_MQ          0.0124      0.000     97.260      0.000       0.012       0.013\n",
       "UniqueCarrier_NW          0.0123      0.000     84.654      0.000       0.012       0.013\n",
       "UniqueCarrier_OH          0.0123      0.000     68.323      0.000       0.012       0.013\n",
       "UniqueCarrier_OO          0.0126      0.000     97.443      0.000       0.012       0.013\n",
       "UniqueCarrier_UA          0.0123      0.000     95.731      0.000       0.012       0.013\n",
       "UniqueCarrier_US          0.0124      0.000     87.691      0.000       0.012       0.013\n",
       "UniqueCarrier_WN          0.0122      0.000    117.195      0.000       0.012       0.012\n",
       "UniqueCarrier_XE          0.0124      0.000     90.054      0.000       0.012       0.013\n",
       "UniqueCarrier_YV          0.0128      0.000     78.577      0.000       0.013       0.013\n",
       "==============================================================================\n",
       "Omnibus:                    13742.392   Durbin-Watson:                   1.999\n",
       "Prob(Omnibus):                  0.000   Jarque-Bera (JB):        107507311.651\n",
       "Skew:                          11.007   Prob(JB):                         0.00\n",
       "Kurtosis:                     570.483   Cond. No.                     1.14e+16\n",
       "==============================================================================\n",
       "\n",
       "Notes:\n",
       "[1] Standard Errors assume that the covariance matrix of the errors is correctly specified.\n",
       "[2] The smallest eigenvalue is 1.35e-28. This might indicate that there are\n",
       "strong multicollinearity problems or that the design matrix is singular.\n",
       "\"\"\""
      ]
     },
     "execution_count": 123,
     "metadata": {},
     "output_type": "execute_result"
    }
   ],
   "source": [
    "mlr_model_pca.summary()"
   ]
  },
  {
   "cell_type": "code",
   "execution_count": 124,
   "id": "594e8e5d",
   "metadata": {},
   "outputs": [],
   "source": [
    "ArrDelay_pred_pca = mlr_model_pca.predict(x_test_pca)"
   ]
  },
  {
   "cell_type": "code",
   "execution_count": 125,
   "id": "92e4ae7a",
   "metadata": {},
   "outputs": [],
   "source": [
    "ArrDelay_pred_pca = pd.DataFrame(ArrDelay_pred_pca, columns = ['ArrDelay_pred'])"
   ]
  },
  {
   "cell_type": "code",
   "execution_count": 126,
   "id": "5ec932f3",
   "metadata": {},
   "outputs": [
    {
     "data": {
      "text/html": [
       "<div>\n",
       "<style scoped>\n",
       "    .dataframe tbody tr th:only-of-type {\n",
       "        vertical-align: middle;\n",
       "    }\n",
       "\n",
       "    .dataframe tbody tr th {\n",
       "        vertical-align: top;\n",
       "    }\n",
       "\n",
       "    .dataframe thead th {\n",
       "        text-align: right;\n",
       "    }\n",
       "</style>\n",
       "<table border=\"1\" class=\"dataframe\">\n",
       "  <thead>\n",
       "    <tr style=\"text-align: right;\">\n",
       "      <th></th>\n",
       "      <th>ArrDelay</th>\n",
       "      <th>ArrDelay_pred</th>\n",
       "    </tr>\n",
       "  </thead>\n",
       "  <tbody>\n",
       "    <tr>\n",
       "      <th>1977</th>\n",
       "      <td>0.147790</td>\n",
       "      <td>0.148002</td>\n",
       "    </tr>\n",
       "    <tr>\n",
       "      <th>3880</th>\n",
       "      <td>0.080110</td>\n",
       "      <td>0.079693</td>\n",
       "    </tr>\n",
       "    <tr>\n",
       "      <th>52</th>\n",
       "      <td>0.044199</td>\n",
       "      <td>0.044124</td>\n",
       "    </tr>\n",
       "    <tr>\n",
       "      <th>2551</th>\n",
       "      <td>0.059392</td>\n",
       "      <td>0.059342</td>\n",
       "    </tr>\n",
       "    <tr>\n",
       "      <th>2246</th>\n",
       "      <td>0.041436</td>\n",
       "      <td>0.041394</td>\n",
       "    </tr>\n",
       "    <tr>\n",
       "      <th>...</th>\n",
       "      <td>...</td>\n",
       "      <td>...</td>\n",
       "    </tr>\n",
       "    <tr>\n",
       "      <th>9505</th>\n",
       "      <td>0.053177</td>\n",
       "      <td>0.052858</td>\n",
       "    </tr>\n",
       "    <tr>\n",
       "      <th>2836</th>\n",
       "      <td>0.035912</td>\n",
       "      <td>0.036031</td>\n",
       "    </tr>\n",
       "    <tr>\n",
       "      <th>1169</th>\n",
       "      <td>0.050414</td>\n",
       "      <td>0.049931</td>\n",
       "    </tr>\n",
       "    <tr>\n",
       "      <th>9929</th>\n",
       "      <td>0.027624</td>\n",
       "      <td>0.027870</td>\n",
       "    </tr>\n",
       "    <tr>\n",
       "      <th>8486</th>\n",
       "      <td>0.050414</td>\n",
       "      <td>0.050070</td>\n",
       "    </tr>\n",
       "  </tbody>\n",
       "</table>\n",
       "<p>2000 rows × 2 columns</p>\n",
       "</div>"
      ],
      "text/plain": [
       "      ArrDelay  ArrDelay_pred\n",
       "1977  0.147790       0.148002\n",
       "3880  0.080110       0.079693\n",
       "52    0.044199       0.044124\n",
       "2551  0.059392       0.059342\n",
       "2246  0.041436       0.041394\n",
       "...        ...            ...\n",
       "9505  0.053177       0.052858\n",
       "2836  0.035912       0.036031\n",
       "1169  0.050414       0.049931\n",
       "9929  0.027624       0.027870\n",
       "8486  0.050414       0.050070\n",
       "\n",
       "[2000 rows x 2 columns]"
      ]
     },
     "execution_count": 126,
     "metadata": {},
     "output_type": "execute_result"
    }
   ],
   "source": [
    "compare_mlr_pca = pd.concat([y_test_pca, ArrDelay_pred_pca], axis = 'columns')\n",
    "compare_mlr_pca"
   ]
  },
  {
   "cell_type": "markdown",
   "id": "da3593e5",
   "metadata": {},
   "source": [
    "Let' calculate Mean Squared Error and R2:"
   ]
  },
  {
   "cell_type": "code",
   "execution_count": 127,
   "id": "1a48a537",
   "metadata": {},
   "outputs": [
    {
     "data": {
      "text/plain": [
       "1.1710317898173043e-05"
      ]
     },
     "execution_count": 127,
     "metadata": {},
     "output_type": "execute_result"
    }
   ],
   "source": [
    "MSE_mlr_psa = mean_squared_error(compare_mlr_pca.ArrDelay, compare_mlr_pca.ArrDelay_pred)\n",
    "MSE_mlr_psa"
   ]
  },
  {
   "cell_type": "code",
   "execution_count": 128,
   "id": "517ce4be",
   "metadata": {},
   "outputs": [
    {
     "data": {
      "text/plain": [
       "0.9967103021531142"
      ]
     },
     "execution_count": 128,
     "metadata": {},
     "output_type": "execute_result"
    }
   ],
   "source": [
    "Rsq_mlr_psa = mlr_model_pca.rsquared\n",
    "Rsq_mlr_psa"
   ]
  },
  {
   "cell_type": "code",
   "execution_count": 129,
   "id": "b216d977",
   "metadata": {},
   "outputs": [
    {
     "data": {
      "text/html": [
       "<div>\n",
       "<style scoped>\n",
       "    .dataframe tbody tr th:only-of-type {\n",
       "        vertical-align: middle;\n",
       "    }\n",
       "\n",
       "    .dataframe tbody tr th {\n",
       "        vertical-align: top;\n",
       "    }\n",
       "\n",
       "    .dataframe thead th {\n",
       "        text-align: right;\n",
       "    }\n",
       "</style>\n",
       "<table border=\"1\" class=\"dataframe\">\n",
       "  <thead>\n",
       "    <tr style=\"text-align: right;\">\n",
       "      <th></th>\n",
       "      <th>R-Square</th>\n",
       "      <th>MSE</th>\n",
       "    </tr>\n",
       "  </thead>\n",
       "  <tbody>\n",
       "    <tr>\n",
       "      <th>Multiple Linear - all data</th>\n",
       "      <td>0.925169</td>\n",
       "      <td>265.898130</td>\n",
       "    </tr>\n",
       "    <tr>\n",
       "      <th>Multiple Linear Regression</th>\n",
       "      <td>0.921937</td>\n",
       "      <td>265.746906</td>\n",
       "    </tr>\n",
       "    <tr>\n",
       "      <th>Multiple Linear Regression - PCA</th>\n",
       "      <td>0.996710</td>\n",
       "      <td>0.000012</td>\n",
       "    </tr>\n",
       "    <tr>\n",
       "      <th>Multiple Linear Regression Normalized</th>\n",
       "      <td>0.921937</td>\n",
       "      <td>17.806394</td>\n",
       "    </tr>\n",
       "    <tr>\n",
       "      <th>Neural Network (lbfgs solver)</th>\n",
       "      <td>0.977083</td>\n",
       "      <td>96.585400</td>\n",
       "    </tr>\n",
       "    <tr>\n",
       "      <th>Neural Network (normalized data, adam solver)</th>\n",
       "      <td>0.711143</td>\n",
       "      <td>0.000615</td>\n",
       "    </tr>\n",
       "    <tr>\n",
       "      <th>Neural Network - all data</th>\n",
       "      <td>0.975840</td>\n",
       "      <td>84.692496</td>\n",
       "    </tr>\n",
       "    <tr>\n",
       "      <th>Neural Network Regression</th>\n",
       "      <td>0.977083</td>\n",
       "      <td>94.265520</td>\n",
       "    </tr>\n",
       "    <tr>\n",
       "      <th>Random Forest (Increase max_depth)</th>\n",
       "      <td>0.930040</td>\n",
       "      <td>287.771391</td>\n",
       "    </tr>\n",
       "    <tr>\n",
       "      <th>Random Forest (Increase n_estimators)</th>\n",
       "      <td>0.937897</td>\n",
       "      <td>255.454918</td>\n",
       "    </tr>\n",
       "    <tr>\n",
       "      <th>Random Forest - all data</th>\n",
       "      <td>0.940129</td>\n",
       "      <td>34.537842</td>\n",
       "    </tr>\n",
       "    <tr>\n",
       "      <th>Random Forest Regression</th>\n",
       "      <td>0.940129</td>\n",
       "      <td>246.272838</td>\n",
       "    </tr>\n",
       "    <tr>\n",
       "      <th>Simple Linear Regression</th>\n",
       "      <td>0.903965</td>\n",
       "      <td>288.674425</td>\n",
       "    </tr>\n",
       "  </tbody>\n",
       "</table>\n",
       "</div>"
      ],
      "text/plain": [
       "                                               R-Square         MSE\n",
       "Multiple Linear - all data                     0.925169  265.898130\n",
       "Multiple Linear Regression                     0.921937  265.746906\n",
       "Multiple Linear Regression - PCA               0.996710    0.000012\n",
       "Multiple Linear Regression Normalized          0.921937   17.806394\n",
       "Neural Network (lbfgs solver)                  0.977083   96.585400\n",
       "Neural Network (normalized data, adam solver)  0.711143    0.000615\n",
       "Neural Network - all data                      0.975840   84.692496\n",
       "Neural Network Regression                      0.977083   94.265520\n",
       "Random Forest (Increase max_depth)             0.930040  287.771391\n",
       "Random Forest (Increase n_estimators)          0.937897  255.454918\n",
       "Random Forest - all data                       0.940129   34.537842\n",
       "Random Forest Regression                       0.940129  246.272838\n",
       "Simple Linear Regression                       0.903965  288.674425"
      ]
     },
     "execution_count": 129,
     "metadata": {},
     "output_type": "execute_result"
    }
   ],
   "source": [
    "parameters = pd.DataFrame([{'R-Square': Rsq_mlr_psa, 'MSE': MSE_mlr_psa}], \n",
    "                          index=['Multiple Linear Regression - PCA'])\n",
    "df_MSE_Rsqr = df_MSE_Rsqr.append(parameters)\n",
    "df_MSE_Rsqr.sort_index()"
   ]
  },
  {
   "cell_type": "markdown",
   "id": "adb38bf1",
   "metadata": {},
   "source": [
    "Waauu, PCA did the trick. So far this is the best model to predict **ArrDelay**, with the highest R-Square and lowest MSE."
   ]
  },
  {
   "cell_type": "markdown",
   "id": "11cf692a",
   "metadata": {},
   "source": [
    "### **Neural Network Regression - PCA**"
   ]
  },
  {
   "cell_type": "code",
   "execution_count": 130,
   "id": "b836311a",
   "metadata": {},
   "outputs": [
    {
     "data": {
      "text/plain": [
       "MLPRegressor(hidden_layer_sizes=(44, 44, 44), max_iter=500, random_state=7)"
      ]
     },
     "execution_count": 130,
     "metadata": {},
     "output_type": "execute_result"
    }
   ],
   "source": [
    "nnr_model_pca = MLPRegressor(hidden_layer_sizes=(len(x_train_pca.columns),len(x_train_pca.columns),len(x_train_pca.columns)), \n",
    "                         activation='relu', solver='adam', random_state=7, max_iter=500).fit(x_train_pca, y_train_pca.ArrDelay)\n",
    "nnr_model_pca"
   ]
  },
  {
   "cell_type": "code",
   "execution_count": 131,
   "id": "ca2c381d",
   "metadata": {},
   "outputs": [],
   "source": [
    "ArrDelay_nnr_pca = nnr_model_pca.predict(x_test_pca)"
   ]
  },
  {
   "cell_type": "code",
   "execution_count": 132,
   "id": "97915709",
   "metadata": {},
   "outputs": [
    {
     "data": {
      "text/html": [
       "<div>\n",
       "<style scoped>\n",
       "    .dataframe tbody tr th:only-of-type {\n",
       "        vertical-align: middle;\n",
       "    }\n",
       "\n",
       "    .dataframe tbody tr th {\n",
       "        vertical-align: top;\n",
       "    }\n",
       "\n",
       "    .dataframe thead th {\n",
       "        text-align: right;\n",
       "    }\n",
       "</style>\n",
       "<table border=\"1\" class=\"dataframe\">\n",
       "  <thead>\n",
       "    <tr style=\"text-align: right;\">\n",
       "      <th></th>\n",
       "      <th>ArrDelay</th>\n",
       "      <th>ArrDelay_pred</th>\n",
       "    </tr>\n",
       "  </thead>\n",
       "  <tbody>\n",
       "    <tr>\n",
       "      <th>1977</th>\n",
       "      <td>0.147790</td>\n",
       "      <td>0.142101</td>\n",
       "    </tr>\n",
       "    <tr>\n",
       "      <th>3880</th>\n",
       "      <td>0.080110</td>\n",
       "      <td>0.052197</td>\n",
       "    </tr>\n",
       "    <tr>\n",
       "      <th>52</th>\n",
       "      <td>0.044199</td>\n",
       "      <td>0.041510</td>\n",
       "    </tr>\n",
       "    <tr>\n",
       "      <th>2551</th>\n",
       "      <td>0.059392</td>\n",
       "      <td>0.070773</td>\n",
       "    </tr>\n",
       "    <tr>\n",
       "      <th>2246</th>\n",
       "      <td>0.041436</td>\n",
       "      <td>0.041449</td>\n",
       "    </tr>\n",
       "    <tr>\n",
       "      <th>...</th>\n",
       "      <td>...</td>\n",
       "      <td>...</td>\n",
       "    </tr>\n",
       "    <tr>\n",
       "      <th>9505</th>\n",
       "      <td>0.053177</td>\n",
       "      <td>0.051269</td>\n",
       "    </tr>\n",
       "    <tr>\n",
       "      <th>2836</th>\n",
       "      <td>0.035912</td>\n",
       "      <td>0.041833</td>\n",
       "    </tr>\n",
       "    <tr>\n",
       "      <th>1169</th>\n",
       "      <td>0.050414</td>\n",
       "      <td>0.040902</td>\n",
       "    </tr>\n",
       "    <tr>\n",
       "      <th>9929</th>\n",
       "      <td>0.027624</td>\n",
       "      <td>0.042882</td>\n",
       "    </tr>\n",
       "    <tr>\n",
       "      <th>8486</th>\n",
       "      <td>0.050414</td>\n",
       "      <td>0.057767</td>\n",
       "    </tr>\n",
       "  </tbody>\n",
       "</table>\n",
       "<p>2000 rows × 2 columns</p>\n",
       "</div>"
      ],
      "text/plain": [
       "      ArrDelay  ArrDelay_pred\n",
       "1977  0.147790       0.142101\n",
       "3880  0.080110       0.052197\n",
       "52    0.044199       0.041510\n",
       "2551  0.059392       0.070773\n",
       "2246  0.041436       0.041449\n",
       "...        ...            ...\n",
       "9505  0.053177       0.051269\n",
       "2836  0.035912       0.041833\n",
       "1169  0.050414       0.040902\n",
       "9929  0.027624       0.042882\n",
       "8486  0.050414       0.057767\n",
       "\n",
       "[2000 rows x 2 columns]"
      ]
     },
     "execution_count": 132,
     "metadata": {},
     "output_type": "execute_result"
    }
   ],
   "source": [
    "compare_nnr_pca = y_test_pca.copy()\n",
    "compare_nnr_pca['ArrDelay_pred'] = ArrDelay_nnr_pca\n",
    "compare_nnr_pca"
   ]
  },
  {
   "cell_type": "markdown",
   "id": "78b24fa4",
   "metadata": {},
   "source": [
    "Let' calculate Mean Squared Error and R2:"
   ]
  },
  {
   "cell_type": "code",
   "execution_count": 133,
   "id": "efd83406",
   "metadata": {},
   "outputs": [
    {
     "data": {
      "text/plain": [
       "0.00015409889756236046"
      ]
     },
     "execution_count": 133,
     "metadata": {},
     "output_type": "execute_result"
    }
   ],
   "source": [
    "MSE_nnr_pca = mean_squared_error(compare_nnr_pca.ArrDelay, compare_nnr_pca.ArrDelay_pred)\n",
    "MSE_nnr_pca"
   ]
  },
  {
   "cell_type": "code",
   "execution_count": 134,
   "id": "1fdf1244",
   "metadata": {},
   "outputs": [
    {
     "data": {
      "text/plain": [
       "0.9214518683128371"
      ]
     },
     "execution_count": 134,
     "metadata": {},
     "output_type": "execute_result"
    }
   ],
   "source": [
    "Rsq_nnr_pca = nnr_model_pca.score(x_test_pca, y_test_pca)\n",
    "Rsq_nnr_pca"
   ]
  },
  {
   "cell_type": "code",
   "execution_count": 135,
   "id": "045cc42f",
   "metadata": {},
   "outputs": [
    {
     "data": {
      "text/html": [
       "<div>\n",
       "<style scoped>\n",
       "    .dataframe tbody tr th:only-of-type {\n",
       "        vertical-align: middle;\n",
       "    }\n",
       "\n",
       "    .dataframe tbody tr th {\n",
       "        vertical-align: top;\n",
       "    }\n",
       "\n",
       "    .dataframe thead th {\n",
       "        text-align: right;\n",
       "    }\n",
       "</style>\n",
       "<table border=\"1\" class=\"dataframe\">\n",
       "  <thead>\n",
       "    <tr style=\"text-align: right;\">\n",
       "      <th></th>\n",
       "      <th>R-Square</th>\n",
       "      <th>MSE</th>\n",
       "    </tr>\n",
       "  </thead>\n",
       "  <tbody>\n",
       "    <tr>\n",
       "      <th>Multiple Linear - all data</th>\n",
       "      <td>0.925169</td>\n",
       "      <td>265.898130</td>\n",
       "    </tr>\n",
       "    <tr>\n",
       "      <th>Multiple Linear Regression</th>\n",
       "      <td>0.921937</td>\n",
       "      <td>265.746906</td>\n",
       "    </tr>\n",
       "    <tr>\n",
       "      <th>Multiple Linear Regression - PCA</th>\n",
       "      <td>0.996710</td>\n",
       "      <td>0.000012</td>\n",
       "    </tr>\n",
       "    <tr>\n",
       "      <th>Multiple Linear Regression Normalized</th>\n",
       "      <td>0.921937</td>\n",
       "      <td>17.806394</td>\n",
       "    </tr>\n",
       "    <tr>\n",
       "      <th>Neural Network (lbfgs solver)</th>\n",
       "      <td>0.977083</td>\n",
       "      <td>96.585400</td>\n",
       "    </tr>\n",
       "    <tr>\n",
       "      <th>Neural Network (normalized data, adam solver)</th>\n",
       "      <td>0.711143</td>\n",
       "      <td>0.000615</td>\n",
       "    </tr>\n",
       "    <tr>\n",
       "      <th>Neural Network - PCA</th>\n",
       "      <td>0.921452</td>\n",
       "      <td>0.000154</td>\n",
       "    </tr>\n",
       "    <tr>\n",
       "      <th>Neural Network - all data</th>\n",
       "      <td>0.975840</td>\n",
       "      <td>84.692496</td>\n",
       "    </tr>\n",
       "    <tr>\n",
       "      <th>Neural Network Regression</th>\n",
       "      <td>0.977083</td>\n",
       "      <td>94.265520</td>\n",
       "    </tr>\n",
       "    <tr>\n",
       "      <th>Random Forest (Increase max_depth)</th>\n",
       "      <td>0.930040</td>\n",
       "      <td>287.771391</td>\n",
       "    </tr>\n",
       "    <tr>\n",
       "      <th>Random Forest (Increase n_estimators)</th>\n",
       "      <td>0.937897</td>\n",
       "      <td>255.454918</td>\n",
       "    </tr>\n",
       "    <tr>\n",
       "      <th>Random Forest - all data</th>\n",
       "      <td>0.940129</td>\n",
       "      <td>34.537842</td>\n",
       "    </tr>\n",
       "    <tr>\n",
       "      <th>Random Forest Regression</th>\n",
       "      <td>0.940129</td>\n",
       "      <td>246.272838</td>\n",
       "    </tr>\n",
       "    <tr>\n",
       "      <th>Simple Linear Regression</th>\n",
       "      <td>0.903965</td>\n",
       "      <td>288.674425</td>\n",
       "    </tr>\n",
       "  </tbody>\n",
       "</table>\n",
       "</div>"
      ],
      "text/plain": [
       "                                               R-Square         MSE\n",
       "Multiple Linear - all data                     0.925169  265.898130\n",
       "Multiple Linear Regression                     0.921937  265.746906\n",
       "Multiple Linear Regression - PCA               0.996710    0.000012\n",
       "Multiple Linear Regression Normalized          0.921937   17.806394\n",
       "Neural Network (lbfgs solver)                  0.977083   96.585400\n",
       "Neural Network (normalized data, adam solver)  0.711143    0.000615\n",
       "Neural Network - PCA                           0.921452    0.000154\n",
       "Neural Network - all data                      0.975840   84.692496\n",
       "Neural Network Regression                      0.977083   94.265520\n",
       "Random Forest (Increase max_depth)             0.930040  287.771391\n",
       "Random Forest (Increase n_estimators)          0.937897  255.454918\n",
       "Random Forest - all data                       0.940129   34.537842\n",
       "Random Forest Regression                       0.940129  246.272838\n",
       "Simple Linear Regression                       0.903965  288.674425"
      ]
     },
     "execution_count": 135,
     "metadata": {},
     "output_type": "execute_result"
    }
   ],
   "source": [
    "parameters = pd.DataFrame([{'R-Square': Rsq_nnr_pca, 'MSE': MSE_nnr_pca}], index=['Neural Network - PCA'])\n",
    "df_MSE_Rsqr = df_MSE_Rsqr.append(parameters)\n",
    "df_MSE_Rsqr.sort_index()"
   ]
  },
  {
   "cell_type": "markdown",
   "id": "116eb271",
   "metadata": {},
   "source": [
    "Compared with previous Neural Neural Regressions this one has a lower R-Square and much lower MSE. This could be because the number of variables considering there are quite a few more due to dummy variables."
   ]
  },
  {
   "cell_type": "markdown",
   "id": "00550534",
   "metadata": {},
   "source": [
    "## <SPAN style=color:#1F618D>Level 3</SPAN>"
   ]
  },
  {
   "cell_type": "markdown",
   "id": "8078f79e",
   "metadata": {},
   "source": [
    "### <SPAN style=color:#1F618D>Practice 6</SPAN>"
   ]
  },
  {
   "cell_type": "markdown",
   "id": "60b7fc00",
   "metadata": {},
   "source": [
    "<SPAN style=color:#1F618D>Do not use the DepDelay variable when making predictions</SPAN>"
   ]
  },
  {
   "cell_type": "code",
   "execution_count": 136,
   "id": "5bb7c2cd",
   "metadata": {},
   "outputs": [],
   "source": [
    "x2 = flights.drop(['ArrDelay', 'DepDelay'], axis = 'columns')\n",
    "y2 = pd.DataFrame(flights.ArrDelay)\n",
    "\n",
    "x2_train, x2_test, y2_train, y2_test = train_test_split(x2, y2, test_size = 0.2, random_state = 7)"
   ]
  },
  {
   "cell_type": "code",
   "execution_count": 137,
   "id": "048f80ee",
   "metadata": {},
   "outputs": [
    {
     "data": {
      "text/plain": [
       "((8000, 23), (2000, 23), (8000, 1), (2000, 1))"
      ]
     },
     "execution_count": 137,
     "metadata": {},
     "output_type": "execute_result"
    }
   ],
   "source": [
    "x2_train.shape, x2_test.shape, y2_train.shape, y2_test.shape"
   ]
  },
  {
   "cell_type": "markdown",
   "id": "a3d758f4",
   "metadata": {},
   "source": [
    "### **Multiple Linear Regression - no DepDelay**"
   ]
  },
  {
   "cell_type": "markdown",
   "id": "6bd92ee8",
   "metadata": {},
   "source": [
    "Multicollinearity is a statistical concept where several independent variables in a model are correlated. Two variables are considered to be perfectly collinear if their correlation coefficient is +/- 1.0. Multicollinearity among independent variables will result in less reliable statistical inferences."
   ]
  },
  {
   "cell_type": "code",
   "execution_count": 138,
   "id": "fa95611d",
   "metadata": {},
   "outputs": [],
   "source": [
    "features_sel.remove('DepDelay')"
   ]
  },
  {
   "cell_type": "code",
   "execution_count": 139,
   "id": "ded65db0",
   "metadata": {},
   "outputs": [],
   "source": [
    "x2_train_mlr = x2_train[features_sel]"
   ]
  },
  {
   "cell_type": "code",
   "execution_count": 140,
   "id": "1e127dbe",
   "metadata": {},
   "outputs": [
    {
     "name": "stderr",
     "output_type": "stream",
     "text": [
      "C:\\Users\\AlbertoAR\\anaconda3\\lib\\site-packages\\statsmodels\\tsa\\tsatools.py:142: FutureWarning: In a future version of pandas all arguments of concat except for the argument 'objs' will be keyword-only\n",
      "  x = pd.concat(x[::order], 1)\n"
     ]
    }
   ],
   "source": [
    "x2_train_mlr = sm.add_constant(x2_train_mlr)"
   ]
  },
  {
   "cell_type": "code",
   "execution_count": 141,
   "id": "65f9fb72",
   "metadata": {},
   "outputs": [],
   "source": [
    "mlr_model_no = sm.OLS(y2_train.ArrDelay, x2_train_mlr).fit()"
   ]
  },
  {
   "cell_type": "code",
   "execution_count": 142,
   "id": "751023b2",
   "metadata": {
    "scrolled": false
   },
   "outputs": [
    {
     "data": {
      "text/html": [
       "<table class=\"simpletable\">\n",
       "<caption>OLS Regression Results</caption>\n",
       "<tr>\n",
       "  <th>Dep. Variable:</th>        <td>ArrDelay</td>     <th>  R-squared:         </th> <td>   0.665</td> \n",
       "</tr>\n",
       "<tr>\n",
       "  <th>Model:</th>                   <td>OLS</td>       <th>  Adj. R-squared:    </th> <td>   0.664</td> \n",
       "</tr>\n",
       "<tr>\n",
       "  <th>Method:</th>             <td>Least Squares</td>  <th>  F-statistic:       </th> <td>   3167.</td> \n",
       "</tr>\n",
       "<tr>\n",
       "  <th>Date:</th>             <td>Tue, 19 Apr 2022</td> <th>  Prob (F-statistic):</th>  <td>  0.00</td>  \n",
       "</tr>\n",
       "<tr>\n",
       "  <th>Time:</th>                 <td>16:05:26</td>     <th>  Log-Likelihood:    </th> <td> -39524.</td> \n",
       "</tr>\n",
       "<tr>\n",
       "  <th>No. Observations:</th>      <td>  8000</td>      <th>  AIC:               </th> <td>7.906e+04</td>\n",
       "</tr>\n",
       "<tr>\n",
       "  <th>Df Residuals:</th>          <td>  7994</td>      <th>  BIC:               </th> <td>7.910e+04</td>\n",
       "</tr>\n",
       "<tr>\n",
       "  <th>Df Model:</th>              <td>     5</td>      <th>                     </th>     <td> </td>    \n",
       "</tr>\n",
       "<tr>\n",
       "  <th>Covariance Type:</th>      <td>nonrobust</td>    <th>                     </th>     <td> </td>    \n",
       "</tr>\n",
       "</table>\n",
       "<table class=\"simpletable\">\n",
       "<tr>\n",
       "          <td></td>             <th>coef</th>     <th>std err</th>      <th>t</th>      <th>P>|t|</th>  <th>[0.025</th>    <th>0.975]</th>  \n",
       "</tr>\n",
       "<tr>\n",
       "  <th>const</th>             <td>   -7.7637</td> <td>    0.567</td> <td>  -13.698</td> <td> 0.000</td> <td>   -8.875</td> <td>   -6.653</td>\n",
       "</tr>\n",
       "<tr>\n",
       "  <th>CarrierDelay</th>      <td>    0.8017</td> <td>    0.010</td> <td>   79.590</td> <td> 0.000</td> <td>    0.782</td> <td>    0.821</td>\n",
       "</tr>\n",
       "<tr>\n",
       "  <th>WeatherDelay</th>      <td>    0.8976</td> <td>    0.017</td> <td>   53.879</td> <td> 0.000</td> <td>    0.865</td> <td>    0.930</td>\n",
       "</tr>\n",
       "<tr>\n",
       "  <th>NASDelay</th>          <td>    0.8760</td> <td>    0.013</td> <td>   69.925</td> <td> 0.000</td> <td>    0.851</td> <td>    0.901</td>\n",
       "</tr>\n",
       "<tr>\n",
       "  <th>SecurityDelay</th>     <td>    0.7089</td> <td>    0.242</td> <td>    2.927</td> <td> 0.003</td> <td>    0.234</td> <td>    1.184</td>\n",
       "</tr>\n",
       "<tr>\n",
       "  <th>LateAircraftDelay</th> <td>    0.8345</td> <td>    0.010</td> <td>   82.128</td> <td> 0.000</td> <td>    0.815</td> <td>    0.854</td>\n",
       "</tr>\n",
       "</table>\n",
       "<table class=\"simpletable\">\n",
       "<tr>\n",
       "  <th>Omnibus:</th>       <td>4743.780</td> <th>  Durbin-Watson:     </th> <td>   2.006</td> \n",
       "</tr>\n",
       "<tr>\n",
       "  <th>Prob(Omnibus):</th>  <td> 0.000</td>  <th>  Jarque-Bera (JB):  </th> <td>75805.110</td>\n",
       "</tr>\n",
       "<tr>\n",
       "  <th>Skew:</th>           <td>-2.541</td>  <th>  Prob(JB):          </th> <td>    0.00</td> \n",
       "</tr>\n",
       "<tr>\n",
       "  <th>Kurtosis:</th>       <td>17.199</td>  <th>  Cond. No.          </th> <td>    71.0</td> \n",
       "</tr>\n",
       "</table><br/><br/>Notes:<br/>[1] Standard Errors assume that the covariance matrix of the errors is correctly specified."
      ],
      "text/plain": [
       "<class 'statsmodels.iolib.summary.Summary'>\n",
       "\"\"\"\n",
       "                            OLS Regression Results                            \n",
       "==============================================================================\n",
       "Dep. Variable:               ArrDelay   R-squared:                       0.665\n",
       "Model:                            OLS   Adj. R-squared:                  0.664\n",
       "Method:                 Least Squares   F-statistic:                     3167.\n",
       "Date:                Tue, 19 Apr 2022   Prob (F-statistic):               0.00\n",
       "Time:                        16:05:26   Log-Likelihood:                -39524.\n",
       "No. Observations:                8000   AIC:                         7.906e+04\n",
       "Df Residuals:                    7994   BIC:                         7.910e+04\n",
       "Df Model:                           5                                         \n",
       "Covariance Type:            nonrobust                                         \n",
       "=====================================================================================\n",
       "                        coef    std err          t      P>|t|      [0.025      0.975]\n",
       "-------------------------------------------------------------------------------------\n",
       "const                -7.7637      0.567    -13.698      0.000      -8.875      -6.653\n",
       "CarrierDelay          0.8017      0.010     79.590      0.000       0.782       0.821\n",
       "WeatherDelay          0.8976      0.017     53.879      0.000       0.865       0.930\n",
       "NASDelay              0.8760      0.013     69.925      0.000       0.851       0.901\n",
       "SecurityDelay         0.7089      0.242      2.927      0.003       0.234       1.184\n",
       "LateAircraftDelay     0.8345      0.010     82.128      0.000       0.815       0.854\n",
       "==============================================================================\n",
       "Omnibus:                     4743.780   Durbin-Watson:                   2.006\n",
       "Prob(Omnibus):                  0.000   Jarque-Bera (JB):            75805.110\n",
       "Skew:                          -2.541   Prob(JB):                         0.00\n",
       "Kurtosis:                      17.199   Cond. No.                         71.0\n",
       "==============================================================================\n",
       "\n",
       "Notes:\n",
       "[1] Standard Errors assume that the covariance matrix of the errors is correctly specified.\n",
       "\"\"\""
      ]
     },
     "execution_count": 142,
     "metadata": {},
     "output_type": "execute_result"
    }
   ],
   "source": [
    "mlr_model_no.summary()"
   ]
  },
  {
   "cell_type": "code",
   "execution_count": 143,
   "id": "f787b2d8",
   "metadata": {},
   "outputs": [
    {
     "name": "stderr",
     "output_type": "stream",
     "text": [
      "C:\\Users\\AlbertoAR\\anaconda3\\lib\\site-packages\\statsmodels\\tsa\\tsatools.py:142: FutureWarning: In a future version of pandas all arguments of concat except for the argument 'objs' will be keyword-only\n",
      "  x = pd.concat(x[::order], 1)\n"
     ]
    }
   ],
   "source": [
    "x2_test_mlr = x2_test[features_sel]\n",
    "x2_test_mlr = sm.add_constant(data = x2_test_mlr)"
   ]
  },
  {
   "cell_type": "code",
   "execution_count": 144,
   "id": "9b4706f0",
   "metadata": {},
   "outputs": [],
   "source": [
    "ArrDelay_pred_no = mlr_model_no.predict(x2_test_mlr)"
   ]
  },
  {
   "cell_type": "code",
   "execution_count": 145,
   "id": "6c22dfd7",
   "metadata": {},
   "outputs": [],
   "source": [
    "ArrDelay_pred_no = pd.DataFrame(ArrDelay_pred_no, columns = ['ArrDelay_pred'])"
   ]
  },
  {
   "cell_type": "code",
   "execution_count": 146,
   "id": "610426f4",
   "metadata": {},
   "outputs": [
    {
     "data": {
      "text/html": [
       "<div>\n",
       "<style scoped>\n",
       "    .dataframe tbody tr th:only-of-type {\n",
       "        vertical-align: middle;\n",
       "    }\n",
       "\n",
       "    .dataframe tbody tr th {\n",
       "        vertical-align: top;\n",
       "    }\n",
       "\n",
       "    .dataframe thead th {\n",
       "        text-align: right;\n",
       "    }\n",
       "</style>\n",
       "<table border=\"1\" class=\"dataframe\">\n",
       "  <thead>\n",
       "    <tr style=\"text-align: right;\">\n",
       "      <th></th>\n",
       "      <th>ArrDelay</th>\n",
       "      <th>ArrDelay_pred</th>\n",
       "    </tr>\n",
       "  </thead>\n",
       "  <tbody>\n",
       "    <tr>\n",
       "      <th>1977</th>\n",
       "      <td>161</td>\n",
       "      <td>121.311456</td>\n",
       "    </tr>\n",
       "    <tr>\n",
       "      <th>3880</th>\n",
       "      <td>63</td>\n",
       "      <td>45.936366</td>\n",
       "    </tr>\n",
       "    <tr>\n",
       "      <th>52</th>\n",
       "      <td>11</td>\n",
       "      <td>35.630628</td>\n",
       "    </tr>\n",
       "    <tr>\n",
       "      <th>2551</th>\n",
       "      <td>33</td>\n",
       "      <td>20.588409</td>\n",
       "    </tr>\n",
       "    <tr>\n",
       "      <th>2246</th>\n",
       "      <td>7</td>\n",
       "      <td>19.865641</td>\n",
       "    </tr>\n",
       "    <tr>\n",
       "      <th>...</th>\n",
       "      <td>...</td>\n",
       "      <td>...</td>\n",
       "    </tr>\n",
       "    <tr>\n",
       "      <th>9505</th>\n",
       "      <td>24</td>\n",
       "      <td>11.477346</td>\n",
       "    </tr>\n",
       "    <tr>\n",
       "      <th>2836</th>\n",
       "      <td>-1</td>\n",
       "      <td>21.797027</td>\n",
       "    </tr>\n",
       "    <tr>\n",
       "      <th>1169</th>\n",
       "      <td>20</td>\n",
       "      <td>9.009336</td>\n",
       "    </tr>\n",
       "    <tr>\n",
       "      <th>9929</th>\n",
       "      <td>-13</td>\n",
       "      <td>65.703239</td>\n",
       "    </tr>\n",
       "    <tr>\n",
       "      <th>8486</th>\n",
       "      <td>20</td>\n",
       "      <td>8.270511</td>\n",
       "    </tr>\n",
       "  </tbody>\n",
       "</table>\n",
       "<p>2000 rows × 2 columns</p>\n",
       "</div>"
      ],
      "text/plain": [
       "      ArrDelay  ArrDelay_pred\n",
       "1977       161     121.311456\n",
       "3880        63      45.936366\n",
       "52          11      35.630628\n",
       "2551        33      20.588409\n",
       "2246         7      19.865641\n",
       "...        ...            ...\n",
       "9505        24      11.477346\n",
       "2836        -1      21.797027\n",
       "1169        20       9.009336\n",
       "9929       -13      65.703239\n",
       "8486        20       8.270511\n",
       "\n",
       "[2000 rows x 2 columns]"
      ]
     },
     "execution_count": 146,
     "metadata": {},
     "output_type": "execute_result"
    }
   ],
   "source": [
    "compare_no = pd.concat([y2_test, ArrDelay_pred_no], axis = 'columns')\n",
    "compare_no"
   ]
  },
  {
   "cell_type": "markdown",
   "id": "cb29b0cc",
   "metadata": {},
   "source": [
    "Let' calculate Mean Squared Error and R2:"
   ]
  },
  {
   "cell_type": "code",
   "execution_count": 147,
   "id": "9e744b88",
   "metadata": {},
   "outputs": [
    {
     "data": {
      "text/plain": [
       "1070.5050403317357"
      ]
     },
     "execution_count": 147,
     "metadata": {},
     "output_type": "execute_result"
    }
   ],
   "source": [
    "MSE_mlr_no = mean_squared_error(compare_no.ArrDelay, compare_no.ArrDelay_pred)\n",
    "MSE_mlr_no"
   ]
  },
  {
   "cell_type": "code",
   "execution_count": 148,
   "id": "575f1cf7",
   "metadata": {},
   "outputs": [
    {
     "data": {
      "text/plain": [
       "0.6645006104546811"
      ]
     },
     "execution_count": 148,
     "metadata": {},
     "output_type": "execute_result"
    }
   ],
   "source": [
    "Rsq_mlr = mlr_model_no.rsquared\n",
    "Rsq_mlr"
   ]
  },
  {
   "cell_type": "code",
   "execution_count": 149,
   "id": "e8707fa8",
   "metadata": {},
   "outputs": [
    {
     "data": {
      "text/html": [
       "<div>\n",
       "<style scoped>\n",
       "    .dataframe tbody tr th:only-of-type {\n",
       "        vertical-align: middle;\n",
       "    }\n",
       "\n",
       "    .dataframe tbody tr th {\n",
       "        vertical-align: top;\n",
       "    }\n",
       "\n",
       "    .dataframe thead th {\n",
       "        text-align: right;\n",
       "    }\n",
       "</style>\n",
       "<table border=\"1\" class=\"dataframe\">\n",
       "  <thead>\n",
       "    <tr style=\"text-align: right;\">\n",
       "      <th></th>\n",
       "      <th>R-Square</th>\n",
       "      <th>MSE</th>\n",
       "    </tr>\n",
       "  </thead>\n",
       "  <tbody>\n",
       "    <tr>\n",
       "      <th>Multiple Linear - all data</th>\n",
       "      <td>0.925169</td>\n",
       "      <td>265.898130</td>\n",
       "    </tr>\n",
       "    <tr>\n",
       "      <th>Multiple Linear - no DepDelay</th>\n",
       "      <td>0.664501</td>\n",
       "      <td>1070.505040</td>\n",
       "    </tr>\n",
       "    <tr>\n",
       "      <th>Multiple Linear Regression</th>\n",
       "      <td>0.921937</td>\n",
       "      <td>265.746906</td>\n",
       "    </tr>\n",
       "    <tr>\n",
       "      <th>Multiple Linear Regression - PCA</th>\n",
       "      <td>0.996710</td>\n",
       "      <td>0.000012</td>\n",
       "    </tr>\n",
       "    <tr>\n",
       "      <th>Multiple Linear Regression Normalized</th>\n",
       "      <td>0.921937</td>\n",
       "      <td>17.806394</td>\n",
       "    </tr>\n",
       "    <tr>\n",
       "      <th>Neural Network (lbfgs solver)</th>\n",
       "      <td>0.977083</td>\n",
       "      <td>96.585400</td>\n",
       "    </tr>\n",
       "    <tr>\n",
       "      <th>Neural Network (normalized data, adam solver)</th>\n",
       "      <td>0.711143</td>\n",
       "      <td>0.000615</td>\n",
       "    </tr>\n",
       "    <tr>\n",
       "      <th>Neural Network - PCA</th>\n",
       "      <td>0.921452</td>\n",
       "      <td>0.000154</td>\n",
       "    </tr>\n",
       "    <tr>\n",
       "      <th>Neural Network - all data</th>\n",
       "      <td>0.975840</td>\n",
       "      <td>84.692496</td>\n",
       "    </tr>\n",
       "    <tr>\n",
       "      <th>Neural Network Regression</th>\n",
       "      <td>0.977083</td>\n",
       "      <td>94.265520</td>\n",
       "    </tr>\n",
       "    <tr>\n",
       "      <th>Random Forest (Increase max_depth)</th>\n",
       "      <td>0.930040</td>\n",
       "      <td>287.771391</td>\n",
       "    </tr>\n",
       "    <tr>\n",
       "      <th>Random Forest (Increase n_estimators)</th>\n",
       "      <td>0.937897</td>\n",
       "      <td>255.454918</td>\n",
       "    </tr>\n",
       "    <tr>\n",
       "      <th>Random Forest - all data</th>\n",
       "      <td>0.940129</td>\n",
       "      <td>34.537842</td>\n",
       "    </tr>\n",
       "    <tr>\n",
       "      <th>Random Forest Regression</th>\n",
       "      <td>0.940129</td>\n",
       "      <td>246.272838</td>\n",
       "    </tr>\n",
       "    <tr>\n",
       "      <th>Simple Linear Regression</th>\n",
       "      <td>0.903965</td>\n",
       "      <td>288.674425</td>\n",
       "    </tr>\n",
       "  </tbody>\n",
       "</table>\n",
       "</div>"
      ],
      "text/plain": [
       "                                               R-Square          MSE\n",
       "Multiple Linear - all data                     0.925169   265.898130\n",
       "Multiple Linear - no DepDelay                  0.664501  1070.505040\n",
       "Multiple Linear Regression                     0.921937   265.746906\n",
       "Multiple Linear Regression - PCA               0.996710     0.000012\n",
       "Multiple Linear Regression Normalized          0.921937    17.806394\n",
       "Neural Network (lbfgs solver)                  0.977083    96.585400\n",
       "Neural Network (normalized data, adam solver)  0.711143     0.000615\n",
       "Neural Network - PCA                           0.921452     0.000154\n",
       "Neural Network - all data                      0.975840    84.692496\n",
       "Neural Network Regression                      0.977083    94.265520\n",
       "Random Forest (Increase max_depth)             0.930040   287.771391\n",
       "Random Forest (Increase n_estimators)          0.937897   255.454918\n",
       "Random Forest - all data                       0.940129    34.537842\n",
       "Random Forest Regression                       0.940129   246.272838\n",
       "Simple Linear Regression                       0.903965   288.674425"
      ]
     },
     "execution_count": 149,
     "metadata": {},
     "output_type": "execute_result"
    }
   ],
   "source": [
    "parameters = pd.DataFrame([{'R-Square': Rsq_mlr, 'MSE': MSE_mlr_no}], index=['Multiple Linear - no DepDelay'])\n",
    "df_MSE_Rsqr = df_MSE_Rsqr.append(parameters)\n",
    "df_MSE_Rsqr.sort_index()"
   ]
  },
  {
   "cell_type": "markdown",
   "id": "3213a504",
   "metadata": {},
   "source": [
    "Not considering the **DepDelay** variable results in a less accurate model. There is a very strong correlation between target variable **ArrDelay** and **DepDelay** as we saw at the beginnig of the notebook."
   ]
  },
  {
   "cell_type": "markdown",
   "id": "5c1fb99f",
   "metadata": {},
   "source": [
    "### **Random Forest Regression - no DepDelay**"
   ]
  },
  {
   "cell_type": "code",
   "execution_count": 150,
   "id": "75a6d091",
   "metadata": {},
   "outputs": [],
   "source": [
    "x_train_rfr_no = x2_train[features_sel]\n",
    "x_test_rfr_no = x2_test[features_sel]"
   ]
  },
  {
   "cell_type": "code",
   "execution_count": 151,
   "id": "8724685f",
   "metadata": {},
   "outputs": [
    {
     "data": {
      "text/plain": [
       "RandomForestRegressor(n_estimators=10, random_state=7)"
      ]
     },
     "execution_count": 151,
     "metadata": {},
     "output_type": "execute_result"
    }
   ],
   "source": [
    "rfr_model_no = RandomForestRegressor(n_estimators = 10, random_state = 7).fit(x_train_rfr_no, y2_train.ArrDelay)\n",
    "rfr_model_no"
   ]
  },
  {
   "cell_type": "code",
   "execution_count": 152,
   "id": "b3e010e6",
   "metadata": {},
   "outputs": [],
   "source": [
    "ArrDelay_pred_rfr_no = rfr_model_no.predict(x_test_rfr_no)"
   ]
  },
  {
   "cell_type": "code",
   "execution_count": 153,
   "id": "21764470",
   "metadata": {
    "scrolled": false
   },
   "outputs": [
    {
     "data": {
      "text/html": [
       "<div>\n",
       "<style scoped>\n",
       "    .dataframe tbody tr th:only-of-type {\n",
       "        vertical-align: middle;\n",
       "    }\n",
       "\n",
       "    .dataframe tbody tr th {\n",
       "        vertical-align: top;\n",
       "    }\n",
       "\n",
       "    .dataframe thead th {\n",
       "        text-align: right;\n",
       "    }\n",
       "</style>\n",
       "<table border=\"1\" class=\"dataframe\">\n",
       "  <thead>\n",
       "    <tr style=\"text-align: right;\">\n",
       "      <th></th>\n",
       "      <th>ArrDelay</th>\n",
       "      <th>ArrDelay_pred</th>\n",
       "    </tr>\n",
       "  </thead>\n",
       "  <tbody>\n",
       "    <tr>\n",
       "      <th>1977</th>\n",
       "      <td>161</td>\n",
       "      <td>162.400000</td>\n",
       "    </tr>\n",
       "    <tr>\n",
       "      <th>3880</th>\n",
       "      <td>63</td>\n",
       "      <td>26.300000</td>\n",
       "    </tr>\n",
       "    <tr>\n",
       "      <th>52</th>\n",
       "      <td>11</td>\n",
       "      <td>52.000000</td>\n",
       "    </tr>\n",
       "    <tr>\n",
       "      <th>2551</th>\n",
       "      <td>33</td>\n",
       "      <td>30.300000</td>\n",
       "    </tr>\n",
       "    <tr>\n",
       "      <th>2246</th>\n",
       "      <td>7</td>\n",
       "      <td>10.400000</td>\n",
       "    </tr>\n",
       "    <tr>\n",
       "      <th>...</th>\n",
       "      <td>...</td>\n",
       "      <td>...</td>\n",
       "    </tr>\n",
       "    <tr>\n",
       "      <th>9505</th>\n",
       "      <td>24</td>\n",
       "      <td>21.947902</td>\n",
       "    </tr>\n",
       "    <tr>\n",
       "      <th>2836</th>\n",
       "      <td>-1</td>\n",
       "      <td>15.700000</td>\n",
       "    </tr>\n",
       "    <tr>\n",
       "      <th>1169</th>\n",
       "      <td>20</td>\n",
       "      <td>13.675000</td>\n",
       "    </tr>\n",
       "    <tr>\n",
       "      <th>9929</th>\n",
       "      <td>-13</td>\n",
       "      <td>60.300000</td>\n",
       "    </tr>\n",
       "    <tr>\n",
       "      <th>8486</th>\n",
       "      <td>20</td>\n",
       "      <td>17.336512</td>\n",
       "    </tr>\n",
       "  </tbody>\n",
       "</table>\n",
       "<p>2000 rows × 2 columns</p>\n",
       "</div>"
      ],
      "text/plain": [
       "      ArrDelay  ArrDelay_pred\n",
       "1977       161     162.400000\n",
       "3880        63      26.300000\n",
       "52          11      52.000000\n",
       "2551        33      30.300000\n",
       "2246         7      10.400000\n",
       "...        ...            ...\n",
       "9505        24      21.947902\n",
       "2836        -1      15.700000\n",
       "1169        20      13.675000\n",
       "9929       -13      60.300000\n",
       "8486        20      17.336512\n",
       "\n",
       "[2000 rows x 2 columns]"
      ]
     },
     "execution_count": 153,
     "metadata": {},
     "output_type": "execute_result"
    }
   ],
   "source": [
    "compare_rfr_no = y2_test.copy()\n",
    "compare_rfr_no['ArrDelay_pred'] = ArrDelay_pred_rfr_no\n",
    "compare_rfr_no"
   ]
  },
  {
   "cell_type": "markdown",
   "id": "d2fd47ea",
   "metadata": {},
   "source": [
    "Let' calculate Mean Squared Error and R2:"
   ]
  },
  {
   "cell_type": "code",
   "execution_count": 154,
   "id": "4dbe8e00",
   "metadata": {},
   "outputs": [
    {
     "data": {
      "text/plain": [
       "1480.5598778908368"
      ]
     },
     "execution_count": 154,
     "metadata": {},
     "output_type": "execute_result"
    }
   ],
   "source": [
    "MSE_rfr_no = mean_squared_error(compare_rfr_no.ArrDelay, compare_rfr_no.ArrDelay_pred)\n",
    "MSE_rfr_no"
   ]
  },
  {
   "cell_type": "code",
   "execution_count": 155,
   "id": "74ed5bc6",
   "metadata": {},
   "outputs": [
    {
     "data": {
      "text/plain": [
       "0.6400640876644348"
      ]
     },
     "execution_count": 155,
     "metadata": {},
     "output_type": "execute_result"
    }
   ],
   "source": [
    "Rsq_rfr_no = rfr_model_no.score(x_test_rfr_no, y2_test)\n",
    "Rsq_rfr_no"
   ]
  },
  {
   "cell_type": "code",
   "execution_count": 156,
   "id": "4684d748",
   "metadata": {},
   "outputs": [
    {
     "data": {
      "text/html": [
       "<div>\n",
       "<style scoped>\n",
       "    .dataframe tbody tr th:only-of-type {\n",
       "        vertical-align: middle;\n",
       "    }\n",
       "\n",
       "    .dataframe tbody tr th {\n",
       "        vertical-align: top;\n",
       "    }\n",
       "\n",
       "    .dataframe thead th {\n",
       "        text-align: right;\n",
       "    }\n",
       "</style>\n",
       "<table border=\"1\" class=\"dataframe\">\n",
       "  <thead>\n",
       "    <tr style=\"text-align: right;\">\n",
       "      <th></th>\n",
       "      <th>R-Square</th>\n",
       "      <th>MSE</th>\n",
       "    </tr>\n",
       "  </thead>\n",
       "  <tbody>\n",
       "    <tr>\n",
       "      <th>Multiple Linear - all data</th>\n",
       "      <td>0.925169</td>\n",
       "      <td>265.898130</td>\n",
       "    </tr>\n",
       "    <tr>\n",
       "      <th>Multiple Linear - no DepDelay</th>\n",
       "      <td>0.664501</td>\n",
       "      <td>1070.505040</td>\n",
       "    </tr>\n",
       "    <tr>\n",
       "      <th>Multiple Linear Regression</th>\n",
       "      <td>0.921937</td>\n",
       "      <td>265.746906</td>\n",
       "    </tr>\n",
       "    <tr>\n",
       "      <th>Multiple Linear Regression - PCA</th>\n",
       "      <td>0.996710</td>\n",
       "      <td>0.000012</td>\n",
       "    </tr>\n",
       "    <tr>\n",
       "      <th>Multiple Linear Regression Normalized</th>\n",
       "      <td>0.921937</td>\n",
       "      <td>17.806394</td>\n",
       "    </tr>\n",
       "    <tr>\n",
       "      <th>Neural Network (lbfgs solver)</th>\n",
       "      <td>0.977083</td>\n",
       "      <td>96.585400</td>\n",
       "    </tr>\n",
       "    <tr>\n",
       "      <th>Neural Network (normalized data, adam solver)</th>\n",
       "      <td>0.711143</td>\n",
       "      <td>0.000615</td>\n",
       "    </tr>\n",
       "    <tr>\n",
       "      <th>Neural Network - PCA</th>\n",
       "      <td>0.921452</td>\n",
       "      <td>0.000154</td>\n",
       "    </tr>\n",
       "    <tr>\n",
       "      <th>Neural Network - all data</th>\n",
       "      <td>0.975840</td>\n",
       "      <td>84.692496</td>\n",
       "    </tr>\n",
       "    <tr>\n",
       "      <th>Neural Network Regression</th>\n",
       "      <td>0.977083</td>\n",
       "      <td>94.265520</td>\n",
       "    </tr>\n",
       "    <tr>\n",
       "      <th>Random Forest (Increase max_depth)</th>\n",
       "      <td>0.930040</td>\n",
       "      <td>287.771391</td>\n",
       "    </tr>\n",
       "    <tr>\n",
       "      <th>Random Forest (Increase n_estimators)</th>\n",
       "      <td>0.937897</td>\n",
       "      <td>255.454918</td>\n",
       "    </tr>\n",
       "    <tr>\n",
       "      <th>Random Forest - all data</th>\n",
       "      <td>0.940129</td>\n",
       "      <td>34.537842</td>\n",
       "    </tr>\n",
       "    <tr>\n",
       "      <th>Random Forest - no DepDelay</th>\n",
       "      <td>0.640064</td>\n",
       "      <td>1480.559878</td>\n",
       "    </tr>\n",
       "    <tr>\n",
       "      <th>Random Forest Regression</th>\n",
       "      <td>0.940129</td>\n",
       "      <td>246.272838</td>\n",
       "    </tr>\n",
       "    <tr>\n",
       "      <th>Simple Linear Regression</th>\n",
       "      <td>0.903965</td>\n",
       "      <td>288.674425</td>\n",
       "    </tr>\n",
       "  </tbody>\n",
       "</table>\n",
       "</div>"
      ],
      "text/plain": [
       "                                               R-Square          MSE\n",
       "Multiple Linear - all data                     0.925169   265.898130\n",
       "Multiple Linear - no DepDelay                  0.664501  1070.505040\n",
       "Multiple Linear Regression                     0.921937   265.746906\n",
       "Multiple Linear Regression - PCA               0.996710     0.000012\n",
       "Multiple Linear Regression Normalized          0.921937    17.806394\n",
       "Neural Network (lbfgs solver)                  0.977083    96.585400\n",
       "Neural Network (normalized data, adam solver)  0.711143     0.000615\n",
       "Neural Network - PCA                           0.921452     0.000154\n",
       "Neural Network - all data                      0.975840    84.692496\n",
       "Neural Network Regression                      0.977083    94.265520\n",
       "Random Forest (Increase max_depth)             0.930040   287.771391\n",
       "Random Forest (Increase n_estimators)          0.937897   255.454918\n",
       "Random Forest - all data                       0.940129    34.537842\n",
       "Random Forest - no DepDelay                    0.640064  1480.559878\n",
       "Random Forest Regression                       0.940129   246.272838\n",
       "Simple Linear Regression                       0.903965   288.674425"
      ]
     },
     "execution_count": 156,
     "metadata": {},
     "output_type": "execute_result"
    }
   ],
   "source": [
    "parameters = pd.DataFrame([{'R-Square': Rsq_rfr_no, 'MSE': MSE_rfr_no}], index=['Random Forest - no DepDelay'])\n",
    "df_MSE_Rsqr = df_MSE_Rsqr.append(parameters)\n",
    "df_MSE_Rsqr.sort_index()"
   ]
  },
  {
   "cell_type": "markdown",
   "id": "227358ed",
   "metadata": {},
   "source": [
    "### **Neural Network Regression - no DepDelay**"
   ]
  },
  {
   "cell_type": "code",
   "execution_count": 157,
   "id": "5330a9b6",
   "metadata": {},
   "outputs": [],
   "source": [
    "x_train_nnr_no = x2_train[features_sel]\n",
    "x_test_nnr_no = x2_test[features_sel]"
   ]
  },
  {
   "cell_type": "code",
   "execution_count": 158,
   "id": "c633161e",
   "metadata": {},
   "outputs": [
    {
     "data": {
      "text/plain": [
       "MLPRegressor(hidden_layer_sizes=(5, 5, 5), max_iter=500, random_state=7)"
      ]
     },
     "execution_count": 158,
     "metadata": {},
     "output_type": "execute_result"
    }
   ],
   "source": [
    "nnr_model_no = MLPRegressor(hidden_layer_sizes=(len(x_train_nnr_no.columns),len(x_train_nnr_no.columns),len(x_train_nnr_no.columns)), \n",
    "                         activation='relu', solver='adam', random_state=7, max_iter=500).fit(x_train_nnr_no, y2_train.ArrDelay)\n",
    "nnr_model_no"
   ]
  },
  {
   "cell_type": "code",
   "execution_count": 159,
   "id": "cd576cf6",
   "metadata": {},
   "outputs": [],
   "source": [
    "ArrDelay_pred_nnr_no = nnr_model_no.predict(x_test_nnr_no)"
   ]
  },
  {
   "cell_type": "code",
   "execution_count": 160,
   "id": "893797ff",
   "metadata": {},
   "outputs": [
    {
     "data": {
      "text/html": [
       "<div>\n",
       "<style scoped>\n",
       "    .dataframe tbody tr th:only-of-type {\n",
       "        vertical-align: middle;\n",
       "    }\n",
       "\n",
       "    .dataframe tbody tr th {\n",
       "        vertical-align: top;\n",
       "    }\n",
       "\n",
       "    .dataframe thead th {\n",
       "        text-align: right;\n",
       "    }\n",
       "</style>\n",
       "<table border=\"1\" class=\"dataframe\">\n",
       "  <thead>\n",
       "    <tr style=\"text-align: right;\">\n",
       "      <th></th>\n",
       "      <th>ArrDelay</th>\n",
       "      <th>ArrDelay_pred</th>\n",
       "    </tr>\n",
       "  </thead>\n",
       "  <tbody>\n",
       "    <tr>\n",
       "      <th>1977</th>\n",
       "      <td>161</td>\n",
       "      <td>135.785250</td>\n",
       "    </tr>\n",
       "    <tr>\n",
       "      <th>3880</th>\n",
       "      <td>63</td>\n",
       "      <td>32.399223</td>\n",
       "    </tr>\n",
       "    <tr>\n",
       "      <th>52</th>\n",
       "      <td>11</td>\n",
       "      <td>42.239847</td>\n",
       "    </tr>\n",
       "    <tr>\n",
       "      <th>2551</th>\n",
       "      <td>33</td>\n",
       "      <td>13.582237</td>\n",
       "    </tr>\n",
       "    <tr>\n",
       "      <th>2246</th>\n",
       "      <td>7</td>\n",
       "      <td>21.736148</td>\n",
       "    </tr>\n",
       "    <tr>\n",
       "      <th>...</th>\n",
       "      <td>...</td>\n",
       "      <td>...</td>\n",
       "    </tr>\n",
       "    <tr>\n",
       "      <th>9505</th>\n",
       "      <td>24</td>\n",
       "      <td>15.756125</td>\n",
       "    </tr>\n",
       "    <tr>\n",
       "      <th>2836</th>\n",
       "      <td>-1</td>\n",
       "      <td>20.074529</td>\n",
       "    </tr>\n",
       "    <tr>\n",
       "      <th>1169</th>\n",
       "      <td>20</td>\n",
       "      <td>11.515434</td>\n",
       "    </tr>\n",
       "    <tr>\n",
       "      <th>9929</th>\n",
       "      <td>-13</td>\n",
       "      <td>54.581400</td>\n",
       "    </tr>\n",
       "    <tr>\n",
       "      <th>8486</th>\n",
       "      <td>20</td>\n",
       "      <td>12.251625</td>\n",
       "    </tr>\n",
       "  </tbody>\n",
       "</table>\n",
       "<p>2000 rows × 2 columns</p>\n",
       "</div>"
      ],
      "text/plain": [
       "      ArrDelay  ArrDelay_pred\n",
       "1977       161     135.785250\n",
       "3880        63      32.399223\n",
       "52          11      42.239847\n",
       "2551        33      13.582237\n",
       "2246         7      21.736148\n",
       "...        ...            ...\n",
       "9505        24      15.756125\n",
       "2836        -1      20.074529\n",
       "1169        20      11.515434\n",
       "9929       -13      54.581400\n",
       "8486        20      12.251625\n",
       "\n",
       "[2000 rows x 2 columns]"
      ]
     },
     "execution_count": 160,
     "metadata": {},
     "output_type": "execute_result"
    }
   ],
   "source": [
    "compare_nnr_no = y_test.copy()\n",
    "compare_nnr_no['ArrDelay_pred'] = ArrDelay_pred_nnr_no\n",
    "compare_nnr_no"
   ]
  },
  {
   "cell_type": "markdown",
   "id": "b4382f97",
   "metadata": {},
   "source": [
    "Let' calculate Mean Squared Error and R2:"
   ]
  },
  {
   "cell_type": "code",
   "execution_count": 161,
   "id": "3dc082e4",
   "metadata": {},
   "outputs": [
    {
     "data": {
      "text/plain": [
       "992.553434711853"
      ]
     },
     "execution_count": 161,
     "metadata": {},
     "output_type": "execute_result"
    }
   ],
   "source": [
    "MSE_nnr_no = mean_squared_error(compare_nnr_no.ArrDelay, compare_nnr_no.ArrDelay_pred)\n",
    "MSE_nnr_no"
   ]
  },
  {
   "cell_type": "code",
   "execution_count": 162,
   "id": "a6f40f22",
   "metadata": {},
   "outputs": [
    {
     "data": {
      "text/plain": [
       "0.7587023453764357"
      ]
     },
     "execution_count": 162,
     "metadata": {},
     "output_type": "execute_result"
    }
   ],
   "source": [
    "Rsq_nnr = nnr_model_no.score(x_test_nnr_no, y2_test)\n",
    "Rsq_nnr"
   ]
  },
  {
   "cell_type": "code",
   "execution_count": 163,
   "id": "5a793c38",
   "metadata": {},
   "outputs": [
    {
     "data": {
      "text/html": [
       "<div>\n",
       "<style scoped>\n",
       "    .dataframe tbody tr th:only-of-type {\n",
       "        vertical-align: middle;\n",
       "    }\n",
       "\n",
       "    .dataframe tbody tr th {\n",
       "        vertical-align: top;\n",
       "    }\n",
       "\n",
       "    .dataframe thead th {\n",
       "        text-align: right;\n",
       "    }\n",
       "</style>\n",
       "<table border=\"1\" class=\"dataframe\">\n",
       "  <thead>\n",
       "    <tr style=\"text-align: right;\">\n",
       "      <th></th>\n",
       "      <th>R-Square</th>\n",
       "      <th>MSE</th>\n",
       "    </tr>\n",
       "  </thead>\n",
       "  <tbody>\n",
       "    <tr>\n",
       "      <th>Multiple Linear - all data</th>\n",
       "      <td>0.925169</td>\n",
       "      <td>265.898130</td>\n",
       "    </tr>\n",
       "    <tr>\n",
       "      <th>Multiple Linear - no DepDelay</th>\n",
       "      <td>0.664501</td>\n",
       "      <td>1070.505040</td>\n",
       "    </tr>\n",
       "    <tr>\n",
       "      <th>Multiple Linear Regression</th>\n",
       "      <td>0.921937</td>\n",
       "      <td>265.746906</td>\n",
       "    </tr>\n",
       "    <tr>\n",
       "      <th>Multiple Linear Regression - PCA</th>\n",
       "      <td>0.996710</td>\n",
       "      <td>0.000012</td>\n",
       "    </tr>\n",
       "    <tr>\n",
       "      <th>Multiple Linear Regression Normalized</th>\n",
       "      <td>0.921937</td>\n",
       "      <td>17.806394</td>\n",
       "    </tr>\n",
       "    <tr>\n",
       "      <th>Neural Network (lbfgs solver)</th>\n",
       "      <td>0.977083</td>\n",
       "      <td>96.585400</td>\n",
       "    </tr>\n",
       "    <tr>\n",
       "      <th>Neural Network (normalized data, adam solver)</th>\n",
       "      <td>0.711143</td>\n",
       "      <td>0.000615</td>\n",
       "    </tr>\n",
       "    <tr>\n",
       "      <th>Neural Network - PCA</th>\n",
       "      <td>0.921452</td>\n",
       "      <td>0.000154</td>\n",
       "    </tr>\n",
       "    <tr>\n",
       "      <th>Neural Network - all data</th>\n",
       "      <td>0.975840</td>\n",
       "      <td>84.692496</td>\n",
       "    </tr>\n",
       "    <tr>\n",
       "      <th>Neural Network - no DepDelay</th>\n",
       "      <td>0.640064</td>\n",
       "      <td>1480.559878</td>\n",
       "    </tr>\n",
       "    <tr>\n",
       "      <th>Neural Network Regression</th>\n",
       "      <td>0.977083</td>\n",
       "      <td>94.265520</td>\n",
       "    </tr>\n",
       "    <tr>\n",
       "      <th>Random Forest (Increase max_depth)</th>\n",
       "      <td>0.930040</td>\n",
       "      <td>287.771391</td>\n",
       "    </tr>\n",
       "    <tr>\n",
       "      <th>Random Forest (Increase n_estimators)</th>\n",
       "      <td>0.937897</td>\n",
       "      <td>255.454918</td>\n",
       "    </tr>\n",
       "    <tr>\n",
       "      <th>Random Forest - all data</th>\n",
       "      <td>0.940129</td>\n",
       "      <td>34.537842</td>\n",
       "    </tr>\n",
       "    <tr>\n",
       "      <th>Random Forest - no DepDelay</th>\n",
       "      <td>0.640064</td>\n",
       "      <td>1480.559878</td>\n",
       "    </tr>\n",
       "    <tr>\n",
       "      <th>Random Forest Regression</th>\n",
       "      <td>0.940129</td>\n",
       "      <td>246.272838</td>\n",
       "    </tr>\n",
       "    <tr>\n",
       "      <th>Simple Linear Regression</th>\n",
       "      <td>0.903965</td>\n",
       "      <td>288.674425</td>\n",
       "    </tr>\n",
       "  </tbody>\n",
       "</table>\n",
       "</div>"
      ],
      "text/plain": [
       "                                               R-Square          MSE\n",
       "Multiple Linear - all data                     0.925169   265.898130\n",
       "Multiple Linear - no DepDelay                  0.664501  1070.505040\n",
       "Multiple Linear Regression                     0.921937   265.746906\n",
       "Multiple Linear Regression - PCA               0.996710     0.000012\n",
       "Multiple Linear Regression Normalized          0.921937    17.806394\n",
       "Neural Network (lbfgs solver)                  0.977083    96.585400\n",
       "Neural Network (normalized data, adam solver)  0.711143     0.000615\n",
       "Neural Network - PCA                           0.921452     0.000154\n",
       "Neural Network - all data                      0.975840    84.692496\n",
       "Neural Network - no DepDelay                   0.640064  1480.559878\n",
       "Neural Network Regression                      0.977083    94.265520\n",
       "Random Forest (Increase max_depth)             0.930040   287.771391\n",
       "Random Forest (Increase n_estimators)          0.937897   255.454918\n",
       "Random Forest - all data                       0.940129    34.537842\n",
       "Random Forest - no DepDelay                    0.640064  1480.559878\n",
       "Random Forest Regression                       0.940129   246.272838\n",
       "Simple Linear Regression                       0.903965   288.674425"
      ]
     },
     "execution_count": 163,
     "metadata": {},
     "output_type": "execute_result"
    }
   ],
   "source": [
    "parameters = pd.DataFrame([{'R-Square': Rsq_rfr_no, 'MSE': MSE_rfr_no}], index=['Neural Network - no DepDelay'])\n",
    "df_MSE_Rsqr = df_MSE_Rsqr.append(parameters)\n",
    "df_MSE_Rsqr.sort_index()"
   ]
  },
  {
   "cell_type": "markdown",
   "id": "ef4093aa",
   "metadata": {},
   "source": [
    "As we said, the model doesn't predict nearly as well if we don't consider **DepDelay** as it has a very strong correlation with our target variable **ArrDelay**."
   ]
  }
 ],
 "metadata": {
  "kernelspec": {
   "display_name": "Python 3 (ipykernel)",
   "language": "python",
   "name": "python3"
  },
  "language_info": {
   "codemirror_mode": {
    "name": "ipython",
    "version": 3
   },
   "file_extension": ".py",
   "mimetype": "text/x-python",
   "name": "python",
   "nbconvert_exporter": "python",
   "pygments_lexer": "ipython3",
   "version": "3.9.7"
  }
 },
 "nbformat": 4,
 "nbformat_minor": 5
}
